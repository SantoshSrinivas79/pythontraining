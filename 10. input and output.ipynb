{
 "cells": [
  {
   "cell_type": "markdown",
   "metadata": {},
   "source": [
    "# 输入与输出"
   ]
  },
  {
   "cell_type": "markdown",
   "metadata": {},
   "source": [
    "## 输出格式美化\n",
    "Python两种输出值的方式: 表达式语句和 print() 函数。\n",
    "\n",
    "第三种方式是使用文件对象的 write() 方法，标准输出文件可以用 sys.stdout 引用。\n",
    "\n",
    "如果你希望输出的形式更加多样，可以使用 str.format() 函数来格式化输出值。\n",
    "\n",
    "如果你希望将输出的值转成字符串，可以使用 repr() 或 str() 函数来实现。\n",
    "* str() 函数返回一个用户易读的表达形式\n",
    "* repr() 产生一个解释器易读的表达形式"
   ]
  },
  {
   "cell_type": "code",
   "execution_count": 2,
   "metadata": {},
   "outputs": [
    {
     "name": "stdout",
     "output_type": "stream",
     "text": [
      "Hello, Runoob\n",
      "'Hello, Runoob'\n",
      "0.14285714285714285\n",
      "x 的值为： 32.5,  y 的值为：40000...\n",
      "'hello, runoob\\n'\n",
      "hello, runoob\n",
      "\n",
      "(32.5, 40000, ('Google', 'Runoob'))\n"
     ]
    }
   ],
   "source": [
    "s = 'Hello, Runoob'\n",
    "print(str(s))\n",
    "print(repr(s))\n",
    "print(str(1/7))\n",
    "x = 10 * 3.25\n",
    "y = 200 * 200\n",
    "s = 'x 的值为： ' + repr(x) + ',  y 的值为：' + repr(y) + '...'\n",
    "print(s)\n",
    "\n",
    "#  repr() 函数可以转义字符串中的特殊字符\n",
    "hello = 'hello, runoob\\n'\n",
    "hellorepr = repr(hello)\n",
    "print(hellorepr)\n",
    "hellostr = str(hello)\n",
    "print(hellostr)\n",
    "\n",
    "\n",
    "# repr() 的参数可以是 Python 的任何对象\n",
    "print(repr((x, y, ('Google', 'Runoob'))))"
   ]
  },
  {
   "cell_type": "markdown",
   "metadata": {},
   "source": [
    "这里有两种方式输出一个平方与立方的表\n",
    "\n",
    "rjust: 返回一个原字符串右对齐,并使用空格填充至长度 width 的新字符串。如果指定的长度小于字符串的长度则返回原字符串。"
   ]
  },
  {
   "cell_type": "code",
   "execution_count": 31,
   "metadata": {},
   "outputs": [
    {
     "name": "stdout",
     "output_type": "stream",
     "text": [
      " 1   1    1\n",
      " 2   4    8\n",
      " 3   9   27\n",
      " 4  16   64\n",
      " 5  25  125\n",
      " 6  36  216\n",
      " 7  49  343\n",
      " 8  64  512\n",
      " 9  81  729\n",
      "10 100 1000\n"
     ]
    }
   ],
   "source": [
    "for x in range(1, 11):\n",
    "    print(repr(x).rjust(2), repr(x*x).rjust(3), end=' ')\n",
    "    # 注意前一行 'end' 的使用\n",
    "    print(repr(x*x*x).rjust(4))"
   ]
  },
  {
   "cell_type": "markdown",
   "metadata": {},
   "source": [
    "下面这张格式化的写法，与上面的写法等价"
   ]
  },
  {
   "cell_type": "code",
   "execution_count": 5,
   "metadata": {},
   "outputs": [
    {
     "name": "stdout",
     "output_type": "stream",
     "text": [
      " 1    1     1\n",
      " 2    4     8\n",
      " 3    9    27\n",
      " 4   16    64\n",
      " 5   25   125\n",
      " 6   36   216\n",
      " 7   49   343\n",
      " 8   64   512\n",
      " 9   81   729\n",
      "10  100  1000\n"
     ]
    }
   ],
   "source": [
    "for x in range(1, 11):\n",
    "    print('{0:2d} {1:3d} {2:4d}'.format(x, x*x, x*x*x))"
   ]
  },
  {
   "cell_type": "markdown",
   "metadata": {},
   "source": [
    "### 空格填充\n",
    "注意：在第一个例子中, 每列间的空格由 print() 添加。\n",
    "\n",
    "这个例子展示了字符串对象的 rjust() 方法, 它可以将字符串靠右, 并在左边填充空格。\n",
    "\n",
    "还有类似的方法, 如 ljust() 和 center()。 这些方法并不会写任何东西, 它们仅仅返回新的字符串。\n",
    "\n",
    "另一个方法 zfill(), 它会在数字的左边填充 0，如下所示："
   ]
  },
  {
   "cell_type": "code",
   "execution_count": 10,
   "metadata": {},
   "outputs": [
    {
     "name": "stdout",
     "output_type": "stream",
     "text": [
      "00012\n",
      "-003.14\n",
      "3.14159265359\n",
      "000333\n"
     ]
    }
   ],
   "source": [
    "print('12'.zfill(5))\n",
    "print('-3.14'.zfill(7))\n",
    "print('3.14159265359'.zfill(5))\n",
    "print('333'.zfill(6))  #填充深市股票代码"
   ]
  },
  {
   "cell_type": "markdown",
   "metadata": {},
   "source": [
    "### 字符串格式化：str.format()\n",
    "str.format() 的基本使用如下:"
   ]
  },
  {
   "cell_type": "code",
   "execution_count": 34,
   "metadata": {},
   "outputs": [
    {
     "name": "stdout",
     "output_type": "stream",
     "text": [
      "晨星网址： \"www.morningstar.com!\"\n"
     ]
    }
   ],
   "source": [
    "print('{0}网址： \"{1}!\"'.format('晨星', 'www.morningstar.com'))"
   ]
  },
  {
   "cell_type": "markdown",
   "metadata": {},
   "source": [
    "括号及其里面的字符 (称作格式化字段) 将会被 format() 中的参数替换。\n",
    "\n",
    "在括号中的数字用于指向传入对象在 format() 中的位置，如下所示："
   ]
  },
  {
   "cell_type": "code",
   "execution_count": 12,
   "metadata": {},
   "outputs": [
    {
     "name": "stdout",
     "output_type": "stream",
     "text": [
      "Google 和 Facebook\n",
      "Facebook 和 Google\n"
     ]
    }
   ],
   "source": [
    "print('{0} 和 {1}'.format('Google', 'Facebook'))\n",
    "print('{1} 和 {0}'.format('Google', 'Facebook'))"
   ]
  },
  {
   "cell_type": "markdown",
   "metadata": {},
   "source": [
    "如果在 format() 中使用了关键字参数, 那么它们的值会指向使用该名字的参数"
   ]
  },
  {
   "cell_type": "code",
   "execution_count": 13,
   "metadata": {},
   "outputs": [
    {
     "name": "stdout",
     "output_type": "stream",
     "text": [
      "晨星网址： www.morningstar.com\n"
     ]
    }
   ],
   "source": [
    "print('{name}网址： {site}'.format(name='晨星', site='www.morningstar.com'))"
   ]
  },
  {
   "cell_type": "markdown",
   "metadata": {},
   "source": [
    "位置及关键字参数可以任意的结合"
   ]
  },
  {
   "cell_type": "code",
   "execution_count": 14,
   "metadata": {},
   "outputs": [
    {
     "name": "stdout",
     "output_type": "stream",
     "text": [
      "站点列表 Google, Morningstar, 和 Taobao。\n"
     ]
    }
   ],
   "source": [
    "print('站点列表 {0}, {1}, 和 {other}。'.format('Google', 'Morningstar', other='Taobao'))"
   ]
  },
  {
   "cell_type": "markdown",
   "metadata": {},
   "source": [
    "'!a' (使用 ascii()), '!s' (使用 str()) 和 '!r' (使用 repr()) 可以用于在格式化某个值之前对其进行转化:"
   ]
  },
  {
   "cell_type": "code",
   "execution_count": 18,
   "metadata": {},
   "outputs": [
    {
     "name": "stdout",
     "output_type": "stream",
     "text": [
      "常量 PI 的值近似为： 3.141592653589793。\n",
      "常量 PI 的值近似为： 3.141592653589793。\n"
     ]
    }
   ],
   "source": [
    "import math\n",
    "print('常量 PI 的值近似为： {!s}。'.format(math.pi))\n",
    "print('常量 PI 的值近似为： {!r}。'.format(math.pi))"
   ]
  },
  {
   "cell_type": "markdown",
   "metadata": {},
   "source": [
    "可选项 ':' 和格式标识符可以跟着字段名。 这就允许对值进行更好的格式化。 下面的例子将 Pi 保留到小数点后三位"
   ]
  },
  {
   "cell_type": "code",
   "execution_count": 19,
   "metadata": {},
   "outputs": [
    {
     "name": "stdout",
     "output_type": "stream",
     "text": [
      "常量 PI 的值近似为 3.142。\n"
     ]
    }
   ],
   "source": [
    "import math\n",
    "print('常量 PI 的值近似为 {0:.3f}。'.format(math.pi))"
   ]
  },
  {
   "cell_type": "markdown",
   "metadata": {},
   "source": [
    "在 ':' 后传入一个整数, 可以保证该域至少有这么多的宽度。 用于美化表格时很有用"
   ]
  },
  {
   "cell_type": "code",
   "execution_count": 25,
   "metadata": {},
   "outputs": [
    {
     "name": "stdout",
     "output_type": "stream",
     "text": [
      "Google     ==>          1\n",
      "Youdao     ==>          2\n",
      "Taobao     ==>          3\n"
     ]
    }
   ],
   "source": [
    "table = {'Google': 1, 'Youdao': 2, 'Taobao': 3}\n",
    "for name, number in table.items():\n",
    "    print('{0:10} ==> {1:10d}'.format(name, number))"
   ]
  },
  {
   "cell_type": "markdown",
   "metadata": {},
   "source": [
    "如果你有一个很长的格式化字符串, 而你不想将它们分开, 那么在格式化时通过变量名而非位置会是很好的事情。\n",
    "\n",
    "最简单的就是传入一个字典, 然后使用方括号 '[]' 来访问键值 :"
   ]
  },
  {
   "cell_type": "code",
   "execution_count": 29,
   "metadata": {},
   "outputs": [
    {
     "name": "stdout",
     "output_type": "stream",
     "text": [
      "Morningstar: 2; Google: 1; Taobao: 3\n"
     ]
    }
   ],
   "source": [
    "table = {'Google': 1, 'Morningstar': 2, 'Taobao': 3}\n",
    "print('Morningstar: {0[Morningstar]:d}; Google: {0[Google]:d}; Taobao: {0[Taobao]:d}'.format(table))"
   ]
  },
  {
   "cell_type": "markdown",
   "metadata": {},
   "source": [
    "也可以通过在 table 变量前使用 '\\*\\*' 来实现相同的功能："
   ]
  },
  {
   "cell_type": "code",
   "execution_count": 30,
   "metadata": {},
   "outputs": [
    {
     "name": "stdout",
     "output_type": "stream",
     "text": [
      "Runoob: 2; Google: 1; Taobao: 3\n"
     ]
    }
   ],
   "source": [
    "table = {'Google': 1, 'Morningstar': 2, 'Taobao': 3}\n",
    "print('Runoob: {Morningstar:d}; Google: {Google:d}; Taobao: {Taobao:d}'.format(**table))"
   ]
  },
  {
   "cell_type": "markdown",
   "metadata": {},
   "source": [
    "## 旧式字符串格式化"
   ]
  },
  {
   "cell_type": "markdown",
   "metadata": {},
   "source": [
    "% 操作符也可以实现字符串格式化。 它将左边的参数作为类似 sprintf() 式的格式化字符串, 而将右边的代入, 然后返回格式化后的字符串. 例如"
   ]
  },
  {
   "cell_type": "code",
   "execution_count": 35,
   "metadata": {
    "scrolled": true
   },
   "outputs": [
    {
     "name": "stdout",
     "output_type": "stream",
     "text": [
      "常量 PI 的值近似为：3.142。\n"
     ]
    }
   ],
   "source": [
    "import math\n",
    "print('常量 PI 的值近似为：%5.3f。' % math.pi)"
   ]
  },
  {
   "cell_type": "markdown",
   "metadata": {},
   "source": [
    "因为 str.format() 比较新的函数， 大多数的 Python 代码仍然使用 % 操作符。但是因为这种旧式的格式化最终会从该语言中移除, 应该更多的使用 str.format()."
   ]
  },
  {
   "cell_type": "markdown",
   "metadata": {},
   "source": [
    "## 文件操作"
   ]
  },
  {
   "cell_type": "markdown",
   "metadata": {},
   "source": [
    "Python 提供了必要的函数和方法进行默认情况下的文件基本操作。你可以用 file 对象做大部分的文件操作"
   ]
  },
  {
   "cell_type": "markdown",
   "metadata": {},
   "source": [
    "### open函数"
   ]
  },
  {
   "cell_type": "markdown",
   "metadata": {},
   "source": [
    "你必须先用Python内置的open()函数打开一个文件，创建一个file对象，相关的方法才可以调用它进行读写。\n",
    "```file object = open(file_name [, access_mode][, buffering])```\n",
    "各个参数的细节如下：\n",
    "- file_name：file_name变量是一个包含了你要访问的文件名称的字符串值。\n",
    "- access_mode：access_mode决定了打开文件的模式：只读，写入，追加等。所有可取值见如下的完全列表。这个参数是非强制的，默认文件访问模式为只读(r)。\n",
    "- buffering:如果buffering的值被设为0，就不会有寄存。如果buffering的值取1，访问文件时会寄存行。如果将buffering的值设为大于1的整数，表明了这就是的寄存区的缓冲大小。如果取负值，寄存区的缓冲大小则为系统默认。"
   ]
  },
  {
   "cell_type": "markdown",
   "metadata": {},
   "source": [
    "<img src='./image/openfile.png' />"
   ]
  },
  {
   "cell_type": "markdown",
   "metadata": {},
   "source": [
    "文件处理的模式"
   ]
  },
  {
   "cell_type": "markdown",
   "metadata": {},
   "source": [
    "<img src='./image/filemode.png' />"
   ]
  },
  {
   "cell_type": "markdown",
   "metadata": {},
   "source": [
    "下图很好的说明的文件处理的各个模式的差异：\n",
    "<img src='./image/filemode2.png' />"
   ]
  },
  {
   "cell_type": "markdown",
   "metadata": {},
   "source": [
    "示例："
   ]
  },
  {
   "cell_type": "code",
   "execution_count": 1,
   "metadata": {},
   "outputs": [
    {
     "name": "stdout",
     "output_type": "stream",
     "text": [
      "【导读】在经历成千上万个小时机器学习训练时间后，计算机并不是唯一学到很多东西的角色，作为开发者和训练者的我们也犯了很多错误，修复了许多错误，从而积累了很多经验。在本文中，作者基于自己的经验（主要基于 TensorFlow）提出了一些训练神经网络的建议，还结合了案例，可以说是过来人的实践技巧了。\n",
      "\n",
      "通用技巧\n",
      "\n",
      "有些技巧对你来说可能就是明摆着的事，但在某些时候可能却并非如此，也可能存在不适用的情况，甚至对你的特定任务来说，可能不是一个好的技巧，所以使用时需要务必要谨慎！\n",
      "\n",
      "▌使用 ADAM 优化器\n",
      "\n",
      "确实很有效。与更传统的优化器相比，如 Vanilla 梯度下降法，我们更喜欢用ADAM优化器。用 TensorFlow 时要注意：如果保存和恢复模型权重，请记住在设置完AdamOptimizer 后设置 Saver，因为 ADAM 也有需要恢复的状态（即每个权重的学习率）。\n",
      "\n",
      "▌ReLU 是最好的非线性(激活函数)\n",
      "\n",
      "就好比 Sublime 是最好的文本编辑器一样。ReLU 快速、简单，而且，令人惊讶的是，它们工作时，不会发生梯度递减的情况。虽然 sigmoid 是常见的激活函数之一，但它并不能很好地在 DNN 进行传播梯度。\n",
      "\n",
      "▌不要在输出层使用激活函数\n",
      "\n",
      "这应该是显而易见的道理，但如果使用共享函数构建每个层，那就很容易犯这样的错误：所以请确保在输出层不要使用激活函数。\n",
      "\n",
      "▌请在每一个层添加一个偏差\n",
      "\n",
      "这是 ML 的入门知识了：偏差本质上就是将平面转换到最佳拟合位置。在 y=mx+b 中，b 是偏差，允许曲线上下移动到“最佳拟合”位置。\n",
      "\n",
      "▌使用方差缩放（variance-scaled）初始化\n",
      "\n",
      "在 Tensorflow 中，这看起来像tf.reemaner.variance_scaling_initializer()。根据我们的经验，这比常规的高斯函数、截尾正态分布（truncated normal）和 Xavier 能更好地泛化/缩放。\n",
      "\n"
     ]
    }
   ],
   "source": [
    "myfile = open('./txt/readsample.txt', encoding='utf-8', mode='r')\n",
    "\n",
    "for index, line in enumerate(myfile.readlines()):\n",
    "    if len(line.strip()) > 0:\n",
    "        print(line)\n",
    "    if index == 20:\n",
    "        break\n",
    "myfile.close()"
   ]
  },
  {
   "cell_type": "markdown",
   "metadata": {},
   "source": [
    "#### 使用迭代器获取“大文件”的内容"
   ]
  },
  {
   "cell_type": "code",
   "execution_count": 29,
   "metadata": {},
   "outputs": [],
   "source": [
    "def read_file(fpath): \n",
    "    BLOCK_SIZE = 100 \n",
    "    with open(fpath, 'r', encoding='utf-8') as f: \n",
    "        while True: \n",
    "            block = f.read(BLOCK_SIZE) \n",
    "            if block: \n",
    "                yield block \n",
    "            else: \n",
    "                return"
   ]
  },
  {
   "cell_type": "code",
   "execution_count": 30,
   "metadata": {},
   "outputs": [
    {
     "name": "stdout",
     "output_type": "stream",
     "text": [
      "---1---\n",
      "【导读】在经历成千上万个小时机器学习训练时间后，计算机并不是唯一学到很多东西的角色，作为开发者和训练者的我们也犯了很多错误，修复了许多错误，从而积累了很多经验。在本文中，作者基于自己的经验（主要基于\n",
      "---2---\n",
      "TensorFlow）提出了一些训练神经网络的建议，还结合了案例，可以说是过来人的实践技巧了。\n",
      "\n",
      "通用技巧\n",
      "有些技巧对你来说可能就是明摆着的事，但在某些时候可能却并非如此，也可能存在不适用的情况，甚至\n",
      "---3---\n",
      "对你的特定任务来说，可能不是一个好的技巧，所以使用时需要务必要谨慎！\n",
      "\n",
      "▌使用 ADAM 优化器\n",
      "确实很有效。与更传统的优化器相比，如 Vanilla 梯度下降法，我们更喜欢用ADAM优化器。用 Te\n",
      "---4---\n",
      "nsorFlow 时要注意：如果保存和恢复模型权重，请记住在设置完AdamOptimizer 后设置 Saver，因为 ADAM 也有需要恢复的状态（即每个权重的学习率）。\n",
      "\n",
      "▌ReLU 是最好的非线\n"
     ]
    }
   ],
   "source": [
    "mytext = read_file('./txt/readsample.txt')\n",
    "print('---1---')\n",
    "print(next(mytext).strip())\n",
    "print('---2---')\n",
    "print(next(mytext).strip())\n",
    "print('---3---')\n",
    "print(next(mytext).strip())\n",
    "print('---4---')\n",
    "print(next(mytext).strip())"
   ]
  },
  {
   "cell_type": "markdown",
   "metadata": {},
   "source": [
    "### 文件操作的诀窍"
   ]
  },
  {
   "cell_type": "markdown",
   "metadata": {},
   "source": [
    "#### 暴力遍历文件及文件夹"
   ]
  },
  {
   "cell_type": "code",
   "execution_count": 89,
   "metadata": {},
   "outputs": [
    {
     "name": "stdout",
     "output_type": "stream",
     "text": [
      "./nlpmodel/corpus.dict\n",
      "./nlpmodel/corpus.mm\n",
      "./nlpmodel/corpus.mm.index\n",
      "./nlpmodel/vacategorymodelrawtext.csv\n",
      "./nlpmodel/vadoccategorydoc2vec.model\n",
      "./nlpmodel/flair\n",
      "./nlpmodel/lstm\n",
      "./nlpmodel/pkuseg\n",
      "./nlpmodel/text8\n",
      "./nlpmodel/flair/spam\n",
      "./nlpmodel/flair/spam/best-model.pt\n",
      "./nlpmodel/flair/spam/final-model.pt\n",
      "./nlpmodel/flair/spam/loss.tsv\n",
      "./nlpmodel/flair/spam/training.log\n",
      "./nlpmodel/flair/spam/weights.txt\n",
      "./nlpmodel/lstm/addedbinary.csv\n",
      "./nlpmodel/lstm/addedbinarybilstm.h5\n",
      "./nlpmodel/lstm/addedbinarybilstm.json\n",
      "./nlpmodel/lstm/addedbinarybilstm.yaml\n",
      "./nlpmodel/lstm/addedbinarybilstm_weight.h5\n",
      "./nlpmodel/lstm/multiplecategory.csv\n",
      "./nlpmodel/lstm/multiplecategorybilstm.h5\n",
      "./nlpmodel/lstm/multiplecategorybilstm.json\n",
      "./nlpmodel/lstm/multiplecategorybilstm.yaml\n",
      "./nlpmodel/lstm/multiplecategorybilstm_weight.h5\n",
      "./nlpmodel/lstm/modellog\n",
      "./nlpmodel/lstm/modellog/bilstm_epoch_100_batchsize_64_20181226.txt\n",
      "./nlpmodel/lstm/modellog/bilstm_epoch_500_batchsize_64_20181226.txt\n",
      "./nlpmodel/pkuseg/weibo\n",
      "./nlpmodel/pkuseg/weibo/bigram_word.txt\n",
      "./nlpmodel/pkuseg/weibo/featureIndex.txt_0\n",
      "./nlpmodel/pkuseg/weibo/featureIndex.txt_1\n",
      "./nlpmodel/pkuseg/weibo/featureIndex.txt_2\n",
      "./nlpmodel/pkuseg/weibo/featureIndex.txt_3\n",
      "./nlpmodel/pkuseg/weibo/featureIndex.txt_4\n",
      "./nlpmodel/pkuseg/weibo/featureIndex.txt_5\n",
      "./nlpmodel/pkuseg/weibo/featureIndex.txt_6\n",
      "./nlpmodel/pkuseg/weibo/featureIndex.txt_7\n",
      "./nlpmodel/pkuseg/weibo/featureIndex.txt_8\n",
      "./nlpmodel/pkuseg/weibo/featureIndex.txt_9\n",
      "./nlpmodel/pkuseg/weibo/featureSet.txt_0\n",
      "./nlpmodel/pkuseg/weibo/featureSet.txt_1\n",
      "./nlpmodel/pkuseg/weibo/featureSet.txt_2\n",
      "./nlpmodel/pkuseg/weibo/featureSet.txt_3\n",
      "./nlpmodel/pkuseg/weibo/featureSet.txt_4\n",
      "./nlpmodel/pkuseg/weibo/featureSet.txt_5\n",
      "./nlpmodel/pkuseg/weibo/featureSet.txt_6\n",
      "./nlpmodel/pkuseg/weibo/featureSet.txt_7\n",
      "./nlpmodel/pkuseg/weibo/featureSet.txt_8\n",
      "./nlpmodel/pkuseg/weibo/featureSet.txt_9\n",
      "./nlpmodel/pkuseg/weibo/model.txt\n",
      "./nlpmodel/pkuseg/weibo/tagIndex.txt\n",
      "./nlpmodel/pkuseg/weibo/unigram_word.txt\n",
      "./nlpmodel/text8/text8\n",
      "./nlpmodel/text8/text8.w2v.model\n",
      "./nlpmodel/text8/text8.w2v.model.trainables.syn1neg.npy\n",
      "./nlpmodel/text8/text8.w2v.model.wv.vectors.npy\n"
     ]
    }
   ],
   "source": [
    "import os\n",
    "for (root, dirs, files) in os.walk('./nlpmodel'):\n",
    "    for filename in files:\n",
    "        print(os.path.join(root, filename).replace('\\\\', '/'))\n",
    "    for dir in dirs:\n",
    "        print(os.path.join(root, dir).replace('\\\\', '/'))"
   ]
  },
  {
   "cell_type": "markdown",
   "metadata": {},
   "source": [
    "#### 创建文件夹"
   ]
  },
  {
   "cell_type": "markdown",
   "metadata": {},
   "source": [
    "##### 创建单个文件夹"
   ]
  },
  {
   "cell_type": "code",
   "execution_count": 90,
   "metadata": {},
   "outputs": [],
   "source": [
    "import os\n",
    "if not os.path.exists('./testcreatedir'):\n",
    "    os.mkdir('./testcreatedir')"
   ]
  },
  {
   "cell_type": "code",
   "execution_count": 91,
   "metadata": {},
   "outputs": [
    {
     "name": "stdout",
     "output_type": "stream",
     "text": [
      "True\n"
     ]
    }
   ],
   "source": [
    "print(os.path.exists('./testcreatedir'))"
   ]
  },
  {
   "cell_type": "markdown",
   "metadata": {},
   "source": [
    "##### 创建文件夹及子文件夹"
   ]
  },
  {
   "cell_type": "code",
   "execution_count": 93,
   "metadata": {},
   "outputs": [],
   "source": [
    "if not os.path.exists('./testcreatedir/mydir/data'):\n",
    "    os.makedirs('./testcreatedir/mydir/data')\n",
    "\n",
    "if not os.path.exists('./testcreatedir/mydir/document'):\n",
    "    os.makedirs('./testcreatedir/mydir/document')"
   ]
  },
  {
   "cell_type": "code",
   "execution_count": 94,
   "metadata": {},
   "outputs": [
    {
     "name": "stdout",
     "output_type": "stream",
     "text": [
      "./testcreatedir/mydir\n",
      "./testcreatedir/mydir/data\n",
      "./testcreatedir/mydir/document\n"
     ]
    }
   ],
   "source": [
    "for (root, dirs, files) in os.walk('./testcreatedir'):\n",
    "    for dir in dirs:\n",
    "        print(os.path.join(root, dir).replace('\\\\', '/'))"
   ]
  },
  {
   "cell_type": "markdown",
   "metadata": {},
   "source": [
    "##### 在子文件夹创建文本文件"
   ]
  },
  {
   "cell_type": "code",
   "execution_count": 95,
   "metadata": {},
   "outputs": [],
   "source": [
    "for (root, dirs, files) in os.walk('./testcreatedir'):\n",
    "    for index, dir in enumerate(dirs):\n",
    "        folder = os.path.join(root, dir).replace('\\\\', '/')\n",
    "        filename = os.path.join(folder, 'text_{0}.txt'.format(index))\n",
    "        with open(filename, 'w', encoding='utf-8') as f: \n",
    "            f.write('This is the sentence for {0}'.format(filename))"
   ]
  },
  {
   "cell_type": "code",
   "execution_count": 96,
   "metadata": {},
   "outputs": [
    {
     "name": "stdout",
     "output_type": "stream",
     "text": [
      "./testcreatedir/mydir/text_0.txt\n",
      "./testcreatedir/mydir/data/text_0.txt\n",
      "./testcreatedir/mydir/document/text_1.txt\n"
     ]
    }
   ],
   "source": [
    "for (root, dirs, files) in os.walk('./testcreatedir'):\n",
    "    for filename in files:\n",
    "        print(os.path.join(root, filename).replace('\\\\', '/'))"
   ]
  },
  {
   "cell_type": "markdown",
   "metadata": {},
   "source": [
    "读取文件内容"
   ]
  },
  {
   "cell_type": "code",
   "execution_count": 97,
   "metadata": {},
   "outputs": [
    {
     "name": "stdout",
     "output_type": "stream",
     "text": [
      "This is the sentence for ./testcreatedir/mydir/document\\text_1.txt\n"
     ]
    }
   ],
   "source": [
    "with open('./testcreatedir/mydir/document/text_1.txt', 'r', encoding='utf-8') as f: \n",
    "    print(f.read())"
   ]
  },
  {
   "cell_type": "markdown",
   "metadata": {},
   "source": [
    "#### 文件以及文件夹复制"
   ]
  },
  {
   "cell_type": "markdown",
   "metadata": {},
   "source": [
    "我们通过引入shutil这个包，完成一些文件复制操作"
   ]
  },
  {
   "cell_type": "code",
   "execution_count": 98,
   "metadata": {},
   "outputs": [],
   "source": [
    "import shutil"
   ]
  },
  {
   "cell_type": "markdown",
   "metadata": {},
   "source": [
    "##### 单个文件复制"
   ]
  },
  {
   "cell_type": "code",
   "execution_count": 100,
   "metadata": {},
   "outputs": [
    {
     "data": {
      "text/plain": [
       "'./testcreatedir/mydir/data/text_1.txt'"
      ]
     },
     "execution_count": 100,
     "metadata": {},
     "output_type": "execute_result"
    }
   ],
   "source": [
    "sourcepath = r'./testcreatedir/mydir/data/text_0.txt'\n",
    "destpath = r'./testcreatedir/mydir/data/text_1.txt'\n",
    "shutil.copy(sourcepath, destpath)"
   ]
  },
  {
   "cell_type": "code",
   "execution_count": 101,
   "metadata": {},
   "outputs": [
    {
     "name": "stdout",
     "output_type": "stream",
     "text": [
      "./testcreatedir/mydir/data/text_0.txt\n",
      "./testcreatedir/mydir/data/text_1.txt\n"
     ]
    }
   ],
   "source": [
    "for (root, dirs, files) in os.walk('./testcreatedir/mydir/data'):\n",
    "    for filename in files:\n",
    "        print(os.path.join(root, filename).replace('\\\\', '/'))"
   ]
  },
  {
   "cell_type": "markdown",
   "metadata": {},
   "source": [
    "#### 文件夹复制"
   ]
  },
  {
   "cell_type": "code",
   "execution_count": 102,
   "metadata": {},
   "outputs": [],
   "source": [
    "sourcepath = r'./testcreatedir/mydir/data'\n",
    "destpath = r'./testcreatedir/mydir/copydata'\n",
    "if os.path.exists(sourcepath) and not os.path.exists(destpath):\n",
    "    shutil.copytree(sourcepath, destpath, ignore=shutil.ignore_patterns('*.git'))"
   ]
  },
  {
   "cell_type": "code",
   "execution_count": 103,
   "metadata": {},
   "outputs": [
    {
     "name": "stdout",
     "output_type": "stream",
     "text": [
      "./testcreatedir/mydir/text_0.txt\n",
      "./testcreatedir/mydir/copydata/text_0.txt\n",
      "./testcreatedir/mydir/copydata/text_1.txt\n",
      "./testcreatedir/mydir/data/text_0.txt\n",
      "./testcreatedir/mydir/data/text_1.txt\n",
      "./testcreatedir/mydir/document/text_1.txt\n"
     ]
    }
   ],
   "source": [
    "for (root, dirs, files) in os.walk('./testcreatedir/mydir'):\n",
    "    for filename in files:\n",
    "        print(os.path.join(root, filename).replace('\\\\', '/'))"
   ]
  },
  {
   "cell_type": "markdown",
   "metadata": {},
   "source": [
    "#### 文件夹或文件重命名"
   ]
  },
  {
   "cell_type": "markdown",
   "metadata": {},
   "source": [
    "文件夹重命名"
   ]
  },
  {
   "cell_type": "code",
   "execution_count": 105,
   "metadata": {},
   "outputs": [],
   "source": [
    "if not os.path.exists(r'./testcreatedir/mydir/renamedcopydata'):\n",
    "    shutil.move(r'./testcreatedir/mydir/copydata', r'./testcreatedir/mydir/renamedcopydata')"
   ]
  },
  {
   "cell_type": "markdown",
   "metadata": {},
   "source": [
    "文件重命名"
   ]
  },
  {
   "cell_type": "code",
   "execution_count": 106,
   "metadata": {},
   "outputs": [],
   "source": [
    "if not os.path.exists(r'./testcreatedir/mydir/renamedcopydata/text_0_rename.txt'):\n",
    "    shutil.move(r'./testcreatedir/mydir/renamedcopydata/text_0.txt', \n",
    "                r'./testcreatedir/mydir/renamedcopydata/text_0_rename.txt')"
   ]
  },
  {
   "cell_type": "markdown",
   "metadata": {},
   "source": [
    "#### 压缩与解压文件"
   ]
  },
  {
   "cell_type": "code",
   "execution_count": 107,
   "metadata": {},
   "outputs": [],
   "source": [
    "import zipfile\n",
    "import traceback"
   ]
  },
  {
   "cell_type": "code",
   "execution_count": 108,
   "metadata": {},
   "outputs": [
    {
     "name": "stdout",
     "output_type": "stream",
     "text": [
      "['./testcreatedir/mydir/data/text_0.txt', './testcreatedir/mydir/data/text_1.txt']\n"
     ]
    }
   ],
   "source": [
    "rootfolder = r'./testcreatedir/mydir'\n",
    "filelist = []\n",
    "for (root, dirs, files) in os.walk('./testcreatedir/mydir/data'):\n",
    "    for filename in files:\n",
    "        filelist.append(os.path.join(root, filename).replace('\\\\', '/'))\n",
    "print(filelist)"
   ]
  },
  {
   "cell_type": "markdown",
   "metadata": {},
   "source": [
    "将全路径包含在压缩包中："
   ]
  },
  {
   "cell_type": "code",
   "execution_count": 109,
   "metadata": {},
   "outputs": [],
   "source": [
    "zippedfile = os.path.join(rootfolder, 'datawithfullpath.zip')\n",
    "zip = zipfile.ZipFile(zippedfile, 'w', zipfile.ZIP_DEFLATED)\n",
    "for file in filelist:\n",
    "    try:\n",
    "        zip.write(file)\n",
    "    except Exception as e:\n",
    "        traceback.print_exc()\n",
    "zip.close()"
   ]
  },
  {
   "cell_type": "markdown",
   "metadata": {},
   "source": [
    "压缩包只包含文件，不包含原有的文件夹："
   ]
  },
  {
   "cell_type": "code",
   "execution_count": 110,
   "metadata": {},
   "outputs": [],
   "source": [
    "zippedfile = os.path.join(rootfolder, 'puredata.zip')\n",
    "zip = zipfile.ZipFile(zippedfile, 'w', zipfile.ZIP_DEFLATED)\n",
    "for file in filelist:\n",
    "    try:\n",
    "        purename = os.path.basename(file)\n",
    "        zip.write(file, purename)\n",
    "    except Exception as e:\n",
    "        traceback.print_exc()\n",
    "zip.close()"
   ]
  },
  {
   "cell_type": "markdown",
   "metadata": {},
   "source": [
    "解压"
   ]
  },
  {
   "cell_type": "code",
   "execution_count": 111,
   "metadata": {},
   "outputs": [],
   "source": [
    "zip = zipfile.ZipFile(zippedfile, 'r')\n",
    "# help(zip.extractall)\n",
    "zip.extractall(path=r'./testcreatedir/mydir/extracteddata')\n",
    "zip.close()"
   ]
  },
  {
   "cell_type": "markdown",
   "metadata": {},
   "source": [
    "#### 级联删除目录及文件"
   ]
  },
  {
   "cell_type": "markdown",
   "metadata": {},
   "source": [
    "级联删除，即删除某目录下的所有文件、子目录以及子目录中的文件"
   ]
  },
  {
   "cell_type": "code",
   "execution_count": 112,
   "metadata": {},
   "outputs": [],
   "source": [
    "needdeletefolder = r'./testcreatedir'\n",
    "if os.path.exists(r'./testcreatedir'):\n",
    "    shutil.rmtree(needdeletefolder)"
   ]
  },
  {
   "cell_type": "code",
   "execution_count": null,
   "metadata": {},
   "outputs": [],
   "source": []
  }
 ],
 "metadata": {
  "kernelspec": {
   "display_name": "Python 3",
   "language": "python",
   "name": "python3"
  },
  "language_info": {
   "codemirror_mode": {
    "name": "ipython",
    "version": 3
   },
   "file_extension": ".py",
   "mimetype": "text/x-python",
   "name": "python",
   "nbconvert_exporter": "python",
   "pygments_lexer": "ipython3",
   "version": "3.6.2"
  },
  "toc": {
   "base_numbering": 1,
   "nav_menu": {},
   "number_sections": true,
   "sideBar": true,
   "skip_h1_title": false,
   "title_cell": "Table of Contents",
   "title_sidebar": "Contents",
   "toc_cell": false,
   "toc_position": {},
   "toc_section_display": true,
   "toc_window_display": false
  }
 },
 "nbformat": 4,
 "nbformat_minor": 2
}
