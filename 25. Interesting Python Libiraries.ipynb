{
 "cells": [
  {
   "cell_type": "markdown",
   "metadata": {},
   "source": [
    "# Interesting  Python Libraries"
   ]
  },
  {
   "cell_type": "markdown",
   "metadata": {},
   "source": [
    "## 1. Faker"
   ]
  },
  {
   "cell_type": "markdown",
   "metadata": {},
   "source": [
    "在软件需求、开发、测试过程中，有时候需要使用一些测试数据，针对这种情况，我们一般要么使用已有的系统数据，要么需要手动制造一些数据。\n",
    "\n",
    "在手动制造数据的过程中，可能需要花费大量精力和工作量，现在好了，有一个Python包能够协助你完成这方面的工作。"
   ]
  },
  {
   "cell_type": "markdown",
   "metadata": {},
   "source": [
    "### 1.1 什么是Faker?"
   ]
  },
  {
   "cell_type": "markdown",
   "metadata": {},
   "source": [
    "Faker是一个Python包，开源的GITHUB项目，主要用来创建伪数据，使用Faker包，无需再手动生成或者手写随机数来生成数据，只需要调用Faker提供的方法，即可完成数据的生成。\n",
    "\n",
    "项目地址: https://github.com/joke2k/faker"
   ]
  },
  {
   "cell_type": "markdown",
   "metadata": {},
   "source": [
    "<img src='./image/faker_1.png' />"
   ]
  },
  {
   "cell_type": "markdown",
   "metadata": {},
   "source": [
    "### 1.2 安装Faker\n",
    "\n",
    "方法一：\n",
    "\n",
    "```pip install faker```\n",
    "\n",
    "方法二：通过上方提供的github地址，下载编译安装\n",
    "\n",
    "进入clone下来的faker文件夹：\n",
    "\n",
    "```python setup.py build```\n",
    "\n",
    "```python setup.py install```"
   ]
  },
  {
   "cell_type": "markdown",
   "metadata": {},
   "source": [
    "### 1.3 Faker的使用"
   ]
  },
  {
   "cell_type": "markdown",
   "metadata": {},
   "source": [
    "Faker的官方文档：[Welcome to Faker’s documentation!](https://faker.readthedocs.io/en/master/index.html)"
   ]
  },
  {
   "cell_type": "code",
   "execution_count": 2,
   "metadata": {},
   "outputs": [],
   "source": [
    "# 引用包\n",
    "from faker import Faker\n",
    "# 初始化\n",
    "fakecn = Faker(locale='zh_CN')"
   ]
  },
  {
   "cell_type": "markdown",
   "metadata": {},
   "source": [
    "关于初始化参数locale：为生成数据的文化选项，默认为en_US，只有使用了相关文化，才能生成相对应的随机信息（比如：名字，地址，邮编，城市，省份等）"
   ]
  },
  {
   "cell_type": "markdown",
   "metadata": {},
   "source": [
    "可选择的文化信息："
   ]
  },
  {
   "cell_type": "markdown",
   "metadata": {},
   "source": [
    "ar_EG - Arabic (Egypt)\n",
    "\n",
    "ar_PS - Arabic (Palestine)\n",
    "\n",
    "ar_SA - Arabic (Saudi Arabia)\n",
    "\n",
    "bs_BA - Bosnian\n",
    "\n",
    "bg_BG - Bulgarian\n",
    "\n",
    "cs_CZ - Czech\n",
    "\n",
    "de_DE - German\n",
    "\n",
    "dk_DK - Danish\n",
    "\n",
    "el_GR - Greek\n",
    "\n",
    "en_AU - English (Australia)\n",
    "\n",
    "en_CA - English (Canada)\n",
    "\n",
    "en_GB - English (Great Britain)\n",
    "\n",
    "en_NZ - English (New Zealand)\n",
    "\n",
    "en_US - English (United States)\n",
    "\n",
    "es_ES - Spanish (Spain)\n",
    "\n",
    "es_MX - Spanish (Mexico)\n",
    "\n",
    "et_EE - Estonian\n",
    "\n",
    "fa_IR - Persian (Iran)\n",
    "\n",
    "fi_FI - Finnish\n",
    "\n",
    "fr_FR - French\n",
    "\n",
    "hi_IN - Hindi\n",
    "\n",
    "hr_HR - Croatian\n",
    "\n",
    "hu_HU - Hungarian\n",
    "\n",
    "it_IT - Italian\n",
    "\n",
    "ja_JP - Japanese\n",
    "\n",
    "ko_KR - Korean\n",
    "\n",
    "lt_LT - Lithuanian\n",
    "\n",
    "lv_LV - Latvian\n",
    "\n",
    "ne_NP - Nepali\n",
    "\n",
    "nl_NL - Dutch (Netherlands)\n",
    "\n",
    "no_NO - Norwegian\n",
    "\n",
    "pl_PL - Polish\n",
    "\n",
    "pt_BR - Portuguese (Brazil)\n",
    "\n",
    "pt_PT - Portuguese (Portugal)\n",
    "\n",
    "ro_RO - Romanian\n",
    "\n",
    "ru_RU - Russian\n",
    "\n",
    "sl_SI - Slovene\n",
    "\n",
    "sv_SE - Swedish\n",
    "\n",
    "tr_TR - Turkish\n",
    "\n",
    "uk_UA - Ukrainian\n",
    "\n",
    "zh_CN - Chinese (China)\n",
    "\n",
    "zh_TW - Chinese (Taiwan)\n",
    "\n",
    "ka_GE - Georgian (Georgia)"
   ]
  },
  {
   "cell_type": "markdown",
   "metadata": {},
   "source": [
    "然后即可使用系统提供的方法："
   ]
  },
  {
   "cell_type": "code",
   "execution_count": 39,
   "metadata": {},
   "outputs": [
    {
     "name": "stdout",
     "output_type": "stream",
     "text": [
      "随机姓名地址与日期\n",
      "郁秀荣 山西省玉县怀柔淮安街E座 807709 1976-01-28\n",
      "寇坤 山东省乌鲁木齐县牧野濮路F座 101445 2018-08-01\n",
      "关飞 福建省关岭市魏都台北街n座 655753 1983-06-03\n",
      "任岩 安徽省合山市新城帅路l座 130400 2005-09-27\n",
      "吴梅 内蒙古自治区兰州县吉区沈阳街G座 918795 2000-06-28\n",
      "都桂芳 广西壮族自治区银川市龙潭诸路B座 990403 2001-08-24\n",
      "李明 河南省东县友好邴街O座 545619 2003-06-25\n",
      "宓鑫 广东省婷婷市白云汕尾路H座 944860 1974-02-16\n",
      "雕坤 新疆维吾尔自治区璐县清浦訾路Z座 727394 2004-02-19\n"
     ]
    }
   ],
   "source": [
    "print(\"随机姓名地址与日期\")\n",
    "for i in range(1, 10):\n",
    "    print(fakecn.name() + \" \" + fakecn.address() + \" \" + fakecn.date())"
   ]
  },
  {
   "cell_type": "code",
   "execution_count": 50,
   "metadata": {},
   "outputs": [
    {
     "name": "stdout",
     "output_type": "stream",
     "text": [
      "随机男性名,备注：非常不靠谱\n",
      "杨秀云\n",
      "轩桂兰\n",
      "骆冬梅\n",
      "弓玉\n",
      "章浩\n",
      "詹博\n",
      "席强\n",
      "阙桂花\n",
      "向荣\n",
      "\n",
      "随机女性名\n",
      "孙英\n",
      "缪霞\n",
      "上宁\n",
      "东雷\n",
      "毋龙\n",
      "滕荣\n",
      "孔凤英\n",
      "湛秀云\n",
      "戎宇\n"
     ]
    }
   ],
   "source": [
    "print('随机中国男性名,备注：非常不靠谱')\n",
    "for i in range(1, 10):\n",
    "    print(fakecn.name_male())\n",
    "print()\n",
    "print('随机中国女性名')\n",
    "for i in range(1, 10):\n",
    "    print(fakecn.name_female())"
   ]
  },
  {
   "cell_type": "code",
   "execution_count": 53,
   "metadata": {},
   "outputs": [
    {
     "name": "stdout",
     "output_type": "stream",
     "text": [
      "随机日本男性名\n",
      "田中 亮介\n",
      "小林 翼\n",
      "野村 康弘\n",
      "山岸 稔\n",
      "藤本 健一\n",
      "田辺 篤司\n",
      "野村 康弘\n",
      "伊藤 洋介\n",
      "吉田 洋介\n",
      "\n",
      "随机日本女性名\n",
      "津田 くみ子\n",
      "斉藤 香織\n",
      "井高 直子\n",
      "津田 香織\n",
      "吉田 真綾\n",
      "田辺 真綾\n",
      "江古田 七夏\n",
      "吉本 裕美子\n",
      "西之園 明美\n"
     ]
    }
   ],
   "source": [
    "print('随机日本男性名')\n",
    "for i in range(1, 10):\n",
    "    print(fakejs.name_male())\n",
    "print()\n",
    "print('随机日本女性名')\n",
    "for i in range(1, 10):\n",
    "    print(fakejs.name_female())"
   ]
  },
  {
   "cell_type": "code",
   "execution_count": 54,
   "metadata": {},
   "outputs": [
    {
     "name": "stdout",
     "output_type": "stream",
     "text": [
      "随机美国男性名\n",
      "Mr. Richard Harmon\n",
      "Jason Sanders\n",
      "Todd Brooks\n",
      "James Oconnor\n",
      "Kenneth Chavez\n",
      "David Hernandez\n",
      "Matthew Drake\n",
      "Trevor Blake\n",
      "Mark Young\n",
      "\n",
      "随机美国女性名\n",
      "Marie Garrett\n",
      "Sherry Holmes\n",
      "Sarah Valdez\n",
      "Laurie Martin\n",
      "Tammy Mitchell\n",
      "Rebecca Beard\n",
      "Cathy Vargas\n",
      "Eileen Robertson\n",
      "Christine Grant\n"
     ]
    }
   ],
   "source": [
    "print('随机美国男性名')\n",
    "for i in range(1, 10):\n",
    "    print(fakeus.name_male())\n",
    "print()\n",
    "print('随机美国女性名')\n",
    "for i in range(1, 10):\n",
    "    print(fakeus.name_female())"
   ]
  },
  {
   "cell_type": "code",
   "execution_count": 4,
   "metadata": {},
   "outputs": [
    {
     "name": "stdout",
     "output_type": "stream",
     "text": [
      "Tiffany Smith 130 Joseph Estates\n",
      "Robertsfort, MA 80180 1997-06-07\n",
      "Catherine Adams Unit 2181 Box 2854\n",
      "DPO AE 06477 1998-12-10\n",
      "Jennifer Francis 0521 John Ville\n",
      "Savannahstad, NY 77136 1998-12-12\n",
      "Kimberly Hernandez 9032 Hannah Expressway Suite 841\n",
      "Mariahfort, OH 10893 2017-06-04\n",
      "Samantha Tate 403 Patrick Squares Suite 050\n",
      "North Edward, NM 78721 1978-06-16\n",
      "Rachel Fox 429 Foster Villages Suite 715\n",
      "Margaretburgh, OH 60820 1998-03-26\n",
      "Christopher Ross 818 Rivas Groves Suite 949\n",
      "Kimberlymouth, AL 07559 2008-09-15\n",
      "Kelly Sparks 11743 Chen Way Suite 386\n",
      "East Ryanville, UT 18170 2013-12-22\n",
      "Bryan Wells 3889 Nunez Springs Suite 873\n",
      "Millerstad, MO 90437 1992-09-13\n"
     ]
    }
   ],
   "source": [
    "# 地址设置为美国\n",
    "fakeus = Faker(locale='en_US')\n",
    "for i in range(1, 10):\n",
    "    print(fakeus.name() + \" \" + fakeus.address() + \" \" + fakeus.date())"
   ]
  },
  {
   "cell_type": "code",
   "execution_count": 5,
   "metadata": {},
   "outputs": [
    {
     "name": "stdout",
     "output_type": "stream",
     "text": [
      "津田 京助 滋賀県川崎市幸区高輪36丁目11番14号 ハイツ大京町420 2006-01-22\n",
      "佐々木 拓真 富山県港区中小来川5丁目1番9号 パーク秋葉原308 1992-10-08\n",
      "小泉 和也 新潟県印旛郡印旛村鳥越28丁目18番8号 シャルム浅草橋927 1970-06-02\n",
      "大垣 七夏 神奈川県浦安市竜泉19丁目22番7号 パーク幸手183 2010-05-15\n",
      "渚 聡太郎 徳島県川崎市多摩区東神田32丁目7番15号 コーポ豊町345 1972-12-16\n",
      "田辺 直人 島根県多摩市幸手3丁目18番7号 勝どきクレスト806 1989-06-20\n",
      "田辺 千代 富山県横浜市都筑区脚折町41丁目18番17号 橋場コーポ516 2004-10-17\n",
      "原田 直人 大分県葛飾区脚折26丁目10番19号 二つ室ハイツ703 1992-07-07\n",
      "笹田 篤司 長崎県横浜市戸塚区押上12丁目25番8号 アーバン筑土八幡町462 2016-09-19\n"
     ]
    }
   ],
   "source": [
    "# 地址设置为日本\n",
    "fakejs = Faker(locale='ja_JP')\n",
    "for i in range(1, 10):\n",
    "    print(fakejs.name() + \" \" + fakejs.address() + \" \" + fakejs.date())"
   ]
  },
  {
   "cell_type": "code",
   "execution_count": 8,
   "metadata": {},
   "outputs": [
    {
     "name": "stdout",
     "output_type": "stream",
     "text": [
      "MFC 403\n",
      "76Z 444\n",
      "102 UVG\n",
      "971-XKD\n",
      "960-WEC\n",
      "4BQJ037\n",
      "P06-83M\n",
      "KCZ-2502\n",
      "PWJ 087\n"
     ]
    }
   ],
   "source": [
    "# 生成汽车牌照\n",
    "for i in range(1, 10):\n",
    "    print(fakeus.license_plate())"
   ]
  },
  {
   "cell_type": "code",
   "execution_count": 17,
   "metadata": {},
   "outputs": [
    {
     "name": "stdout",
     "output_type": "stream",
     "text": [
      "中国公司\n",
      "\n",
      "公司前缀: 合联电子, 公司后缀: 信息有限公司\n",
      "公司前缀: 立信电子, 公司后缀: 信息有限公司\n",
      "公司前缀: 诺依曼软件, 公司后缀: 信息有限公司\n",
      "公司前缀: 艾提科信, 公司后缀: 信息有限公司\n",
      "公司前缀: 南康, 公司后缀: 传媒有限公司\n",
      "公司前缀: 立信电子, 公司后缀: 网络有限公司\n",
      "公司前缀: 华泰通安, 公司后缀: 网络有限公司\n",
      "公司前缀: 方正科技, 公司后缀: 网络有限公司\n",
      "公司前缀: 惠派国际公司, 公司后缀: 科技有限公司\n",
      "\n",
      "公司全称: 南康网络有限公司\n",
      "公司全称: 太极信息有限公司\n",
      "公司全称: 超艺信息有限公司\n",
      "公司全称: 数字100信息有限公司\n",
      "公司全称: 创汇传媒有限公司\n",
      "公司全称: 联软网络有限公司\n",
      "公司全称: 海创信息有限公司\n",
      "公司全称: 海创信息有限公司\n",
      "公司全称: 中建创业网络有限公司\n"
     ]
    }
   ],
   "source": [
    "# 生成公司名称\n",
    "print('中国公司\\n')\n",
    "for i in range(1, 10):\n",
    "    print('公司前缀: {0}, 公司后缀: {1}'.format(fakecn.company_prefix(), fakecn.company_suffix()))\n",
    "\n",
    "print()\n",
    "for i in range(1, 10):\n",
    "    print('公司全称: {0}'.format(fakecn.company()))"
   ]
  },
  {
   "cell_type": "code",
   "execution_count": 21,
   "metadata": {},
   "outputs": [
    {
     "name": "stdout",
     "output_type": "stream",
     "text": [
      "美国公司\n",
      "\n",
      "公司后缀: LLC\n",
      "公司后缀: Ltd\n",
      "公司后缀: Group\n",
      "公司后缀: Group\n",
      "公司后缀: LLC\n",
      "公司后缀: Group\n",
      "公司后缀: and Sons\n",
      "公司后缀: and Sons\n",
      "公司后缀: LLC\n",
      "\n",
      "公司全称: Gonzalez-Duffy\n",
      "公司全称: Conley Group\n",
      "公司全称: Serrano Group\n",
      "公司全称: Charles Ltd\n",
      "公司全称: Townsend Ltd\n",
      "公司全称: Garcia, Torres and Freeman\n",
      "公司全称: Everett and Sons\n",
      "公司全称: Williams-Duran\n",
      "公司全称: Delgado-Young\n"
     ]
    }
   ],
   "source": [
    "# 生成公司名称\n",
    "print('美国公司\\n')\n",
    "for i in range(1, 10):\n",
    "    print('公司后缀: {0}'.format(fakeus.company_suffix()))\n",
    "\n",
    "print()\n",
    "for i in range(1, 10):\n",
    "    print('公司全称: {0}'.format(fakeus.company()))"
   ]
  },
  {
   "cell_type": "code",
   "execution_count": 22,
   "metadata": {},
   "outputs": [
    {
     "name": "stdout",
     "output_type": "stream",
     "text": [
      "日本公司\n",
      "\n",
      "公司前缀: 合同会社, 公司后缀: and Sons\n",
      "公司前缀: 有限会社, 公司后缀: LLC\n",
      "公司前缀: 株式会社, 公司后缀: Group\n",
      "公司前缀: 合同会社, 公司后缀: Inc\n",
      "公司前缀: 合同会社, 公司后缀: Inc\n",
      "公司前缀: 有限会社, 公司后缀: Ltd\n",
      "公司前缀: 有限会社, 公司后缀: Ltd\n",
      "公司前缀: 株式会社, 公司后缀: and Sons\n",
      "公司前缀: 合同会社, 公司后缀: LLC\n",
      "\n",
      "公司全称: 山口水産株式会社\n",
      "公司全称: 合同会社近藤食品\n",
      "公司全称: 浜田電気有限会社\n",
      "公司全称: 坂本印刷株式会社\n",
      "公司全称: 中村保険株式会社\n",
      "公司全称: 喜嶋通信合同会社\n",
      "公司全称: 桐山印刷株式会社\n",
      "公司全称: 合同会社佐藤鉱業\n",
      "公司全称: 笹田電気有限会社\n"
     ]
    }
   ],
   "source": [
    "# 生成公司名称\n",
    "print('日本公司\\n')\n",
    "for i in range(1, 10):\n",
    "    print('公司前缀: {0}, 公司后缀: {1}'.format(fakejs.company_prefix(), fakejs.company_suffix()))\n",
    "\n",
    "print()\n",
    "for i in range(1, 10):\n",
    "    print('公司全称: {0}'.format(fakejs.company()))"
   ]
  },
  {
   "cell_type": "code",
   "execution_count": 93,
   "metadata": {},
   "outputs": [
    {
     "name": "stdout",
     "output_type": "stream",
     "text": [
      "随机日期\n",
      "1987-05-30\n",
      "\n",
      "随机今年日期\n",
      "2018-02-17\n",
      "\n",
      "随机本月日期\n",
      "2018-12-14\n",
      "\n",
      "随机十年内日期\n",
      "2012-07-25\n",
      "\n",
      "随机本世纪内日期\n",
      "2005-04-15\n",
      "\n",
      "随机日期与时间\n",
      "1998-03-13 20:31:51\n",
      "\n",
      "随机今年日期时间\n",
      "2018-05-26 05:36:36\n",
      "\n",
      "随机未来日期时间\n",
      "2019-01-21 16:22:14\n"
     ]
    }
   ],
   "source": [
    "# 日期\n",
    "import datetime\n",
    "print('随机日期')\n",
    "print(fakecn.date())\n",
    "print()\n",
    "print('随机今年日期')\n",
    "print(fakecn.date_this_year().strftime(\"%Y-%m-%d\"))\n",
    "print()\n",
    "print('随机本月日期')\n",
    "print(fakecn.date_this_month().strftime(\"%Y-%m-%d\"))\n",
    "print()\n",
    "print('随机十年内日期')\n",
    "print(fakecn.date_this_decade().strftime(\"%Y-%m-%d\"))\n",
    "print()\n",
    "print('随机本世纪内日期')\n",
    "print(fakecn.date_this_century().strftime(\"%Y-%m-%d\"))\n",
    "print()\n",
    "print('随机日期与时间')\n",
    "print(fakecn.date_time().strftime(\"%Y-%m-%d %H:%M:%S\"))\n",
    "print()\n",
    "print('随机今年日期时间')\n",
    "print(fakecn.date_time_this_year().strftime(\"%Y-%m-%d %H:%M:%S\"))\n",
    "print()\n",
    "print('随机未来日期时间')\n",
    "print(fakecn.future_datetime().strftime(\"%Y-%m-%d %H:%M:%S\"))"
   ]
  },
  {
   "cell_type": "code",
   "execution_count": 59,
   "metadata": {},
   "outputs": [
    {
     "name": "stdout",
     "output_type": "stream",
     "text": [
      "随机密码\n",
      "@TDgtU2cS5\n",
      "9(UPxdMa^Y\n",
      "QAP_LSxv@7\n",
      "jc1UCf4Kq_\n",
      "$0j2WMGoFY\n",
      "^ENVqPFry4\n",
      "#3ujAKiWdc\n",
      "*XGQHdhf7J\n",
      "WqHkSnGK^0\n"
     ]
    }
   ],
   "source": [
    "print('随机密码')\n",
    "for i in range(1, 10):\n",
    "    print(fakeus.password())"
   ]
  },
  {
   "cell_type": "code",
   "execution_count": 62,
   "metadata": {},
   "outputs": [
    {
     "name": "stdout",
     "output_type": "stream",
     "text": [
      "随机手机号码\n",
      "13146998425\n",
      "13199610918\n",
      "15562569434\n",
      "15621551043\n",
      "13003681554\n",
      "13927747277\n",
      "13411312343\n",
      "15881739957\n",
      "13054629797\n"
     ]
    }
   ],
   "source": [
    "print('随机中国手机号码')\n",
    "for i in range(1, 10):\n",
    "    print(fakecn.phone_number())"
   ]
  },
  {
   "cell_type": "code",
   "execution_count": 64,
   "metadata": {},
   "outputs": [
    {
     "name": "stdout",
     "output_type": "stream",
     "text": [
      "随机美国手机号码\n",
      "001-806-730-7453x085\n",
      "(483)411-9897x88641\n",
      "563.472.1233x2701\n",
      "544-272-7447x840\n",
      "001-476-542-1261x425\n",
      "6259027163\n",
      "+1-730-661-8908x774\n",
      "+1-390-674-3146x5497\n",
      "430.031.8768\n"
     ]
    }
   ],
   "source": [
    "print('随机美国手机号码')\n",
    "for i in range(1, 10):\n",
    "    print(fakeus.phone_number())"
   ]
  },
  {
   "cell_type": "code",
   "execution_count": 68,
   "metadata": {},
   "outputs": [
    {
     "name": "stdout",
     "output_type": "stream",
     "text": [
      "随机英文段落\n",
      "['Actually computer heart democratic area.', 'Staff vote no today that find expect. Leave white language attack hotel your. Modern first note business recently huge.', 'Measure top future standard. Company conference item various majority. Example week statement short.']\n"
     ]
    }
   ],
   "source": [
    "print('随机英文段落')\n",
    "print(fakeus.paragraphs())"
   ]
  },
  {
   "cell_type": "code",
   "execution_count": 71,
   "metadata": {},
   "outputs": [
    {
     "name": "stdout",
     "output_type": "stream",
     "text": [
      "随机中文段落\n",
      "['计划这样语言北京各种主题.我们知道什么帮助全部.网站可是资源可以一个关于.', '所有学生客户增加组织内容法律.企业精华只有用户时候.', '一直都是广告电脑.详细位置是否次数新闻他的.两个学校很多起来.']\n"
     ]
    }
   ],
   "source": [
    "print('随机中文段落')\n",
    "print(fakecn.paragraphs())"
   ]
  },
  {
   "cell_type": "code",
   "execution_count": 77,
   "metadata": {},
   "outputs": [
    {
     "name": "stdout",
     "output_type": "stream",
     "text": [
      "随机日文段落\n",
      "['転倒学生トリビュート目的。', 'オークション品質織る叔父マリンささやき通行料金。意図転倒証言する。状況意図今緩む。', 'コミュニティリンクテントパーセント部隊ささやき奨励します。呼ぶ近代化する近代化する保証金。']\n"
     ]
    }
   ],
   "source": [
    "print('随机日文段落')\n",
    "print(fakejs.paragraphs())"
   ]
  },
  {
   "cell_type": "code",
   "execution_count": 82,
   "metadata": {},
   "outputs": [
    {
     "data": {
      "text/plain": [
       "'六安'"
      ]
     },
     "execution_count": 82,
     "metadata": {},
     "output_type": "execute_result"
    }
   ],
   "source": [
    "fakecn.city_name()"
   ]
  },
  {
   "cell_type": "code",
   "execution_count": 105,
   "metadata": {},
   "outputs": [
    {
     "name": "stdout",
     "output_type": "stream",
     "text": [
      "随机IP地址\n",
      "IPV4 private: 10.143.176.67, IPV4 public: 49.44.170.231, IPV6: f484:5f12:8666:3ef:fdde:e75b:6f10:ed19\n",
      "IPV4 private: 10.40.69.247, IPV4 public: 169.79.206.155, IPV6: 6be8:dde9:cf98:aad5:4607:35e:a649:cf5b\n",
      "IPV4 private: 10.82.216.5, IPV4 public: 198.51.105.175, IPV6: 8bdb:29db:b81f:63c2:10b7:3f36:abac:ecf2\n",
      "IPV4 private: 192.168.0.203, IPV4 public: 169.255.153.240, IPV6: 6a72:acea:6e8:861e:20c7:aa37:39e2:e9e1\n",
      "IPV4 private: 192.168.66.10, IPV4 public: 192.169.68.145, IPV6: 9215:9429:6b91:f28d:db0e:4aa0:a421:2bb4\n",
      "IPV4 private: 10.126.169.71, IPV4 public: 169.117.221.154, IPV6: 655:a2bb:da96:c282:9496:2377:bcd6:743d\n",
      "IPV4 private: 10.74.31.117, IPV4 public: 169.3.2.101, IPV6: d5c5:b241:3f2:a36b:49a0:dfea:91fb:540f\n",
      "IPV4 private: 10.124.76.88, IPV4 public: 203.0.101.158, IPV6: 8a16:1524:2d9:2937:d0e4:88:ed53:a729\n",
      "IPV4 private: 172.17.197.233, IPV4 public: 169.10.110.200, IPV6: d242:d3bb:45f1:b22d:ef45:b9af:14e:d609\n"
     ]
    }
   ],
   "source": [
    "print('随机IP地址')\n",
    "for i in range(1, 10):\n",
    "    print('IPV4 private: {0}, IPV4 public: {1}, IPV6: {2}'.format(fakecn.ipv4_private(), fakecn.ipv4_public(), fakecn.ipv6()))"
   ]
  },
  {
   "cell_type": "code",
   "execution_count": null,
   "metadata": {},
   "outputs": [],
   "source": []
  },
  {
   "cell_type": "code",
   "execution_count": null,
   "metadata": {},
   "outputs": [],
   "source": []
  }
 ],
 "metadata": {
  "kernelspec": {
   "display_name": "Python 3",
   "language": "python",
   "name": "python3"
  },
  "language_info": {
   "codemirror_mode": {
    "name": "ipython",
    "version": 3
   },
   "file_extension": ".py",
   "mimetype": "text/x-python",
   "name": "python",
   "nbconvert_exporter": "python",
   "pygments_lexer": "ipython3",
   "version": "3.6.2"
  }
 },
 "nbformat": 4,
 "nbformat_minor": 2
}
