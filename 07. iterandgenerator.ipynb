{
 "cells": [
  {
   "cell_type": "markdown",
   "metadata": {},
   "source": [
    "# 迭代器与生成器"
   ]
  },
  {
   "cell_type": "markdown",
   "metadata": {},
   "source": [
    "## 迭代器\n",
    "迭代是Python最强大的功能之一，是访问集合元素（泛指，包括列表，字典，元组以及list(set(list))）的一种方式。\n",
    "\n",
    "迭代器是一个可以记住遍历的位置的对象。\n",
    "\n",
    "迭代器对象从集合的第一个元素开始访问，直到所有的元素被访问完结束。迭代器只能往前不会后退。\n",
    "\n",
    "迭代器有两个基本的方法：iter() 和 next()。\n",
    "\n",
    "字符串，列表或元组对象都可用于创建迭代器："
   ]
  },
  {
   "cell_type": "code",
   "execution_count": 1,
   "metadata": {},
   "outputs": [
    {
     "name": "stdout",
     "output_type": "stream",
     "text": [
      "<list_iterator object at 0x0000021F6622BF98>\n",
      "1\n",
      "2\n",
      "3 4 5 "
     ]
    }
   ],
   "source": [
    "list=[1,2,3,4, 5]\n",
    "it = iter(list)    # 创建迭代器对象\n",
    "print(it)\n",
    "print(next(it))\n",
    "print(next(it))\n",
    "#已经被迭代的就不会再重复输出\n",
    "for x in it:\n",
    "    print (x, end=\" \")\n",
    "    "
   ]
  },
  {
   "cell_type": "code",
   "execution_count": 1,
   "metadata": {},
   "outputs": [
    {
     "name": "stdout",
     "output_type": "stream",
     "text": [
      "1\n",
      "2\n",
      "3\n",
      "4\n"
     ]
    },
    {
     "ename": "SystemExit",
     "evalue": "",
     "output_type": "error",
     "traceback": [
      "An exception has occurred, use %tb to see the full traceback.\n",
      "\u001b[1;31mSystemExit\u001b[0m\n"
     ]
    },
    {
     "name": "stderr",
     "output_type": "stream",
     "text": [
      "c:\\python3.6\\lib\\site-packages\\IPython\\core\\interactiveshell.py:2969: UserWarning: To exit: use 'exit', 'quit', or Ctrl-D.\n",
      "  warn(\"To exit: use 'exit', 'quit', or Ctrl-D.\", stacklevel=1)\n"
     ]
    }
   ],
   "source": [
    "import sys         # 引入 sys 模块\n",
    " \n",
    "list=[1,2,3,4]\n",
    "it = iter(list)    # 创建迭代器对象\n",
    " \n",
    "while True:\n",
    "    try:\n",
    "        print (next(it))\n",
    "    except StopIteration:\n",
    "        sys.exit()"
   ]
  },
  {
   "cell_type": "markdown",
   "metadata": {},
   "source": [
    "# 生成器"
   ]
  },
  {
   "cell_type": "markdown",
   "metadata": {},
   "source": [
    "在 Python 中，使用了 yield 的函数被称为生成器（generator）。\n",
    "\n",
    "跟普通函数不同的是，生成器是一个返回迭代器的函数，只能用于迭代操作，更简单点理解生成器就是一个迭代器。\n",
    "\n",
    "在调用生成器运行的过程中，每次遇到 yield 时函数会暂停并保存当前所有的运行信息，返回 yield 的值, 并在下一次执行 next() 方法时从当前位置继续运行。\n",
    "\n",
    "调用一个生成器函数，返回的是一个迭代器对象。\n",
    "\n",
    "以下实例使用 yield 实现斐波那契数列："
   ]
  },
  {
   "cell_type": "code",
   "execution_count": 7,
   "metadata": {},
   "outputs": [
    {
     "name": "stdout",
     "output_type": "stream",
     "text": [
      "0\n",
      "1\n",
      "1\n",
      "2\n",
      "3\n",
      "5\n",
      "8\n",
      "13\n",
      "21\n",
      "34\n",
      "55\n",
      "89\n",
      "144\n",
      "233\n",
      "377\n",
      "610\n"
     ]
    }
   ],
   "source": [
    "import sys\n",
    "def fibonacci(n): # 生成器函数 - 斐波那契\n",
    "    a, b, counter = 0, 1, 0\n",
    "    while True:\n",
    "        if (counter > n): \n",
    "            return\n",
    "        yield a\n",
    "        a, b = b, a + b\n",
    "        counter += 1\n",
    "        \n",
    "# f = fibonacci(10) # f 是一个迭代器，由生成器返回生成\n",
    " \n",
    "# while True:\n",
    "#     print (next(f), end=\" \")\n",
    "f = fibonacci(20)\n",
    "for i in range(16):\n",
    "    print(next(f))\n",
    "\n",
    "# print(next(f))\n",
    "# print(next(f))\n",
    "# print(next(f))\n",
    "# print(next(f))\n",
    "# print(next(f))"
   ]
  },
  {
   "cell_type": "markdown",
   "metadata": {},
   "source": [
    "## 什么情况下需要使用生成器？\n",
    "一个函数 f，f 返回一个 list，这个 list 是动态计算出来的（不管是数学上的计算还是逻辑上的读取格式化），并且这个 list 会很大（无论是固定很大还是随着输入参数的增大而增大），这个时候，我们希望每次调用这个函数并使用迭代器进行循环的时候一个一个的得到每个 list 元素而不是直接得到一个完整的 list 来节省内存，这个时候 yield 就很有用。\n",
    "\n",
    "具体怎么使用 yield 参考：[Python yield 使用浅析](http://www.runoob.com/w3cnote/python-yield-used-analysis.html)\n"
   ]
  },
  {
   "cell_type": "code",
   "execution_count": 11,
   "metadata": {},
   "outputs": [
    {
     "name": "stdout",
     "output_type": "stream",
     "text": [
      "run this function\n",
      "1 1\n",
      "2 (1, 2, ['s', 1, 3], {1: 1, 2: 2}, ('2', 's', 't'))\n",
      "run this function\n",
      "3 2\n",
      "4 (2, 2, ['s', 1, 3], {1: 1, 2: 2}, ('2', 's', 't'))\n",
      "run this function\n",
      "5 3\n",
      "6 (3, 2, ['s', 1, 3], {1: 1, 2: 2}, ('2', 's', 't'))\n",
      "run this function\n",
      "7 4\n",
      "8 (4, 2, ['s', 1, 3], {1: 1, 2: 2}, ('2', 's', 't'))\n",
      "run this function\n",
      "9 5\n",
      "10 (5, 2, ['s', 1, 3], {1: 1, 2: 2}, ('2', 's', 't'))\n",
      "run this function\n",
      "11 6\n",
      "12 (6, 2, ['s', 1, 3], {1: 1, 2: 2}, ('2', 's', 't'))\n",
      "run this function\n",
      "13 7\n",
      "14 (7, 2, ['s', 1, 3], {1: 1, 2: 2}, ('2', 's', 't'))\n",
      "run this function\n",
      "15 8\n",
      "16 (8, 2, ['s', 1, 3], {1: 1, 2: 2}, ('2', 's', 't'))\n",
      "run this function\n",
      "17 9\n",
      "18 (9, 2, ['s', 1, 3], {1: 1, 2: 2}, ('2', 's', 't'))\n",
      "run this function\n",
      "19 10\n",
      "20 (10, 2, ['s', 1, 3], {1: 1, 2: 2}, ('2', 's', 't'))\n",
      "run this function\n",
      "21 11\n",
      "22 (11, 2, ['s', 1, 3], {1: 1, 2: 2}, ('2', 's', 't'))\n",
      "run this function\n",
      "23 12\n",
      "24 (12, 2, ['s', 1, 3], {1: 1, 2: 2}, ('2', 's', 't'))\n",
      "run this function\n",
      "25 13\n",
      "26 (13, 2, ['s', 1, 3], {1: 1, 2: 2}, ('2', 's', 't'))\n",
      "run this function\n",
      "27 14\n",
      "28 (14, 2, ['s', 1, 3], {1: 1, 2: 2}, ('2', 's', 't'))\n",
      "run this function\n",
      "29 15\n",
      "30 (15, 2, ['s', 1, 3], {1: 1, 2: 2}, ('2', 's', 't'))\n",
      "run this function\n",
      "31 16\n",
      "32 (16, 2, ['s', 1, 3], {1: 1, 2: 2}, ('2', 's', 't'))\n",
      "run this function\n",
      "33 17\n",
      "34 (17, 2, ['s', 1, 3], {1: 1, 2: 2}, ('2', 's', 't'))\n",
      "run this function\n",
      "35 18\n",
      "36 (18, 2, ['s', 1, 3], {1: 1, 2: 2}, ('2', 's', 't'))\n",
      "run this function\n",
      "37 19\n",
      "38 (19, 2, ['s', 1, 3], {1: 1, 2: 2}, ('2', 's', 't'))\n",
      "run this function\n",
      "39 20\n",
      "40 (20, 2, ['s', 1, 3], {1: 1, 2: 2}, ('2', 's', 't'))\n",
      "run this function\n",
      "41 21\n",
      "42 (21, 2, ['s', 1, 3], {1: 1, 2: 2}, ('2', 's', 't'))\n",
      "run this function\n",
      "43 22\n",
      "44 (22, 2, ['s', 1, 3], {1: 1, 2: 2}, ('2', 's', 't'))\n",
      "run this function\n",
      "45 23\n",
      "46 (23, 2, ['s', 1, 3], {1: 1, 2: 2}, ('2', 's', 't'))\n",
      "run this function\n",
      "47 24\n",
      "48 (24, 2, ['s', 1, 3], {1: 1, 2: 2}, ('2', 's', 't'))\n",
      "run this function\n",
      "49 25\n",
      "50 (25, 2, ['s', 1, 3], {1: 1, 2: 2}, ('2', 's', 't'))\n",
      "run this function\n",
      "51 26\n",
      "52 (26, 2, ['s', 1, 3], {1: 1, 2: 2}, ('2', 's', 't'))\n",
      "run this function\n",
      "53 27\n",
      "54 (27, 2, ['s', 1, 3], {1: 1, 2: 2}, ('2', 's', 't'))\n",
      "run this function\n",
      "55 28\n",
      "56 (28, 2, ['s', 1, 3], {1: 1, 2: 2}, ('2', 's', 't'))\n",
      "run this function\n",
      "57 29\n",
      "58 (29, 2, ['s', 1, 3], {1: 1, 2: 2}, ('2', 's', 't'))\n",
      "run this function\n",
      "59 30\n",
      "60 (30, 2, ['s', 1, 3], {1: 1, 2: 2}, ('2', 's', 't'))\n",
      "run this function\n",
      "61 31\n",
      "62 (31, 2, ['s', 1, 3], {1: 1, 2: 2}, ('2', 's', 't'))\n",
      "run this function\n",
      "63 32\n",
      "64 (32, 2, ['s', 1, 3], {1: 1, 2: 2}, ('2', 's', 't'))\n",
      "run this function\n",
      "65 33\n",
      "66 (33, 2, ['s', 1, 3], {1: 1, 2: 2}, ('2', 's', 't'))\n",
      "run this function\n",
      "67 34\n",
      "68 (34, 2, ['s', 1, 3], {1: 1, 2: 2}, ('2', 's', 't'))\n",
      "run this function\n",
      "69 35\n",
      "70 (35, 2, ['s', 1, 3], {1: 1, 2: 2}, ('2', 's', 't'))\n",
      "run this function\n",
      "71 36\n",
      "72 (36, 2, ['s', 1, 3], {1: 1, 2: 2}, ('2', 's', 't'))\n",
      "run this function\n",
      "73 37\n",
      "74 (37, 2, ['s', 1, 3], {1: 1, 2: 2}, ('2', 's', 't'))\n",
      "run this function\n",
      "75 38\n",
      "76 (38, 2, ['s', 1, 3], {1: 1, 2: 2}, ('2', 's', 't'))\n",
      "run this function\n",
      "77 39\n",
      "78 (39, 2, ['s', 1, 3], {1: 1, 2: 2}, ('2', 's', 't'))\n",
      "run this function\n",
      "79 40\n",
      "80 (40, 2, ['s', 1, 3], {1: 1, 2: 2}, ('2', 's', 't'))\n",
      "run this function\n",
      "81 41\n",
      "82 (41, 2, ['s', 1, 3], {1: 1, 2: 2}, ('2', 's', 't'))\n",
      "run this function\n",
      "83 42\n",
      "84 (42, 2, ['s', 1, 3], {1: 1, 2: 2}, ('2', 's', 't'))\n",
      "run this function\n",
      "85 43\n",
      "86 (43, 2, ['s', 1, 3], {1: 1, 2: 2}, ('2', 's', 't'))\n",
      "run this function\n",
      "87 44\n",
      "88 (44, 2, ['s', 1, 3], {1: 1, 2: 2}, ('2', 's', 't'))\n",
      "run this function\n",
      "89 45\n",
      "90 (45, 2, ['s', 1, 3], {1: 1, 2: 2}, ('2', 's', 't'))\n",
      "run this function\n",
      "91 46\n",
      "92 (46, 2, ['s', 1, 3], {1: 1, 2: 2}, ('2', 's', 't'))\n",
      "run this function\n",
      "93 47\n",
      "94 (47, 2, ['s', 1, 3], {1: 1, 2: 2}, ('2', 's', 't'))\n",
      "run this function\n",
      "95 48\n",
      "96 (48, 2, ['s', 1, 3], {1: 1, 2: 2}, ('2', 's', 't'))\n",
      "run this function\n",
      "97 49\n",
      "98 (49, 2, ['s', 1, 3], {1: 1, 2: 2}, ('2', 's', 't'))\n",
      "run this function\n",
      "99 50\n",
      "100 (50, 2, ['s', 1, 3], {1: 1, 2: 2}, ('2', 's', 't'))\n"
     ]
    }
   ],
   "source": [
    "def get():\n",
    "    m = 0\n",
    "    n = 2\n",
    "    l = ['s',1,3]\n",
    "    k = {1:1,2:2}\n",
    "    p = ('2','s','t')\n",
    "    while True:\n",
    "        m += 1\n",
    "        print('run this function')\n",
    "        yield m\n",
    "        yield m ,n ,l ,k ,p\n",
    "        \n",
    "it = get()\n",
    "# print('after run this function')\n",
    "# print('first')\n",
    "# print(next(it)) # 1\n",
    "# print('second')\n",
    "# print(next(it)) # (1, 2, ['s', 1, 3], {1: 1, 2: 2}, ('2', 's', 't'))\n",
    "\n",
    "# print(next(it)) # 2\n",
    "# print(type(next(it))) # <class 'tuple'>\n",
    "# print(next(it)) # 3\n",
    "# print(next(it)) # (3, 2, ['s', 1, 3], {1: 1, 2: 2}, ('2', 's', 't'))\n",
    "for i in range(100):\n",
    "    print(i + 1, next(it))"
   ]
  },
  {
   "cell_type": "code",
   "execution_count": null,
   "metadata": {},
   "outputs": [],
   "source": []
  },
  {
   "cell_type": "code",
   "execution_count": null,
   "metadata": {},
   "outputs": [],
   "source": []
  }
 ],
 "metadata": {
  "kernelspec": {
   "display_name": "Python 3",
   "language": "python",
   "name": "python3"
  },
  "language_info": {
   "codemirror_mode": {
    "name": "ipython",
    "version": 3
   },
   "file_extension": ".py",
   "mimetype": "text/x-python",
   "name": "python",
   "nbconvert_exporter": "python",
   "pygments_lexer": "ipython3",
   "version": "3.6.7"
  },
  "toc": {
   "base_numbering": 1,
   "nav_menu": {},
   "number_sections": true,
   "sideBar": true,
   "skip_h1_title": false,
   "title_cell": "Table of Contents",
   "title_sidebar": "Contents",
   "toc_cell": false,
   "toc_position": {},
   "toc_section_display": true,
   "toc_window_display": false
  }
 },
 "nbformat": 4,
 "nbformat_minor": 2
}
