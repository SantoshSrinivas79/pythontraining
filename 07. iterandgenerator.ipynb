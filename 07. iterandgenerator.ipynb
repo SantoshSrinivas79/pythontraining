{
 "cells": [
  {
   "cell_type": "markdown",
   "metadata": {},
   "source": [
    "# 迭代器与生成器"
   ]
  },
  {
   "cell_type": "markdown",
   "metadata": {},
   "source": [
    "## 迭代器\n",
    "迭代是Python最强大的功能之一，是访问集合元素（泛指，包括列表，字典，元组以及list(set(list))）的一种方式。\n",
    "\n",
    "迭代器是一个可以记住遍历的位置的对象。\n",
    "\n",
    "迭代器对象从集合的第一个元素开始访问，直到所有的元素被访问完结束。迭代器只能往前不会后退。\n",
    "\n",
    "迭代器有两个基本的方法：iter() 和 next()。\n",
    "\n",
    "字符串，列表或元组对象都可用于创建迭代器："
   ]
  },
  {
   "cell_type": "code",
   "execution_count": 1,
   "metadata": {},
   "outputs": [
    {
     "name": "stdout",
     "output_type": "stream",
     "text": [
      "<list_iterator object at 0x0000021F6622BF98>\n",
      "1\n",
      "2\n",
      "3 4 5 "
     ]
    }
   ],
   "source": [
    "list=[1,2,3,4, 5]\n",
    "it = iter(list)    # 创建迭代器对象\n",
    "print(it)\n",
    "print(next(it))\n",
    "print(next(it))\n",
    "#已经被迭代的就不会再重复输出\n",
    "for x in it:\n",
    "    print (x, end=\" \")\n",
    "    "
   ]
  },
  {
   "cell_type": "code",
   "execution_count": 2,
   "metadata": {},
   "outputs": [
    {
     "name": "stdout",
     "output_type": "stream",
     "text": [
      "1\n",
      "2\n",
      "3\n",
      "4\n"
     ]
    },
    {
     "ename": "SystemExit",
     "evalue": "",
     "output_type": "error",
     "traceback": [
      "An exception has occurred, use %tb to see the full traceback.\n",
      "\u001b[1;31mSystemExit\u001b[0m\n"
     ]
    },
    {
     "name": "stderr",
     "output_type": "stream",
     "text": [
      "d:\\python36\\lib\\site-packages\\IPython\\core\\interactiveshell.py:2969: UserWarning: To exit: use 'exit', 'quit', or Ctrl-D.\n",
      "  warn(\"To exit: use 'exit', 'quit', or Ctrl-D.\", stacklevel=1)\n"
     ]
    }
   ],
   "source": [
    "import sys         # 引入 sys 模块\n",
    " \n",
    "list=[1,2,3,4]\n",
    "it = iter(list)    # 创建迭代器对象\n",
    " \n",
    "while True:\n",
    "    try:\n",
    "        print (next(it))\n",
    "    except StopIteration:\n",
    "        sys.exit()"
   ]
  },
  {
   "cell_type": "markdown",
   "metadata": {},
   "source": [
    "# 生成器"
   ]
  },
  {
   "cell_type": "markdown",
   "metadata": {},
   "source": [
    "在 Python 中，使用了 yield 的函数被称为生成器（generator）。\n",
    "\n",
    "跟普通函数不同的是，生成器是一个返回迭代器的函数，只能用于迭代操作，更简单点理解生成器就是一个迭代器。\n",
    "\n",
    "在调用生成器运行的过程中，每次遇到 yield 时函数会暂停并保存当前所有的运行信息，返回 yield 的值, 并在下一次执行 next() 方法时从当前位置继续运行。\n",
    "\n",
    "调用一个生成器函数，返回的是一个迭代器对象。\n",
    "\n",
    "以下实例使用 yield 实现斐波那契数列："
   ]
  },
  {
   "cell_type": "code",
   "execution_count": 10,
   "metadata": {},
   "outputs": [
    {
     "name": "stdout",
     "output_type": "stream",
     "text": [
      "0\n",
      "1\n",
      "1\n",
      "2\n",
      "3\n",
      "5\n"
     ]
    }
   ],
   "source": [
    "import sys\n",
    "def fibonacci(n): # 生成器函数 - 斐波那契\n",
    "    a, b, counter = 0, 1, 0\n",
    "    while True:\n",
    "        if (counter > n): \n",
    "            return\n",
    "        yield a\n",
    "        a, b = b, a + b\n",
    "        counter += 1\n",
    "        \n",
    "# f = fibonacci(10) # f 是一个迭代器，由生成器返回生成\n",
    " \n",
    "# while True:\n",
    "#     print (next(f), end=\" \")\n",
    "f = fibonacci(10)\n",
    "print(next(f))\n",
    "print(next(f))\n",
    "print(next(f))\n",
    "print(next(f))\n",
    "print(next(f))\n",
    "print(next(f))"
   ]
  },
  {
   "cell_type": "markdown",
   "metadata": {},
   "source": [
    "## 什么情况下需要使用生成器？\n",
    "一个函数 f，f 返回一个 list，这个 list 是动态计算出来的（不管是数学上的计算还是逻辑上的读取格式化），并且这个 list 会很大（无论是固定很大还是随着输入参数的增大而增大），这个时候，我们希望每次调用这个函数并使用迭代器进行循环的时候一个一个的得到每个 list 元素而不是直接得到一个完整的 list 来节省内存，这个时候 yield 就很有用。\n",
    "\n",
    "具体怎么使用 yield 参考：[Python yield 使用浅析](http://www.runoob.com/w3cnote/python-yield-used-analysis.html)\n"
   ]
  },
  {
   "cell_type": "code",
   "execution_count": 11,
   "metadata": {},
   "outputs": [
    {
     "name": "stdout",
     "output_type": "stream",
     "text": [
      "after run this function\n",
      "first\n",
      "run this function\n",
      "1\n",
      "second\n",
      "(1, 2, ['s', 1, 3], {1: 1, 2: 2}, ('2', 's', 't'))\n",
      "run this function\n",
      "2\n",
      "<class 'tuple'>\n",
      "run this function\n",
      "3\n",
      "(3, 2, ['s', 1, 3], {1: 1, 2: 2}, ('2', 's', 't'))\n"
     ]
    }
   ],
   "source": [
    "def get():\n",
    "    m = 0\n",
    "    n = 2\n",
    "    l = ['s',1,3]\n",
    "    k = {1:1,2:2}\n",
    "    p = ('2','s','t')\n",
    "    while True:\n",
    "        m += 1\n",
    "        print('run this function')\n",
    "        yield m\n",
    "        yield m ,n ,l ,k ,p\n",
    "        \n",
    "it = get()\n",
    "print('after run this function')\n",
    "print('first')\n",
    "print(next(it)) # 1\n",
    "print('second')\n",
    "print(next(it)) # (1, 2, ['s', 1, 3], {1: 1, 2: 2}, ('2', 's', 't'))\n",
    "\n",
    "print(next(it)) # 2\n",
    "print(type(next(it))) # <class 'tuple'>\n",
    "print(next(it)) # 3\n",
    "print(next(it)) # (3, 2, ['s', 1, 3], {1: 1, 2: 2}, ('2', 's', 't'))"
   ]
  },
  {
   "cell_type": "code",
   "execution_count": null,
   "metadata": {},
   "outputs": [],
   "source": []
  },
  {
   "cell_type": "code",
   "execution_count": null,
   "metadata": {},
   "outputs": [],
   "source": []
  }
 ],
 "metadata": {
  "kernelspec": {
   "display_name": "Python 3",
   "language": "python",
   "name": "python3"
  },
  "language_info": {
   "codemirror_mode": {
    "name": "ipython",
    "version": 3
   },
   "file_extension": ".py",
   "mimetype": "text/x-python",
   "name": "python",
   "nbconvert_exporter": "python",
   "pygments_lexer": "ipython3",
   "version": "3.6.2"
  },
  "toc": {
   "base_numbering": 1,
   "nav_menu": {},
   "number_sections": true,
   "sideBar": true,
   "skip_h1_title": false,
   "title_cell": "Table of Contents",
   "title_sidebar": "Contents",
   "toc_cell": false,
   "toc_position": {},
   "toc_section_display": true,
   "toc_window_display": false
  }
 },
 "nbformat": 4,
 "nbformat_minor": 2
}
