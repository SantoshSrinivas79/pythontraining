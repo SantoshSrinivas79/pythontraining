{
 "cells": [
  {
   "cell_type": "markdown",
   "metadata": {},
   "source": [
    "# 优秀的Python资源收集"
   ]
  },
  {
   "cell_type": "markdown",
   "metadata": {},
   "source": [
    "该笔记将最近收藏的知乎文章以及Github知名项目，以列表形式，分享给大家~~~\n",
    "\n",
    "内容涉及Python基础，机器学习，深度学习以及实践心得等。\n",
    "\n",
    "我们常说碎片时间容易被浪费在知乎、微信的各种对自身提升无关的文章上，如果在知乎只关注AI之类的文章，其实碎片时间还是可以利用起来的，很多概念，可以很快就混个耳熟能详。<br>之后，挑一个周末的午后，坐在阳台的椅子上，喝一杯咖啡，慵懒的阅读之前收藏的开源项目代码，并尝试实践一下，难道不是很美好么？"
   ]
  },
  {
   "cell_type": "markdown",
   "metadata": {},
   "source": [
    "## 知乎收藏"
   ]
  },
  {
   "cell_type": "markdown",
   "metadata": {},
   "source": [
    "### 机器学习 AI相关"
   ]
  },
  {
   "cell_type": "markdown",
   "metadata": {},
   "source": [
    "[PyTorch 超全资源列表，看这篇就够了](https://zhuanlan.zhihu.com/p/63317429)"
   ]
  },
  {
   "cell_type": "markdown",
   "metadata": {},
   "source": [
    "[最全中文自然语言处理数据集、平台和工具整理](https://zhuanlan.zhihu.com/p/70355773)"
   ]
  },
  {
   "cell_type": "markdown",
   "metadata": {},
   "source": [
    "[一份超全的NLP语料资源集合及其构建现状](https://zhuanlan.zhihu.com/p/55116263)"
   ]
  },
  {
   "cell_type": "markdown",
   "metadata": {},
   "source": [
    "[深度学习面试要点总结(面试题)](https://zhuanlan.zhihu.com/p/62935978)"
   ]
  },
  {
   "cell_type": "markdown",
   "metadata": {},
   "source": [
    "[如何评价FastAI](https://www.zhihu.com/question/297031440/answer/647059792)"
   ]
  },
  {
   "cell_type": "markdown",
   "metadata": {},
   "source": [
    "[Tensorflow实现的深度NLP模型集锦](https://zhuanlan.zhihu.com/p/67031035)"
   ]
  },
  {
   "cell_type": "markdown",
   "metadata": {},
   "source": [
    "[干货 | 史上最详尽的NLP预处理模型汇总](https://zhuanlan.zhihu.com/p/62760251)"
   ]
  },
  {
   "cell_type": "markdown",
   "metadata": {},
   "source": [
    "[【杂谈】GitHub上的机器学习/深度学习综述项目合集](https://zhuanlan.zhihu.com/p/60245227)"
   ]
  },
  {
   "cell_type": "markdown",
   "metadata": {},
   "source": [
    "[机器学习领域有哪些适合新手学习的 GitHub 项目？](https://www.zhihu.com/question/27098881/answer/638053251)"
   ]
  },
  {
   "cell_type": "markdown",
   "metadata": {},
   "source": [
    "[Python机器学习资源菜单，选库找工具不愁，GitHub精选列表都在这里了](https://zhuanlan.zhihu.com/p/61813503)"
   ]
  },
  {
   "cell_type": "markdown",
   "metadata": {},
   "source": [
    "[8 个超赞的深度学习课程（附评分）](https://zhuanlan.zhihu.com/p/43831189)"
   ]
  },
  {
   "cell_type": "markdown",
   "metadata": {},
   "source": [
    "[Pytorch用GPU到底能比CPU快多少？](https://zhuanlan.zhihu.com/p/35434175)"
   ]
  },
  {
   "cell_type": "markdown",
   "metadata": {},
   "source": [
    "[Facebook AI 发布pytorch1.0最新教程 （附108页pdf下载链接）](https://zhuanlan.zhihu.com/p/47011031)"
   ]
  },
  {
   "cell_type": "markdown",
   "metadata": {},
   "source": [
    "[近期值得读的20篇AI论文（NLP/CV/ML方向）](https://zhuanlan.zhihu.com/p/46237931)"
   ]
  },
  {
   "cell_type": "markdown",
   "metadata": {},
   "source": [
    "[【Github3.5K星】PyTorch资源列表：450个NLP/CV/SP、论文实现、库、教程示例](https://zhuanlan.zhihu.com/p/47703564)"
   ]
  },
  {
   "cell_type": "markdown",
   "metadata": {},
   "source": [
    "[周志华：满足这三大条件，可以考虑不用深度神经网络](https://zhuanlan.zhihu.com/p/35728514)"
   ]
  },
  {
   "cell_type": "markdown",
   "metadata": {},
   "source": [
    "[自然语言处理时，通常的文本清理流程是什么？](https://www.zhihu.com/question/268849350/answer/486543276)"
   ]
  },
  {
   "cell_type": "markdown",
   "metadata": {},
   "source": [
    "[DenseNet：比ResNet更优的CNN模型](https://zhuanlan.zhihu.com/p/37189203)"
   ]
  },
  {
   "cell_type": "markdown",
   "metadata": {},
   "source": [
    "[用CNN做图像分类的时候，为什么要一批一批地输入数据？](https://www.zhihu.com/question/266673686/answer/491726716)"
   ]
  },
  {
   "cell_type": "markdown",
   "metadata": {},
   "source": [
    "[当前（2019年）机器学习中有哪些研究方向特别的坑？](https://www.zhihu.com/question/299068775/answer/525874350)"
   ]
  },
  {
   "cell_type": "markdown",
   "metadata": {},
   "source": [
    "[人工智能在工业界用到的模型都是最前沿的吗？](https://www.zhihu.com/question/304599202/answer/590403392)"
   ]
  },
  {
   "cell_type": "markdown",
   "metadata": {},
   "source": [
    "[谷歌、CMU 重磅论文：Transformer 升级版，评估速度提升超 1800 倍！](https://zhuanlan.zhihu.com/p/54770086)"
   ]
  },
  {
   "cell_type": "markdown",
   "metadata": {},
   "source": [
    "[三次简化一张图：一招理解LSTM/GRU门控机制](https://zhuanlan.zhihu.com/p/28297161)"
   ]
  },
  {
   "cell_type": "markdown",
   "metadata": {},
   "source": [
    "[纯技术干货|深度学习文本分类在支付宝安全风控上的应用](https://zhuanlan.zhihu.com/p/42215024)"
   ]
  },
  {
   "cell_type": "markdown",
   "metadata": {},
   "source": [
    "[整理 聊聊 Transformer](https://zhuanlan.zhihu.com/p/47812375)"
   ]
  },
  {
   "cell_type": "markdown",
   "metadata": {},
   "source": [
    "[火爆 GitHub 的《机器学习 100 天》，有人把它翻译成了中文版！](https://zhuanlan.zhihu.com/p/54229077)"
   ]
  },
  {
   "cell_type": "markdown",
   "metadata": {},
   "source": [
    "[自动驾驶之路已走了多远？一文读懂研究现状](https://zhuanlan.zhihu.com/p/55242115)"
   ]
  },
  {
   "cell_type": "markdown",
   "metadata": {},
   "source": [
    "[50种常用的matplotlib可视化，再也不用担心模型背着我乱跑了](https://zhuanlan.zhihu.com/p/54674704)"
   ]
  },
  {
   "cell_type": "markdown",
   "metadata": {},
   "source": [
    "[北大开源全新中文分词工具包：准确率远超THULAC、结巴分词](https://zhuanlan.zhihu.com/p/54468127)"
   ]
  },
  {
   "cell_type": "markdown",
   "metadata": {},
   "source": []
  },
  {
   "cell_type": "markdown",
   "metadata": {},
   "source": [
    "### 数据相关"
   ]
  },
  {
   "cell_type": "markdown",
   "metadata": {},
   "source": [
    "[去哪找数据？怎么挖掘？](https://www.zhihu.com/question/20179699/answer/681756635)"
   ]
  },
  {
   "cell_type": "code",
   "execution_count": null,
   "metadata": {},
   "outputs": [],
   "source": []
  },
  {
   "cell_type": "markdown",
   "metadata": {},
   "source": [
    "### 算法相关"
   ]
  },
  {
   "cell_type": "markdown",
   "metadata": {},
   "source": [
    "[Github标星2w+，热榜第一，如何用Python实现所有算法](https://zhuanlan.zhihu.com/p/64100125)"
   ]
  },
  {
   "cell_type": "markdown",
   "metadata": {},
   "source": [
    "[如何正确高效地使用LeetCode？](https://www.zhihu.com/question/26580300/answer/701280763)"
   ]
  },
  {
   "cell_type": "markdown",
   "metadata": {},
   "source": [
    "[这可能是史上最全的 Python 算法集（建议收藏）](https://zhuanlan.zhihu.com/p/60356696)"
   ]
  },
  {
   "cell_type": "code",
   "execution_count": null,
   "metadata": {},
   "outputs": [],
   "source": []
  },
  {
   "cell_type": "markdown",
   "metadata": {},
   "source": [
    "### Python基础"
   ]
  },
  {
   "cell_type": "markdown",
   "metadata": {},
   "source": [
    "[春招苦短，我用百道Python面试题备战](https://zhuanlan.zhihu.com/p/58344591)"
   ]
  },
  {
   "cell_type": "markdown",
   "metadata": {},
   "source": [
    "[Numpy练习题100题-提高你的数据分析技能](https://zhuanlan.zhihu.com/p/57872490)"
   ]
  },
  {
   "cell_type": "markdown",
   "metadata": {},
   "source": [
    "[GitHub 上有哪些优秀的 Python 爬虫项目？](https://www.zhihu.com/question/58151047/answer/640461600)"
   ]
  },
  {
   "cell_type": "markdown",
   "metadata": {},
   "source": [
    "[110道Python面试题（真题）](https://zhuanlan.zhihu.com/p/54430650)"
   ]
  },
  {
   "cell_type": "markdown",
   "metadata": {},
   "source": [
    "## Github优秀项目收藏"
   ]
  },
  {
   "cell_type": "markdown",
   "metadata": {},
   "source": [
    "Github的项目非常容易下载，只要会用git，就可以通过git pull 项目地址 即可"
   ]
  },
  {
   "cell_type": "markdown",
   "metadata": {},
   "source": [
    "[我自己的PythonTraining(非常不要脸啊)](https://github.com/heblade/pythontraining)"
   ]
  },
  {
   "cell_type": "markdown",
   "metadata": {},
   "source": [
    "### TensorFlow"
   ]
  },
  {
   "cell_type": "markdown",
   "metadata": {},
   "source": [
    "[TensorFlow](https://github.com/tensorflow/tensorflow)"
   ]
  },
  {
   "cell_type": "markdown",
   "metadata": {},
   "source": [
    "[TensorFlow-Examples](https://github.com/aymericdamien/TensorFlow-Examples)"
   ]
  },
  {
   "cell_type": "markdown",
   "metadata": {},
   "source": [
    "[EffectiveTensorflow 1.x and 2.x](https://github.com/vahidk/EffectiveTensorflow)"
   ]
  },
  {
   "cell_type": "markdown",
   "metadata": {},
   "source": [
    "[tensorflow2_tutorials_chinese](https://github.com/czy36mengfei/tensorflow2_tutorials_chinese)"
   ]
  },
  {
   "cell_type": "markdown",
   "metadata": {},
   "source": [
    "[TensorFlow-2.x-Tutorials](https://github.com/dragen1860/TensorFlow-2.x-Tutorials)"
   ]
  },
  {
   "cell_type": "markdown",
   "metadata": {},
   "source": [
    "[deep-learning-keras-tensorflow](https://github.com/leriomaggio/deep-learning-keras-tensorflow)"
   ]
  },
  {
   "cell_type": "markdown",
   "metadata": {},
   "source": [
    "[deep-learning-with-keras-notebooks](https://github.com/erhwenkuo/deep-learning-with-keras-notebooks)"
   ]
  },
  {
   "cell_type": "markdown",
   "metadata": {},
   "source": [
    "[keras-attention-mechanism](https://github.com/philipperemy/keras-attention-mechanism)"
   ]
  },
  {
   "cell_type": "markdown",
   "metadata": {},
   "source": [
    "[autokeras](https://github.com/keras-team/autokeras)"
   ]
  },
  {
   "cell_type": "markdown",
   "metadata": {},
   "source": [
    "[attention-is-all-you-need-keras](https://github.com/Lsdefine/attention-is-all-you-need-keras)"
   ]
  },
  {
   "cell_type": "markdown",
   "metadata": {},
   "source": [
    "### PyTorch"
   ]
  },
  {
   "cell_type": "markdown",
   "metadata": {},
   "source": [
    "[PyTorch](https://github.com/pytorch/pytorch)"
   ]
  },
  {
   "cell_type": "markdown",
   "metadata": {},
   "source": [
    "[pytorch-tutorial](https://github.com/yunjey/pytorch-tutorial)"
   ]
  },
  {
   "cell_type": "markdown",
   "metadata": {},
   "source": [
    "[pytorch-book](https://github.com/chenyuntc/pytorch-book)"
   ]
  },
  {
   "cell_type": "markdown",
   "metadata": {},
   "source": [
    "[practical-pytorch](https://github.com/spro/practical-pytorch)"
   ]
  },
  {
   "cell_type": "markdown",
   "metadata": {},
   "source": [
    "[Awesome-pytorch-list](https://github.com/bharathgs/Awesome-pytorch-list)"
   ]
  },
  {
   "cell_type": "markdown",
   "metadata": {},
   "source": [
    "[pretrained-models.pytorch](https://github.com/Cadene/pretrained-models.pytorch)"
   ]
  },
  {
   "cell_type": "markdown",
   "metadata": {},
   "source": [
    "[flair](https://github.com/zalandoresearch/flair)"
   ]
  },
  {
   "cell_type": "markdown",
   "metadata": {},
   "source": [
    "[attention-is-all-you-need-pytorch](https://github.com/jadore801120/attention-is-all-you-need-pytorch)"
   ]
  },
  {
   "cell_type": "markdown",
   "metadata": {},
   "source": [
    "### 常用工具集"
   ]
  },
  {
   "cell_type": "markdown",
   "metadata": {},
   "source": [
    "[Surprise](https://github.com/NicolasHug/Surprise)"
   ]
  },
  {
   "cell_type": "markdown",
   "metadata": {},
   "source": [
    "[Gensim](https://github.com/RaRe-Technologies/gensim)"
   ]
  },
  {
   "cell_type": "markdown",
   "metadata": {},
   "source": [
    "[Spacy](https://github.com/explosion/spaCy)"
   ]
  },
  {
   "cell_type": "markdown",
   "metadata": {},
   "source": [
    "[shap](https://github.com/slundberg/shap·)"
   ]
  },
  {
   "cell_type": "markdown",
   "metadata": {},
   "source": [
    "### Model相关"
   ]
  },
  {
   "cell_type": "markdown",
   "metadata": {},
   "source": [
    "[deep-learning-models](https://github.com/fchollet/deep-learning-models)"
   ]
  },
  {
   "cell_type": "markdown",
   "metadata": {},
   "source": [
    "### 基础相关"
   ]
  },
  {
   "cell_type": "markdown",
   "metadata": {},
   "source": [
    "[The Algorithms - Python](https://github.com/TheAlgorithms/Python)"
   ]
  },
  {
   "cell_type": "markdown",
   "metadata": {},
   "source": [
    "[awesome-pandas](https://github.com/tommyod/awesome-pandas)"
   ]
  },
  {
   "cell_type": "markdown",
   "metadata": {},
   "source": [
    "### 好用的组件"
   ]
  },
  {
   "cell_type": "markdown",
   "metadata": {},
   "source": [
    "[workalendar](https://github.com/peopledoc/workalendar)"
   ]
  },
  {
   "cell_type": "code",
   "execution_count": null,
   "metadata": {},
   "outputs": [],
   "source": []
  },
  {
   "cell_type": "markdown",
   "metadata": {},
   "source": [
    "### 其他学习资料"
   ]
  },
  {
   "cell_type": "markdown",
   "metadata": {},
   "source": [
    "[Python资源大全中文版，包括：Web框架、网络爬虫、模板引擎、数据库、数据可视化、图片处理等，由伯乐在线持续更新](https://github.com/jobbole/awesome-python-cn)"
   ]
  },
  {
   "cell_type": "markdown",
   "metadata": {},
   "source": [
    "[machine-learning-yearning-cn Andrew Ng著](https://github.com/deeplearning-ai/machine-learning-yearning-cn)"
   ]
  },
  {
   "cell_type": "markdown",
   "metadata": {},
   "source": [
    "[homemade-machine-learning](https://github.com/trekhleb/homemade-machine-learning)"
   ]
  },
  {
   "cell_type": "markdown",
   "metadata": {},
   "source": [
    "[State-of-the-art result for all Machine Learning Problems，就是顶级论文集合啊](https://github.com/RedditSota/state-of-the-art-result-for-machine-learning-problems)"
   ]
  },
  {
   "cell_type": "markdown",
   "metadata": {},
   "source": [
    "[兜哥出品 <一本开源的NLP入门书籍>](https://github.com/duoergun0729/nlp)"
   ]
  },
  {
   "cell_type": "markdown",
   "metadata": {},
   "source": [
    "[data-science-ipython-notebooks](https://github.com/donnemartin/data-science-ipython-notebooks)"
   ]
  },
  {
   "cell_type": "markdown",
   "metadata": {},
   "source": [
    "[DeepLearning-500-questions](https://github.com/scutan90/DeepLearning-500-questions)"
   ]
  },
  {
   "cell_type": "markdown",
   "metadata": {},
   "source": [
    "[018/2019/校招/春招/秋招/算法/机器学习(Machine Learning)/深度学习(Deep Learning)/自然语言处理(NLP)/C/C++/Python/面试笔记](https://github.com/imhuay/Algorithm_Interview_Notes-Chinese)"
   ]
  },
  {
   "cell_type": "markdown",
   "metadata": {},
   "source": [
    "[Professional Programming](https://github.com/charlax/professional-programming)\n",
    "<br>A collection of full-stack resources for programmers.\n",
    "\n",
    "The goal of this page is to make you a more proficient developer. You'll find only resources that I've found truly inspiring, or that have become timeless classics.\n",
    "\n",
    "This page is not meant to be comprehensive. I am trying to keep it light and not too overwhelming. The selection of articles is opinionated."
   ]
  },
  {
   "cell_type": "markdown",
   "metadata": {},
   "source": [
    "[awesome-interview-questions](https://github.com/MaximAbramchuck/awesome-interview-questions)"
   ]
  },
  {
   "cell_type": "markdown",
   "metadata": {},
   "source": [
    "[Virgilio](https://github.com/virgili0/Virgilio)"
   ]
  },
  {
   "cell_type": "markdown",
   "metadata": {},
   "source": []
  }
 ],
 "metadata": {
  "kernelspec": {
   "display_name": "Python 3",
   "language": "python",
   "name": "python3"
  },
  "language_info": {
   "codemirror_mode": {
    "name": "ipython",
    "version": 3
   },
   "file_extension": ".py",
   "mimetype": "text/x-python",
   "name": "python",
   "nbconvert_exporter": "python",
   "pygments_lexer": "ipython3",
   "version": "3.6.7"
  },
  "toc": {
   "base_numbering": 1,
   "nav_menu": {},
   "number_sections": true,
   "sideBar": true,
   "skip_h1_title": false,
   "title_cell": "Table of Contents",
   "title_sidebar": "Contents",
   "toc_cell": false,
   "toc_position": {},
   "toc_section_display": true,
   "toc_window_display": true
  }
 },
 "nbformat": 4,
 "nbformat_minor": 2
}
