{
 "cells": [
  {
   "cell_type": "markdown",
   "metadata": {},
   "source": [
    "# Python项目结构建议"
   ]
  },
  {
   "cell_type": "markdown",
   "metadata": {},
   "source": [
    "一般我们写python项目代码，往往会有项目业务代码，工具代码，配置文件，安装文件，相关组件包requirement.txt文件。如果做数据挖掘与分析，往往还有数据输入文件以及数据输出文件。\n",
    "\n",
    "如果将这些文件都放在一个目录下，将使得项目文件非常混乱，难于管理。\n",
    "\n",
    "以下是项目结构组成的建议"
   ]
  },
  {
   "cell_type": "markdown",
   "metadata": {},
   "source": [
    "## 主要代码结构"
   ]
  },
  {
   "cell_type": "markdown",
   "metadata": {},
   "source": [
    "```\n",
    "myproject/\n",
    "|-- config/\n",
    "|   |-- public\n",
    "|   |   |-- log.config\n",
    "|   |-- smallbiz\n",
    "|   |   |-- smallbiz.json\n",
    "|   |-- bigbiz\n",
    "|   |   |-- bigbiz.json\n",
    "|\n",
    "|-- smallbiz/\n",
    "|   |-- tests/\n",
    "|   |   |-- __init__.py\n",
    "|   |   |-- test_main.py\n",
    "|   |\n",
    "|   |-- __init__.py\n",
    "|   |-- main.py\n",
    "|\n",
    "|-- bigbiz/\n",
    "|   |-- tests/\n",
    "|   |   |-- __init__.py\n",
    "|   |   |-- test_main.py\n",
    "|   |\n",
    "|   |-- __init__.py\n",
    "|   |-- main.py\n",
    "|\n",
    "|-- util/\n",
    "|   |-- public/\n",
    "|   |   |-- __init__.py\n",
    "|   |   |-- emailutil.py\n",
    "|   |   |-- logutil.py\n",
    "|   |   |-- encryptutil.py\n",
    "|   |-- smallbiz/\n",
    "|   |   |-- __init__.py\n",
    "|   |   |-- smallbizutil.py\n",
    "|   |-- bigbiz/\n",
    "|   |   |-- __init__.py\n",
    "|   |   |-- bigbizutil.py\n",
    "|   |-- __init__.py\n",
    "|\n",
    "|-- docs/\n",
    "|   |-- smallbiz.md\n",
    "|   |-- bigbiz.md\n",
    "|\n",
    "|-- setup.py\n",
    "|-- requirements.txt\n",
    "|-- README.md\n",
    "```"
   ]
  },
  {
   "cell_type": "markdown",
   "metadata": {},
   "source": [
    "如上所示，假定一个项目有两个密切相关的业务，可以分别建一个代码文件夹。\n",
    "\n",
    "配置文件部分，公用与业务配置分开；\n",
    "\n",
    "工具模块部分，公用与业务工具模块分开；\n",
    "\n",
    "此外可以专门建立一个说明文档文件夹，分别介绍各个业务的实现。\n",
    "\n",
    "setup.py是组件包的安装文件\n",
    "\n",
    "requirement.txt放置需要的python包，如\n",
    "\n",
    "```\n",
    "Keras>=2.0.8\n",
    "numpy>=1.15.2\n",
    "subword-nmt>=0.3.5\n",
    "tqdm>=4.26.0\n",
    "h5py>=2.8.0\n",
    "```\n",
    "然后通过：\n",
    "\n",
    "```pip install -r example/requirements.txt```进行安装\n",
    "\n",
    "README.md是项目总体说明文档，现在都流行markdown写文档，建议跟上这个趋势。"
   ]
  },
  {
   "cell_type": "markdown",
   "metadata": {},
   "source": [
    "## 相关数据以及输出文件目录结构推荐"
   ]
  },
  {
   "cell_type": "markdown",
   "metadata": {},
   "source": [
    "如果做数据挖掘或机器学习，自然会接触很多数据文件或模型文件，甚至还有大量的日志文件。\n",
    "\n",
    "因为往往这些文件比较大，而且琐碎，所以不建议与代码目录放在一起。\n",
    "\n",
    "毕竟传到git不方便，而且使得项目特别臃肿，一般将数据文件或模型的下载路径，配置在配置文件中，然后按需下载，并且下载到此处描述的数据文件夹里。"
   ]
  },
  {
   "cell_type": "markdown",
   "metadata": {},
   "source": [
    "建议的目录结构：\n",
    "\n",
    "```\n",
    "myprojectrelatedfiles/\n",
    "|-- log/\n",
    "|-- model/\n",
    "|   |-- public/\n",
    "|   |   |-- word2vec.h5\n",
    "|   |-- smallbiz/\n",
    "|   |   |-- traindata/\n",
    "|   |   |   |-- smallbizdata.csv\n",
    "|   |   |-- models\n",
    "|   |   |   |-- smallbizlstm.h5\n",
    "|   |   |   |-- smallbizlstm.json\n",
    "|   |   |   |-- smallbizlstm.yaml\n",
    "|   |   |   |-- smallbizlstm.weight.h5\n",
    "|   |-- bigbiz/\n",
    "|   |   |-- traindata/\n",
    "|   |   |   |-- bigbizdata.csv\n",
    "|   |   |-- models\n",
    "|   |   |   |-- bigbizlstm.h5\n",
    "|   |   |   |-- bigbizlstm.json\n",
    "|   |   |   |-- bigbizlstm.yaml\n",
    "|   |   |   |-- bigbizlstm.weight.h5\n",
    "|-- data/\n",
    "|   |-- input/\n",
    "|   |   |-- smallbiz/\n",
    "|   |   |   |-- testdata.csv\n",
    "|   |   |-- bigbiz/\n",
    "|   |   |   |-- testdata.csv\n",
    "|   |-- output/\n",
    "|   |   |-- smallbiz/\n",
    "|   |   |   |-- runmodelresult.csv\n",
    "|   |   |-- bigbiz\n",
    "|   |   |   |-- runmodelresult.csv\n",
    "```"
   ]
  },
  {
   "cell_type": "code",
   "execution_count": null,
   "metadata": {},
   "outputs": [],
   "source": []
  }
 ],
 "metadata": {
  "kernelspec": {
   "display_name": "Python 3",
   "language": "python",
   "name": "python3"
  },
  "language_info": {
   "codemirror_mode": {
    "name": "ipython",
    "version": 3
   },
   "file_extension": ".py",
   "mimetype": "text/x-python",
   "name": "python",
   "nbconvert_exporter": "python",
   "pygments_lexer": "ipython3",
   "version": "3.6.2"
  },
  "toc": {
   "base_numbering": 1,
   "nav_menu": {},
   "number_sections": true,
   "sideBar": true,
   "skip_h1_title": false,
   "title_cell": "Table of Contents",
   "title_sidebar": "Contents",
   "toc_cell": false,
   "toc_position": {},
   "toc_section_display": true,
   "toc_window_display": false
  }
 },
 "nbformat": 4,
 "nbformat_minor": 2
}
