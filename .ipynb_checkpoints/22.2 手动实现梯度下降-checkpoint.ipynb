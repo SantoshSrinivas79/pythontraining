{
 "cells": [
  {
   "cell_type": "markdown",
   "metadata": {},
   "source": [
    "# 手动实现梯度下降"
   ]
  },
  {
   "cell_type": "markdown",
   "metadata": {},
   "source": [
    "线性回归的损失函数J(θ)是均方差，即MSE，相关的公式如下："
   ]
  },
  {
   "cell_type": "markdown",
   "metadata": {},
   "source": [
    "<img src='./image/sgdformula.png' />"
   ]
  },
  {
   "cell_type": "code",
   "execution_count": 177,
   "metadata": {},
   "outputs": [],
   "source": [
    "import matplotlib.pyplot as plt"
   ]
  },
  {
   "cell_type": "code",
   "execution_count": 234,
   "metadata": {},
   "outputs": [],
   "source": [
    "x_train = [100,80,120,75,60,43,140,132,63,55,74,44,88]\n",
    "y_train = [120,92,143,87,60,50,167,147,80,60,90,57,99]"
   ]
  },
  {
   "cell_type": "code",
   "execution_count": 235,
   "metadata": {},
   "outputs": [],
   "source": [
    "#步长\n",
    "alpha = 0.00001\n",
    "diff = [0,0]\n",
    "cnt = 0"
   ]
  },
  {
   "cell_type": "code",
   "execution_count": 236,
   "metadata": {},
   "outputs": [
    {
     "name": "stdout",
     "output_type": "stream",
     "text": [
      "样本个数:13\n"
     ]
    }
   ],
   "source": [
    "#计算样本个数\n",
    "m = len(x_train)\n",
    "print('样本个数:{0}'.format(m))"
   ]
  },
  {
   "cell_type": "code",
   "execution_count": 237,
   "metadata": {},
   "outputs": [],
   "source": [
    "#初始化参数的值，拟合函数为 y=theta0+theta1*x\n",
    "theta0 = 0\n",
    "theta1 = 0"
   ]
  },
  {
   "cell_type": "code",
   "execution_count": 238,
   "metadata": {},
   "outputs": [],
   "source": [
    "#误差\n",
    "error0=0\n",
    "error1=0"
   ]
  },
  {
   "cell_type": "code",
   "execution_count": 239,
   "metadata": {},
   "outputs": [],
   "source": [
    "#退出迭代的两次误差差值的阈值\n",
    "epsilon=0.000001"
   ]
  },
  {
   "cell_type": "markdown",
   "metadata": {},
   "source": [
    "线性回归函数"
   ]
  },
  {
   "cell_type": "markdown",
   "metadata": {},
   "source": [
    "theta1相当于权重，theta0相当于正则项"
   ]
  },
  {
   "cell_type": "code",
   "execution_count": 240,
   "metadata": {},
   "outputs": [],
   "source": [
    "def yhat(x):\n",
    "    return theta1*x + theta0"
   ]
  },
  {
   "cell_type": "code",
   "execution_count": 241,
   "metadata": {},
   "outputs": [],
   "source": [
    "import matplotlib.pyplot as plt\n",
    "%matplotlib inline"
   ]
  },
  {
   "cell_type": "code",
   "execution_count": 242,
   "metadata": {},
   "outputs": [
    {
     "name": "stdout",
     "output_type": "stream",
     "text": [
      "diff is [-1252, -117799]\n",
      "循环次数: 1, theta0: 0.0009630769230769232, theta1: 0.09061461538461539, error0: 0, error1: 58554.429877298615\n",
      "diff is [-1154.6673830769232, -108641.54000000001]\n",
      "循环次数: 2, theta0: 0.0018512826023668642, theta1: 0.17418503076923078, error0: 58554.429877298615, error1: 49827.125734929046\n",
      "diff is [-1064.9012102800154, -100195.96273331583]\n",
      "循环次数: 3, theta0: 0.0026704373795053376, theta1: 0.2512588482563968, error0: 49827.125734929046, error1: 42403.96730585639\n",
      "diff is [-982.1132812866962, -92406.92785164202]\n",
      "循环次数: 4, theta0: 0.0034259091343412577, theta1: 0.3223411004499676, error0: 42403.96730585639, error1: 36090.07241183112\n",
      "diff is [-905.7611212979884, -85223.3970553214]\n",
      "循环次数: 5, theta0: 0.004122648458416633, theta1: 0.38789755972329176, error0: 36090.07241183112, error1: 30719.680669056615\n",
      "diff is [-835.3444264272252, -78598.29966063648]\n",
      "循环次数: 6, theta0: 0.004765221094129884, theta1: 0.44835779023147365, error0: 30719.680669056615, error1: 26151.801736172758\n",
      "diff is [-770.4017854171736, -72488.22416523495]\n",
      "循环次数: 7, theta0: 0.005357837852143095, theta1: 0.5041179626662697, error0: 26151.801736172758, error1: 22266.513856837373\n",
      "diff is [-710.5076562043483, -66853.13379064557]\n",
      "循环次数: 8, theta0: 0.005904382203069517, theta1: 0.5555434501975356, error0: 22266.513856837373, error1: 18961.815521546698\n",
      "diff is [-655.2695775192069, -61656.10413795333]\n",
      "循环次数: 9, theta0: 0.006408435724238137, theta1: 0.6029712226113458, error0: 18961.815521546698, error1: 16150.947594524167\n",
      "diff is [-604.3255972509995, -56863.0812376009]\n",
      "循环次数: 10, theta0: 0.006873301568277367, theta1: 0.6467120543325773, error0: 16150.947594524167, error1: 13760.115602753523\n",
      "diff is [-557.3419007264243, -52442.658407917406]\n",
      "循环次数: 11, theta0: 0.007302026107297694, theta1: 0.687052560800206, error0: 13760.115602753523, error1: 11726.552389796361\n",
      "diff is [-514.0106233611839, -48365.870460221544]\n",
      "循环次数: 12, theta0: 0.007697418894498605, theta1: 0.724257076538838, error0: 11726.552389796361, error1: 9996.870272722914\n",
      "diff is [-474.0478333516595, -44606.00390201081]\n",
      "循环次数: 13, theta0: 0.008062071073999881, theta1: 0.7585693872326924, error0: 9996.870272722914, error1: 8525.659440887886\n",
      "diff is [-437.1916711881264, -41138.42189457742]\n",
      "循环次数: 14, theta0: 0.00839837235952921, theta1: 0.7902143271515981, error0: 8525.659440887886, error1: 7274.295799936906\n",
      "diff is [-403.2006337985098, -37940.40281807118]\n",
      "循环次数: 15, theta0: 0.008708526693220371, theta1: 0.8193992523962682, error0: 7274.295799936906, error1: 6209.926963051013\n",
      "diff is [-371.85199207939604, -34990.99138619337]\n",
      "循环次数: 16, theta0: 0.008994566687127599, theta1: 0.846315399616417, error0: 6209.926963051013, error1: 5304.60976838411\n",
      "diff is [-342.94033144503555, -32270.86133493833]\n",
      "循环次数: 17, theta0: 0.009258366942085318, theta1: 0.8711391391048311, error0: 5304.60976838411, error1: 4534.576679706329\n",
      "diff is [-316.27620583116425, -29762.188785639224]\n",
      "循环次数: 18, theta0: 0.009501656331186215, theta1: 0.8940331304783997, error0: 4534.576679706329, error1: 3879.611810871756\n",
      "diff is [-291.6848963338933, -27448.53545251897]\n",
      "循环次数: 19, theta0: 0.009726029328366132, theta1: 0.915147388518799, error0: 3879.611810871756, error1: 3322.5201927126727\n",
      "diff is [-269.00526634954116, -25314.74092945374]\n",
      "循环次数: 20, theta0: 0.009932956456327318, theta1: 0.9346202661568404, error0: 3322.5201927126727, error1: 2848.6763488812107\n",
      "diff is [-248.08870571362127, -23346.8233501495]\n",
      "循环次数: 21, theta0: 0.010123793922260873, theta1: 0.9525793610415707, error0: 2848.6763488812107, error1: 2445.640329278251\n",
      "diff is [-228.79815692036368, -21531.887770798854]\n",
      "循环次数: 22, theta0: 0.010299792504507306, theta1: 0.9691423516344929, error0: 2445.640329278251, error1: 2102.8311206917992\n",
      "diff is [-211.007217041996, -19858.04167488792]\n",
      "循环次数: 23, theta0: 0.010462105748385764, theta1: 0.9844177683074836, error0: 2102.8311206917992, error1: 1811.2488606062986\n",
      "diff is [-194.59930946303356, -18314.317046491626]\n",
      "循环次数: 24, theta0: 0.01061179752489579, theta1: 0.9985057044970925, error0: 1811.2488606062986, error1: 1563.238561387201\n",
      "diff is [-179.46692000229893, -16890.598501436052]\n",
      "循环次数: 25, theta0: 0.010749849001820634, theta1: 1.0114984725751202, error0: 1563.238561387201, error1: 1352.2891418281085\n",
      "diff is [-165.51089241729727, -15577.557005401299]\n",
      "循环次数: 26, theta0: 0.010877165072910863, theta1: 1.023481208733121, error0: 1352.2891418281085, error1: 1172.8624899816011\n",
      "diff is [-152.6397786746801, -14366.588744647272]\n",
      "循环次数: 27, theta0: 0.010994580287276002, theta1: 1.0345324308443882, error0: 1172.8624899816011, error1: 1020.248069614153\n",
      "diff is [-140.76923972939255, -13249.75874880773]\n",
      "循环次数: 28, theta0: 0.011102864317837073, theta1: 1.0447245529588556, error0: 1020.248069614153, error1: 890.4392532292379\n",
      "diff is [-129.82149288605723, -12219.748896336203]\n",
      "循环次数: 29, theta0: 0.011202727004672501, theta1: 1.0541243598021912, error0: 890.4392532292379, error1: 780.0281349961678\n",
      "diff is [-119.7248021213859, -11269.809961905168]\n",
      "循环次数: 30, theta0: 0.011294823006304336, theta1: 1.062793444388272, error0: 780.0281349961678, error1: 686.1160620801297\n",
      "diff is [-110.41300802791388, -10393.717391545115]\n",
      "循环次数: 31, theta0: 0.011379756089402731, theta1: 1.0707886116125376, error0: 686.1160620801297, error1: 606.2375355283308\n",
      "diff is [-101.82509429897246, -9585.730515736286]\n",
      "循环次数: 32, theta0: 0.011458083085017326, theta1: 1.0781622504707962, error0: 606.2375355283308, error1: 538.2954828617203\n",
      "diff is [-93.9047879142597, -8840.55493319368]\n",
      "循环次数: 33, theta0: 0.011530317537259064, theta1: 1.0849626773424836, error0: 538.2954828617203, error1: 480.50620306617964\n",
      "diff is [-86.60019040618825, -8153.307818861703]\n",
      "循环次数: 34, theta0: 0.011596933068340746, theta1: 1.091234452587762, error0: 480.50620306617964, error1: 431.35253860922205\n",
      "diff is [-79.86343779085516, -7519.485928796424]\n",
      "循环次数: 35, theta0: 0.01165836648202602, theta1: 1.09701867253299, error0: 431.35253860922205, error1: 389.5440450945316\n",
      "diff is [-73.65038693530238, -6934.936092284728]\n",
      "循环次数: 36, theta0: 0.011715020625822406, theta1: 1.1023532387578243, error0: 389.5440450945316, error1: 353.98311287753324\n",
      "diff is [-67.92032630596101, -6395.827997847239]\n",
      "循环次数: 37, theta0: 0.011767267030673144, theta1: 1.107273106448476, error0: 353.98311287753324, error1: 323.73615122367164\n",
      "diff is [-62.635709202937996, -5898.629094803451]\n",
      "循环次数: 38, theta0: 0.011815448345444636, theta1: 1.1118105134444787, error0: 323.73615122367164, error1: 298.0090784993246\n",
      "diff is [-57.761907732139136, -5440.081445939313]\n",
      "循环次数: 39, theta0: 0.011859880582161666, theta1: 1.1159951914798165, error0: 298.0090784993246, error1: 276.1264749327215\n",
      "diff is [-53.26698590310887, -5017.180379602251]\n",
      "循环次数: 40, theta0: 0.011900855186702518, theta1: 1.1198545610025874, error0: 276.1264749327215, error1: 257.51385063670176\n",
      "diff is [-49.12149036579403, -4627.1548013400325]\n",
      "循环次数: 41, theta0: 0.01193864094852236, theta1: 1.123413910849772, error0: 257.51385063670176, error1: 241.68256337091825\n",
      "diff is [-45.29825741501402, -4267.44903607352]\n",
      "循环次数: 42, theta0: 0.011973485761918524, theta1: 1.126696563954444, error0: 241.68256337091825, error1: 228.21699008545377\n",
      "diff is [-41.77223499802223, -3935.706081823043]\n",
      "循环次数: 43, theta0: 0.012005618250378542, theta1: 1.129724030171231, error0: 228.21699008545377, error1: 216.76361545690511\n",
      "diff is [-38.520318558842916, -3629.7521652565356]\n",
      "循环次数: 44, theta0: 0.012035249264654574, theta1: 1.1325161472214285, error0: 216.76361545690511, error1: 207.0217509553549\n",
      "diff is [-35.5211996437453, -3347.5824978588585]\n",
      "循环次数: 45, theta0: 0.012062573264380531, theta1: 1.1350912106813198, error0: 207.0217509553549, error1: 198.73564078737832\n",
      "diff is [-32.755226275825564, -3087.3481393880506]\n",
      "循环次数: 46, theta0: 0.012087769592285013, theta1: 1.1374660938654644, error0: 198.73564078737832, error1: 191.68774747029167\n",
      "diff is [-30.204274183791533, -2847.343882540439]\n",
      "循环次数: 47, theta0: 0.012111003649349467, theta1: 1.1396563583904955, error0: 191.68774747029167, error1: 185.6930407620087\n",
      "diff is [-27.851628041166265, -2625.997079437807]\n",
      "循环次数: 48, theta0: 0.012132427978611903, theta1: 1.1416763561439092, error0: 185.6930407620087, error1: 180.5941400122435\n",
      "diff is [-25.68187193771957, -2421.8573367212375]\n",
      "循环次数: 49, theta0: 0.01215218326471784, theta1: 1.1435393233260025, error0: 180.5941400122435, error1: 176.25718240589342\n",
      "diff is [-23.68078836543193, -2233.587011727786]\n",
      "循环次数: 50, theta0: 0.012170399255768172, theta1: 1.1452574671811777, error0: 176.25718240589342, error1: 172.5683086264914\n",
      "diff is [-21.83526505709017, -2059.95244747566]\n",
      "循环次数: 51, theta0: 0.012187195613504396, theta1: 1.1468420459869282, error0: 172.5683086264914, error1: 169.43067367688923\n",
      "diff is [-20.133209067063554, -1899.8158890239743]\n",
      "循环次数: 52, theta0: 0.012202682697402137, theta1: 1.148303442824639, error0: 169.43067367688923, error1: 166.76190438145832\n",
      "diff is [-18.56346753127145, -1752.1280282388657]\n",
      "循环次数: 53, theta0: 0.012216962287810808, theta1: 1.149651233615592, error0: 166.76190438145832, error1: 164.49193682091405\n",
      "diff is [-17.11575458711267, -1615.9211281145497]\n",
      "循环次数: 54, theta0: 0.012230128252877817, theta1: 1.1508942498679877, error0: 164.49193682091405, error1: 162.56117692536762\n",
      "diff is [-15.780583974493794, -1490.3026815959888]\n",
      "循环次数: 55, theta0: 0.012242267163627429, theta1: 1.1520406365461384, error0: 162.56117692536762, error1: 160.91893593515016\n",
      "diff is [-14.549206876320184, -1374.44956335207]\n",
      "循环次数: 56, theta0: 0.012253458861224599, theta1: 1.1530979054410246, error0: 160.91893593515016, error1: 159.52209965515019\n",
      "diff is [-13.413554591143608, -1267.6026361783847]\n",
      "循环次数: 57, theta0: 0.012263776980140863, theta1: 1.154072984391931, error0: 159.52209965515019, error1: 158.33399656623342\n",
      "diff is [-12.366185662324234, -1169.0617766874796]\n",
      "循环次数: 58, theta0: 0.012273289430650343, theta1: 1.1549722626816907, error0: 158.33399656623342, error1: 157.3234350779684\n",
      "diff is [-11.400237117265725, -1078.1812876919987]\n",
      "循环次数: 59, theta0: 0.012282058843817471, theta1: 1.1558016329029923, error0: 157.3234350779684, error1: 156.4638846474015\n",
      "diff is [-10.509379497216564, -994.3656672201668]\n",
      "循环次数: 60, theta0: 0.012290142981892254, theta1: 1.1565665295700847, error0: 156.4638846474015, error1: 155.73277926556307\n",
      "diff is [-9.687775382964446, -917.0657064395295]\n",
      "循环次数: 61, theta0: 0.012297595116802226, theta1: 1.1572719647288843, error0: 155.73277926556307, error1: 155.11092502595434\n",
      "diff is [-8.930041144659867, -845.7748909202579]\n",
      "循环次数: 62, theta0: 0.012304464379221195, theta1: 1.1579225607988228, error0: 155.11092502595434, error1: 154.5819962217493\n",
      "diff is [-8.231211665134396, -780.0260816572671]\n",
      "循环次数: 63, theta0: 0.012310796080502067, theta1: 1.1585225808616362, error0: 154.5819962217493, error1: 154.13210674261387\n",
      "diff is [-7.58670780555628, -719.3884541029337]\n",
      "循环次数: 64, theta0: 0.012316632009583264, theta1: 1.1590759565955615, error0: 154.13210674261387, error1: 153.74944551891056\n",
      "diff is [-6.992306400242356, -663.4646751534104]\n",
      "循环次数: 65, theta0: 0.01232201070681422, theta1: 1.1595863140379872, error0: 153.74944551891056, error1: 153.4239664425058\n",
      "diff is [-6.444112584013219, -611.8882995903556]\n",
      "循环次数: 66, theta0: 0.01232696771649423, theta1: 1.1600569973453643, error0: 153.4239664425058, error1: 153.14712462358443\n",
      "diff is [-5.938534270764372, -564.3213689181192]\n",
      "循环次数: 67, theta0: 0.012331535819779433, theta1: 1.1604910907060706, error0: 153.14712462358443, error1: 152.91165205935678\n",
      "diff is [-5.472258616023012, -520.4521968625322]\n",
      "循环次数: 68, theta0: 0.012335745249484066, theta1: 1.160891438549811, error0: 152.91165205935678, error1: 152.7113668252224\n",
      "diff is [-5.042230309259622, -479.99332702074605]\n",
      "循环次数: 69, theta0: 0.012339623888183496, theta1: 1.1612606641859808, error0: 152.7113668252224, error1: 152.54101077903886\n",
      "diff is [-4.64563155371021, -442.6796492791003]\n",
      "循环次数: 70, theta0: 0.01234319745091712, theta1: 1.1616011869931187, error0: 152.54101077903886, error1: 152.39611151769844\n",
      "diff is [-4.279863602528614, -408.2666626570583]\n",
      "循环次数: 71, theta0: 0.012346489653688295, theta1: 1.1619152382720856, error0: 152.39611151769844, error1: 152.27286496192465\n",
      "diff is [-3.942529730282068, -376.5288731942304]\n",
      "循环次数: 72, theta0: 0.012349522368865435, theta1: 1.1622048758668504, error0: 152.27286496192465, error1: 152.16803548675375\n",
      "diff is [-3.6314195282074238, -347.25831638233797]\n",
      "循环次数: 73, theta0: 0.012352315768502518, theta1: 1.162471997648683, error0: 152.16803548675375, error1: 152.07887097580206\n",
      "diff is [-3.3444944203239544, -320.26319446051014]\n",
      "循环次数: 74, theta0: 0.012354888456518151, theta1: 1.1627183539521142, error0: 152.07887097580206, error1: 152.00303056921155\n",
      "diff is [-3.0798743054946627, -295.3666196444692]\n",
      "循环次数: 75, theta0: 0.0123572575905993, theta1: 1.1629455590441484, error0: 152.00303056921155, error1: 151.93852320842555\n",
      "diff is [-2.835825237906839, -272.40545505459]\n",
      "循环次数: 76, theta0: 0.01235943899462846, theta1: 1.1631551017018826, error0: 151.93852320842555, error1: 151.88365536439318\n",
      "diff is [-2.610748065247961, -251.22924574794013]\n",
      "循环次数: 77, theta0: 0.012361447262370958, theta1: 1.1633483549678425, error0: 151.88365536439318, error1: 151.8369865768932\n",
      "diff is [-2.403167950126303, -231.6992328496608]\n",
      "循环次数: 78, theta0: 0.012363295853101823, theta1: 1.1635265851469576, error0: 151.8369865768932, error1: 151.7972916377451\n",
      "diff is [-2.211724706077149, -213.68744432399126]\n",
      "循环次数: 79, theta0: 0.012364997179798805, theta1: 1.1636909601041299, error0: 151.7972916377451, error1: 151.7635284250883\n",
      "diff is [-2.0351638848271634, -197.07585642678657]\n",
      "循环次数: 80, theta0: 0.012366562690479442, theta1: 1.1638425569167659, error0: 151.7635284250883, error1: 151.73481054427515\n",
      "diff is [-1.8723285564172443, -181.7556203450681]\n",
      "循环次数: 81, theta0: 0.012368002943215148, theta1: 1.1639823689324158, error0: 151.73481054427515, error1: 151.71038405711542\n",
      "diff is [-1.722151728323574, -167.62634895623]\n",
      "循环次数: 82, theta0: 0.012369327675313858, theta1: 1.1641113122777667, error0: 151.71038405711542, error1: 151.6896076885315\n",
      "diff is [-1.5836493538995384, -154.59545903294912]\n",
      "循环次数: 83, theta0: 0.01237054586712455, theta1: 1.1642302318616382, error0: 151.6896076885315, error1: 151.6719359909928\n",
      "diff is [-1.4559138843279058, -142.57756458388724]\n",
      "循环次数: 84, theta0: 0.012371665800881724, theta1: 1.164339906911318, error0: 151.6719359909928, error1: 151.656905024734\n",
      "diff is [-1.3381083218329337, -131.49391735498546]\n",
      "循环次数: 85, theta0: 0.012372695114975442, theta1: 1.1644410560785141, error0: 151.656905024734, error1: 151.64412017782013\n",
      "diff is [-1.2294607351811209, -121.27189082481834]\n",
      "循环次数: 86, theta0: 0.012373640854002504, theta1: 1.1645343421483794, error0: 151.64412017782013, error1: 151.63324580629168\n",
      "diff is [-1.1292592015384812, -111.84450431335893]\n",
      "循环次数: 87, theta0: 0.012374509514926765, theta1: 1.1646203763824665, error0: 151.63324580629168, error1: 151.62399642241448\n",
      "diff is [-1.0368471415369171, -103.1499840854924]\n",
      "循环次数: 88, theta0: 0.012375307089651025, theta1: 1.1646997225240707, error0: 151.62399642241448, error1: 151.6161291996933\n",
      "diff is [-0.9516190169825407, -95.13135857341331]\n",
      "循环次数: 89, theta0: 0.012376039104279472, theta1: 1.164772900492204, error0: 151.6161291996933, error1: 151.6094375978817\n",
      "diff is [-0.8730163630171504, -87.7360850657629]\n",
      "循环次数: 90, theta0: 0.012376710655327947, theta1: 1.1648403897884085, error0: 151.6094375978817, error1: 151.60374594062608\n",
      "diff is [-0.8005241287299398, -80.91570541706847]\n",
      "循环次数: 91, theta0: 0.012377326443119278, theta1: 1.1649026326387293, error0: 151.60374594062608, error1: 151.59890480338652\n",
      "diff is [-0.7336673022441857, -74.62552852177123]\n",
      "循环次数: 92, theta0: 0.012377890802582543, theta1: 1.1649600368914383, error0: 151.59890480338652, error1: 151.59478709055412\n",
      "diff is [-0.6720077981616939, -68.82433747196865]\n",
      "循环次数: 93, theta0: 0.012378407731658051, theta1: 1.1650129786894936, error0: 151.59478709055412, error1: 151.59128469877624\n",
      "diff is [-0.615141586972257, -63.474119480243644]\n",
      "循环次数: 94, theta0: 0.012378880917494183, theta1: 1.1650618049352477, error0: 151.59128469877624, error1: 151.58830567888913\n",
      "diff is [-0.5626960476165834, -58.53981679770618]\n",
      "循环次数: 95, theta0: 0.012379313760607734, theta1: 1.1651068355635537, error0: 151.58830567888913, error1: 151.5857718219528\n",
      "diff is [-0.5143275258554496, -53.98909699513331]\n",
      "循环次数: 96, theta0: 0.012379709397166084, theta1: 1.1651483656381654, error0: 151.5857718219528, error1: 151.5836166060095\n",
      "diff is [-0.46971908244719174, -49.79214110210421]\n",
      "循环次数: 97, theta0: 0.012380070719537197, theta1: 1.165186667285167, error0: 151.5836166060095, error1: 151.58178344966657\n",
      "diff is [-0.42857841637663796, -45.921448215661826]\n",
      "循环次数: 98, theta0: 0.012380400395242103, theta1: 1.1652219914761022, error0: 151.58178344966657, error1: 151.58022422664737\n",
      "diff is [-0.39063594952810377, -42.351655298336254]\n",
      "循环次数: 99, theta0: 0.012380700884434047, theta1: 1.1652545696724854, error0: 151.58022422664737, error1: 151.57889800232198\n",
      "diff is [-0.35564306025304404, -39.05937098481627]\n",
      "循环次数: 100, theta0: 0.012380974456018856, theta1: 1.1652846153424736, error0: 151.57889800232198, error1: 151.57776995903714\n",
      "diff is [-0.3233704542550271, -36.023022307956126]\n",
      "循环次数: 101, theta0: 0.01238122320252213, theta1: 1.1653123253596336, error0: 151.57776995903714, error1: 151.57681048204032\n",
      "diff is [-0.29360666212072317, -33.22271334023668]\n",
      "循环次数: 102, theta0: 0.012381449053800684, theta1: 1.1653378812929722, error0: 151.57681048204032, error1: 151.57599438199438\n",
      "diff is [-0.2661566536484088, -30.640094823959657]\n",
      "循环次数: 103, theta0: 0.012381653789688106, theta1: 1.165361450596683, error0: 151.57599438199438, error1: 151.57530023367698\n",
      "diff is [-0.24084055989663256, -28.25824393626442]\n",
      "循环次数: 104, theta0: 0.012381839051657257, theta1: 1.1653831877074032, error0: 151.57530023367698, error1: 151.57470981349678\n",
      "diff is [-0.21749249457734976, -26.061553400832622]\n",
      "循环次数: 105, theta0: 0.012382006353576162, theta1: 1.1654032350561732, error0: 151.57470981349678, error1: 151.5742076210648\n",
      "diff is [-0.1959594670735072, -24.035629220069495]\n",
      "循环次数: 106, theta0: 0.012382157091627757, theta1: 1.165421724001727, error0: 151.5742076210648, error1: 151.57378047225964\n",
      "diff is [-0.17610037995407168, -22.16719635708506]\n",
      "循环次数: 107, theta0: 0.01238229255345849, theta1: 1.1654387756912326, error0: 151.57378047225964, error1: 151.57341715310028\n",
      "diff is [-0.15778510442125793, -20.44401174991407]\n",
      "循环次数: 108, theta0: 0.012382413926615737, theta1: 1.1654545018541171, error0: 151.57341715310028, error1: 151.5731081253422\n",
      "diff is [-0.14089362763221658, -18.854784087989287]\n",
      "循环次数: 109, theta0: 0.0123825223063293, theta1: 1.1654690055341848, error0: 151.5731081253422, error1: 151.5728452760681\n",
      "diff is [-0.1253152663033532, -17.389099824706364]\n",
      "循环次数: 110, theta0: 0.012382618702687996, theta1: 1.1654823817648192, error0: 151.5728452760681, error1: 151.57262170469647\n",
      "diff is [-0.11094794144915454, -16.03735494185281]\n",
      "循环次数: 111, theta0: 0.012382704047258341, theta1: 1.1654947181916975, error0: 151.57262170469647, error1: 151.57243154181947\n",
      "diff is [-0.0976975095025594, -14.79069201859727]\n",
      "循环次数: 112, theta0: 0.012382779199188728, theta1: 1.1655060956470964, error0: 151.57243154181947, error1: 151.57226979511154\n",
      "diff is [-0.08547714542907414, -13.640942192279056]\n",
      "循环次数: 113, theta0: 0.012382844950839057, theta1: 1.165516588679552, error0: 151.57226979511154, error1: 151.57213221826402\n",
      "diff is [-0.07420677380025609, -12.58057163142854]\n",
      "循环次数: 114, theta0: 0.012382902032972749, theta1: 1.1655262660423453, error0: 151.57213221826402, error1: 151.57201519950655\n",
      "diff is [-0.06381254409248527, -11.602632169676099]\n",
      "循环次数: 115, theta0: 0.012382951119545127, theta1: 1.1655351911440144, error0: 151.57201519950655, error1: 151.5719156667855\n",
      "diff is [-0.0542263467743993, -10.700715777237065]\n",
      "循环次数: 116, theta0: 0.012382992832119568, theta1: 1.165543422463843, error0: 151.5719156667855, error1: 151.57183100711296\n",
      "diff is [-0.04538536701502949, -9.868912571891371]\n",
      "循环次数: 117, theta0: 0.01238302774394035, theta1: 1.1655510139350522, error0: 151.57183100711296, error1: 151.57175899796766\n",
      "diff is [-0.03723167308272224, -9.101772093855175]\n",
      "循环次数: 118, theta0: 0.012383056383688876, theta1: 1.1655580152982012, error0: 151.57175899796766, error1: 151.57169774894527\n",
      "diff is [-0.0297118367439424, -8.394267591280823]\n",
      "循环次数: 119, theta0: 0.01238307923894791, theta1: 1.1655644724271177, error0: 151.57169774894527, error1: 151.57164565213043\n",
      "diff is [-0.022776583169275, -7.74176308197957]\n",
      "循环次数: 120, theta0: 0.012383096759396502, theta1: 1.1655704276294885, error0: 151.57164565213043, error1: 151.57160133988268\n",
      "diff is [-0.016380468057235475, -7.1399829758563556]\n",
      "循环次数: 121, theta0: 0.012383109359756546, theta1: 1.1655759199240854, error0: 151.57160133988268, error1: 151.57156364893234\n",
      "diff is [-0.010481579855451173, -6.58498405864168]\n",
      "循环次数: 122, theta0: 0.012383117422510281, theta1: 1.1655809852964383, error0: 151.57156364893234, error1: 151.57153158984008\n",
      "diff is [-0.005041265132604167, -6.073129653725573]\n",
      "循环次数: 123, theta0: 0.012383121300406537, theta1: 1.1655856569346335, error0: 151.57153158984008, error1: 151.57150432102137\n",
      "diff is [-2.3875298410303003e-05, -5.601065792523002]\n",
      "循环次数: 124, theta0: 0.012383121318772151, theta1: 1.1655899654467816, error0: 151.57150432102137, error1: 151.57148112665274\n",
      "diff is [0.004603466987582294, -5.1656992372410855]\n",
      "循环次数: 125, theta0: 0.0123831177776437, theta1: 1.1655939390615795, error0: 151.57148112665274, error1: 151.57146139787673\n",
      "diff is [0.008871083245722389, -4.764177212329514]\n",
      "循环次数: 126, theta0: 0.012383110953733512, theta1: 1.1655976038132814, error0: 151.57146139787673, error1: 151.57144461682054\n",
      "diff is [0.012806937862691825, -4.393868711238724]\n",
      "循环次数: 127, theta0: 0.012383101102242848, theta1: 1.16560098371229, error0: 151.57144461682054, error1: 151.57143034299799\n",
      "diff is [0.016436821328632334, -4.052347256709595]\n",
      "循环次数: 128, theta0: 0.012383088458534135, theta1: 1.1656041009024876, error0: 151.57143034299799, error1: 151.57141820174607\n",
      "diff is [0.019784519232551645, -3.7373750009749074]\n",
      "循环次数: 129, theta0: 0.012383073239673187, theta1: 1.1656069758063345, error0: 151.57141820174607, error1: 151.57140787438888\n",
      "diff is [0.022871968119069663, -3.4468880620966047]\n",
      "循环次数: 130, theta0: 0.012383055645851557, theta1: 1.16560962725869, error0: 151.57140787438888, error1: 151.57139908987074\n",
      "diff is [0.025719399229132023, -3.1789830002502413]\n",
      "循环次数: 131, theta0: 0.012383035861698304, theta1: 1.1656120726302286, error0: 151.57139908987074, error1: 151.57139161764084\n",
      "diff is [0.028345471067623862, -2.931904345194482]\n",
      "循环次数: 132, theta0: 0.01238301405748979, theta1: 1.1656143279412634, error0: 151.57139161764084, error1: 151.5713852616004\n",
      "diff is [0.03076739166426279, -2.704033093471196]\n",
      "循环次数: 133, theta0: 0.012382990390265433, theta1: 1.16561640796672, error0: 151.5713852616004, error1: 151.5713798549542\n",
      "diff is [0.03300103133069854, -2.493876099733427]\n",
      "循环次数: 134, theta0: 0.012382965004856717, theta1: 1.1656183263329505, error0: 151.5713798549542, error1: 151.57137525583119\n",
      "diff is [0.03506102665203059, -2.300056292795432]\n",
      "循环次数: 135, theta0: 0.012382938034836215, theta1: 1.165620095607022, error0: 151.57137525583119, error1: 151.57137134356122\n",
      "diff is [0.036960876394488196, -2.1213036522254924]\n",
      "循环次数: 136, theta0: 0.012382909603392835, theta1: 1.1656217273790621, error0: 151.57137134356122, error1: 151.5713680155058\n",
      "diff is [0.038713029956767286, -1.9564468864926994]\n",
      "循环次数: 137, theta0: 0.012382879824139022, theta1: 1.1656232323382056, error0: 151.5713680155058, error1: 151.5713651843641\n",
      "diff is [0.04032896894672433, -1.804405757865652]\n",
      "循环次数: 138, theta0: 0.012382848801855216, theta1: 1.1656246203426348, error0: 151.5713651843641, error1: 151.57136277588086\n",
      "diff is [0.04181928241386146, -1.6641840042485683]\n",
      "循环次数: 139, theta0: 0.012382816633176436, theta1: 1.1656259004841765, error0: 151.57136277588086, error1: 151.571360726897\n",
      "diff is [0.04319373623680178, -1.5348628109085212]\n",
      "循环次数: 140, theta0: 0.012382783407225486, theta1: 1.1656270811478773, error0: 151.571360726897, error1: 151.5713589836917\n",
      "diff is [0.04446133711402922, -1.4155947899459989]\n",
      "循环次数: 141, theta0: 0.012382749206196936, theta1: 1.1656281700669464, error0: 151.5713589836917, error1: 151.5713575005717\n",
      "diff is [0.04563039158103521, -1.3055984277398238]\n",
      "循环次数: 142, theta0: 0.01238271410589572, theta1: 1.1656291743734293, error0: 151.5713575005717, error1: 151.57135623867137\n",
      "diff is [0.04670856043964733, -1.2041529639919872]\n",
      "循环次数: 143, theta0: 0.012382678176233845, theta1: 1.16563010064494, error0: 151.57135623867137, error1: 151.57135516493335\n",
      "diff is [0.04770290895672957, -1.1105936688154543]\n",
      "循环次数: 144, theta0: 0.012382641481688493, theta1: 1.1656309549477624, error0: 151.57135516493335, error1: 151.57135425124002\n"
     ]
    }
   ],
   "source": [
    "#开始迭代\n",
    "while True:\n",
    "    cnt=cnt+1\n",
    "    diff = [0,0]\n",
    "    #梯度下降，计算正则项theta0的梯度以及权重theta1的梯度\n",
    "    for i in range(m):\n",
    "        diff[0]+=yhat(x_train[i])-y_train[i]\n",
    "        diff[1]+=(yhat(x_train[i])-y_train[i])*x_train[i]\n",
    "        \n",
    "    print('diff is {0}'.format(diff))\n",
    "    # 更新正则项，即正则项 = 正则项 - 学习率 * 正则项的梯度\n",
    "    theta0=theta0-alpha*diff[0]/m\n",
    "    # 更新权重，即权重 = 权重 - 学习率 * 权重的梯度\n",
    "    theta1=theta1-alpha*diff[1]/m\n",
    "\n",
    "    error1=0\n",
    "    #计算两次迭代的误差的差值，小于阈值则退出迭代，输出拟合结果\n",
    "    for i in range(m):\n",
    "        # 根据公式，应该是error1 += (yhat(x_train[i]) - y_train[i]) ** 2 / (2*m)\n",
    "        # 但是更多的用法是error1 += (yhat(x_train[i]) - y_train[i]) ** 2 / 2，即无需再除以m\n",
    "        error1 += (yhat(x_train[i]) - y_train[i]) ** 2 / 2\n",
    "    \n",
    "    print('循环次数: {0}, theta0: {1}, theta1: {2}, error0: {3}, error1: {4}'.format(cnt, \n",
    "                                                                                 theta0,\n",
    "                                                                                 theta1,\n",
    "                                                                                 error0,\n",
    "                                                                                 error1))\n",
    "    # 如果新的损失函数的值 - 上一次损失函数的值 < 阈值，即epsilon，则认为足够收敛了，结束梯度下降\n",
    "    # 梯度下降结束后，训练的权重theta1以及正则项theta0就固定了\n",
    "    if abs(error1 - error0) < epsilon:\n",
    "        break\n",
    "    else:\n",
    "        error0 = error1"
   ]
  },
  {
   "cell_type": "code",
   "execution_count": 243,
   "metadata": {},
   "outputs": [
    {
     "name": "stdout",
     "output_type": "stream",
     "text": [
      "theta0: 0.012382641481688493, theta1: 1.1656309549477624, error0: 151.57135516493335, error1: 151.57135425124002\n"
     ]
    }
   ],
   "source": [
    "print('theta0: {0}, theta1: {1}, error0: {2}, error1: {3}'.format(theta0, \n",
    "                                                                  theta1, \n",
    "                                                                  error0, \n",
    "                                                                  error1))"
   ]
  },
  {
   "cell_type": "code",
   "execution_count": 244,
   "metadata": {},
   "outputs": [
    {
     "data": {
      "image/png": "[encoded data removed]",
      "text/plain": [
       "<Figure size 432x288 with 1 Axes>"
      ]
     },
     "metadata": {
      "needs_background": "light"
     },
     "output_type": "display_data"
    }
   ],
   "source": [
    "plt.plot(x_train,[yhat(x) for x in x_train])\n",
    "plt.plot(x_train,y_train,'bo')\n",
    "plt.show()"
   ]
  },
  {
   "cell_type": "code",
   "execution_count": null,
   "metadata": {},
   "outputs": [],
   "source": []
  }
 ],
 "metadata": {
  "kernelspec": {
   "display_name": "Python 3",
   "language": "python",
   "name": "python3"
  },
  "language_info": {
   "codemirror_mode": {
    "name": "ipython",
    "version": 3
   },
   "file_extension": ".py",
   "mimetype": "text/x-python",
   "name": "python",
   "nbconvert_exporter": "python",
   "pygments_lexer": "ipython3",
   "version": "3.6.8"
  }
 },
 "nbformat": 4,
 "nbformat_minor": 2
}
