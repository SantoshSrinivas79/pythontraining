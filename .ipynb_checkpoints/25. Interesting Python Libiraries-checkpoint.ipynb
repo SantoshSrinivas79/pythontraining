{
 "cells": [
  {
   "cell_type": "markdown",
   "metadata": {},
   "source": [
    "# Interesting  Python Libraries"
   ]
  },
  {
   "cell_type": "markdown",
   "metadata": {},
   "source": [
    "## 1. Faker"
   ]
  },
  {
   "cell_type": "markdown",
   "metadata": {},
   "source": [
    "在软件需求、开发、测试过程中，有时候需要使用一些测试数据，针对这种情况，我们一般要么使用已有的系统数据，要么需要手动制造一些数据。\n",
    "\n",
    "在手动制造数据的过程中，可能需要花费大量精力和工作量，现在好了，有一个Python包能够协助你完成这方面的工作。"
   ]
  },
  {
   "cell_type": "markdown",
   "metadata": {},
   "source": [
    "### 1.1 什么是Faker?"
   ]
  },
  {
   "cell_type": "markdown",
   "metadata": {},
   "source": [
    "Faker是一个Python包，开源的GITHUB项目，主要用来创建伪数据，使用Faker包，无需再手动生成或者手写随机数来生成数据，只需要调用Faker提供的方法，即可完成数据的生成。\n",
    "\n",
    "项目地址: https://github.com/joke2k/faker"
   ]
  },
  {
   "cell_type": "markdown",
   "metadata": {},
   "source": [
    "<img src='./image/faker_1.png' />"
   ]
  },
  {
   "cell_type": "markdown",
   "metadata": {},
   "source": [
    "### 1.2 安装Faker\n",
    "\n",
    "方法一：\n",
    "\n",
    "```pip install faker```\n",
    "\n",
    "方法二：通过上方提供的github地址，下载编译安装\n",
    "\n",
    "进入clone下来的faker文件夹：\n",
    "\n",
    "```python setup.py build```\n",
    "\n",
    "```python setup.py install```"
   ]
  },
  {
   "cell_type": "markdown",
   "metadata": {},
   "source": [
    "### 1.3 Faker的使用"
   ]
  },
  {
   "cell_type": "markdown",
   "metadata": {},
   "source": [
    "Faker的官方文档：[Welcome to Faker’s documentation!](https://faker.readthedocs.io/en/master/index.html)"
   ]
  },
  {
   "cell_type": "code",
   "execution_count": 12,
   "metadata": {},
   "outputs": [],
   "source": [
    "# 引用包\n",
    "from faker import Faker\n",
    "# 初始化\n",
    "fakecn = Faker(locale='zh_CN')\n",
    "fakejs = Faker(locale='ja_JP')\n",
    "fakeus = Faker(locale='en_US')"
   ]
  },
  {
   "cell_type": "markdown",
   "metadata": {},
   "source": [
    "关于初始化参数locale：为生成数据的文化选项，默认为en_US，只有使用了相关文化，才能生成相对应的随机信息（比如：名字，地址，邮编，城市，省份等）"
   ]
  },
  {
   "cell_type": "markdown",
   "metadata": {},
   "source": [
    "可选择的文化信息："
   ]
  },
  {
   "cell_type": "markdown",
   "metadata": {},
   "source": [
    "ar_EG - Arabic (Egypt)\n",
    "\n",
    "ar_PS - Arabic (Palestine)\n",
    "\n",
    "ar_SA - Arabic (Saudi Arabia)\n",
    "\n",
    "bs_BA - Bosnian\n",
    "\n",
    "bg_BG - Bulgarian\n",
    "\n",
    "cs_CZ - Czech\n",
    "\n",
    "de_DE - German\n",
    "\n",
    "dk_DK - Danish\n",
    "\n",
    "el_GR - Greek\n",
    "\n",
    "en_AU - English (Australia)\n",
    "\n",
    "en_CA - English (Canada)\n",
    "\n",
    "en_GB - English (Great Britain)\n",
    "\n",
    "en_NZ - English (New Zealand)\n",
    "\n",
    "en_US - English (United States)\n",
    "\n",
    "es_ES - Spanish (Spain)\n",
    "\n",
    "es_MX - Spanish (Mexico)\n",
    "\n",
    "et_EE - Estonian\n",
    "\n",
    "fa_IR - Persian (Iran)\n",
    "\n",
    "fi_FI - Finnish\n",
    "\n",
    "fr_FR - French\n",
    "\n",
    "hi_IN - Hindi\n",
    "\n",
    "hr_HR - Croatian\n",
    "\n",
    "hu_HU - Hungarian\n",
    "\n",
    "it_IT - Italian\n",
    "\n",
    "ja_JP - Japanese\n",
    "\n",
    "ko_KR - Korean\n",
    "\n",
    "lt_LT - Lithuanian\n",
    "\n",
    "lv_LV - Latvian\n",
    "\n",
    "ne_NP - Nepali\n",
    "\n",
    "nl_NL - Dutch (Netherlands)\n",
    "\n",
    "no_NO - Norwegian\n",
    "\n",
    "pl_PL - Polish\n",
    "\n",
    "pt_BR - Portuguese (Brazil)\n",
    "\n",
    "pt_PT - Portuguese (Portugal)\n",
    "\n",
    "ro_RO - Romanian\n",
    "\n",
    "ru_RU - Russian\n",
    "\n",
    "sl_SI - Slovene\n",
    "\n",
    "sv_SE - Swedish\n",
    "\n",
    "tr_TR - Turkish\n",
    "\n",
    "uk_UA - Ukrainian\n",
    "\n",
    "zh_CN - Chinese (China)\n",
    "\n",
    "zh_TW - Chinese (Taiwan)\n",
    "\n",
    "ka_GE - Georgian (Georgia)"
   ]
  },
  {
   "cell_type": "markdown",
   "metadata": {},
   "source": [
    "然后即可使用系统提供的方法："
   ]
  },
  {
   "cell_type": "code",
   "execution_count": 13,
   "metadata": {},
   "outputs": [
    {
     "name": "stdout",
     "output_type": "stream",
     "text": [
      "随机姓名地址与日期\n",
      "隆冬梅 河北省重庆县友好邯郸街N座 476451 2000-04-18\n",
      "甫淑珍 浙江省想县合川应街e座 972765 1990-12-09\n",
      "危辉 山西省金凤市和平澳门街u座 660585 1983-12-02\n",
      "仲宇 青海省大冶市徐汇昆明街k座 412526 1972-09-03\n",
      "潘波 福建省沈阳市门头沟乐路f座 284141 1986-04-16\n",
      "宿鹏 广西壮族自治区凤英县房山沈阳街i座 815017 2010-09-28\n",
      "吴燕 江苏省梧州市南湖方街E座 342262 1989-05-25\n",
      "澹林 新疆维吾尔自治区华市西峰熊街L座 696554 1984-05-07\n",
      "方英 甘肃省红市房山赖街j座 358657 1991-04-15\n"
     ]
    }
   ],
   "source": [
    "print(\"随机姓名地址与日期\")\n",
    "for i in range(1, 10):\n",
    "    print(fakecn.name() + \" \" + fakecn.address() + \" \" + fakecn.date())"
   ]
  },
  {
   "cell_type": "code",
   "execution_count": 14,
   "metadata": {},
   "outputs": [
    {
     "name": "stdout",
     "output_type": "stream",
     "text": [
      "随机中国男性名,备注：非常不靠谱\n",
      "利凤英\n",
      "归梅\n",
      "萧淑华\n",
      "羊桂兰\n",
      "常燕\n",
      "易玉梅\n",
      "花旭\n",
      "蓬旭\n",
      "生雷\n",
      "\n",
      "随机中国女性名\n",
      "阴杰\n",
      "诸冬梅\n",
      "丰辉\n",
      "仲玉\n",
      "池文\n",
      "亢秀云\n",
      "正佳\n",
      "利静\n",
      "武玉梅\n"
     ]
    }
   ],
   "source": [
    "print('随机中国男性名,备注：非常不靠谱')\n",
    "for i in range(1, 10):\n",
    "    print(fakecn.name_male())\n",
    "print()\n",
    "print('随机中国女性名')\n",
    "for i in range(1, 10):\n",
    "    print(fakecn.name_female())"
   ]
  },
  {
   "cell_type": "code",
   "execution_count": 15,
   "metadata": {},
   "outputs": [
    {
     "name": "stdout",
     "output_type": "stream",
     "text": [
      "随机日本男性名\n",
      "三宅 健一\n",
      "加納 充\n",
      "廣川 翔太\n",
      "渚 稔\n",
      "宇野 翔太\n",
      "津田 直人\n",
      "鈴木 智也\n",
      "山田 涼平\n",
      "山田 直人\n",
      "\n",
      "随机日本女性名\n",
      "山田 春香\n",
      "村山 真綾\n",
      "山口 あすか\n",
      "青田 舞\n",
      "桐山 真綾\n",
      "小泉 直子\n",
      "伊藤 裕美子\n",
      "渚 舞\n",
      "藤本 千代\n"
     ]
    }
   ],
   "source": [
    "print('随机日本男性名')\n",
    "for i in range(1, 10):\n",
    "    print(fakejs.name_male())\n",
    "print()\n",
    "print('随机日本女性名')\n",
    "for i in range(1, 10):\n",
    "    print(fakejs.name_female())"
   ]
  },
  {
   "cell_type": "code",
   "execution_count": 16,
   "metadata": {},
   "outputs": [
    {
     "name": "stdout",
     "output_type": "stream",
     "text": [
      "随机美国男性名\n",
      "Tony Ramos\n",
      "Scott Miller\n",
      "Patrick Baxter\n",
      "Justin Wilson\n",
      "Timothy Clark\n",
      "Michael Hughes\n",
      "Scott Hawkins\n",
      "Zachary Morrison\n",
      "Corey Nguyen\n",
      "\n",
      "随机美国女性名\n",
      "Sherry Allen\n",
      "Brenda Stevens\n",
      "Tracie Green\n",
      "Natalie Boyd\n",
      "Andrea Ayala\n",
      "Brittany Newman\n",
      "Mrs. Jennifer Oconnor\n",
      "Shelly Powell\n",
      "Ann Howard\n"
     ]
    }
   ],
   "source": [
    "print('随机美国男性名')\n",
    "for i in range(1, 10):\n",
    "    print(fakeus.name_male())\n",
    "print()\n",
    "print('随机美国女性名')\n",
    "for i in range(1, 10):\n",
    "    print(fakeus.name_female())"
   ]
  },
  {
   "cell_type": "code",
   "execution_count": 17,
   "metadata": {},
   "outputs": [
    {
     "name": "stdout",
     "output_type": "stream",
     "text": [
      "Stephanie Martin MD 7328 Acosta Crossroad\n",
      "West Jeremy, ND 26725 1971-11-22\n",
      "Phillip Crawford 9210 Joseph Street\n",
      "North Justinstad, SC 06359 1973-04-02\n",
      "James Gallagher 283 Pamela Route Apt. 456\n",
      "South Dwaynechester, NY 40628 1971-07-10\n",
      "Tracy Anderson Unit 1442 Box 8881\n",
      "DPO AE 68022 2018-09-04\n",
      "Jennifer Peters 5055 Laura Dale\n",
      "Lake Philip, NH 10201 1978-11-04\n",
      "Austin Cummings 119 Alvarez Squares\n",
      "East Diana, WY 41747 2005-08-03\n",
      "William Willis 2550 Michael Ferry\n",
      "Lake Johnshire, FL 43667 1985-06-26\n",
      "Matthew Perkins 204 Allen Underpass Apt. 363\n",
      "Carolynstad, NH 42511 1983-07-29\n",
      "Jessica Brennan 277 Brian Fork\n",
      "Lake Lisaville, LA 98782 1992-03-06\n"
     ]
    }
   ],
   "source": [
    "# 地址设置为美国\n",
    "fakeus = Faker(locale='en_US')\n",
    "for i in range(1, 10):\n",
    "    print(fakeus.name() + \" \" + fakeus.address() + \" \" + fakeus.date())"
   ]
  },
  {
   "cell_type": "code",
   "execution_count": 18,
   "metadata": {},
   "outputs": [
    {
     "name": "stdout",
     "output_type": "stream",
     "text": [
      "井高 浩 静岡県横浜市西区三ノ輪30丁目15番2号 1992-03-28\n",
      "佐々木 美加子 福岡県葛飾区上野桜木11丁目27番17号 日光コーポ135 1980-06-04\n",
      "江古田 千代 岡山県調布市東神田40丁目5番19号 2008-03-27\n",
      "喜嶋 幹 大分県世田谷区筑土八幡町30丁目19番6号 花川戸コーポ397 1993-08-03\n",
      "村山 明美 熊本県横浜市港南区丸の内ＪＰタワー7丁目22番1号 2015-01-05\n",
      "桐山 千代 茨城県国分寺市上高野20丁目8番17号 轟アーバン179 1979-11-24\n",
      "山田 康弘 島根県板橋区白金42丁目10番17号 シャルム虎ノ門782 2010-06-12\n",
      "宮沢 幹 宮崎県鎌ケ谷市中三依20丁目19番9号 土沢コート089 1979-11-04\n",
      "石田 花子 鹿児島県大網白里市細野24丁目25番9号 台場コート028 1974-05-06\n"
     ]
    }
   ],
   "source": [
    "# 地址设置为日本\n",
    "fakejs = Faker(locale='ja_JP')\n",
    "for i in range(1, 10):\n",
    "    print(fakejs.name() + \" \" + fakejs.address() + \" \" + fakejs.date())"
   ]
  },
  {
   "cell_type": "code",
   "execution_count": 19,
   "metadata": {},
   "outputs": [
    {
     "name": "stdout",
     "output_type": "stream",
     "text": [
      "45Y MQ3\n",
      "4BE0070\n",
      "5-70710\n",
      "681-CKS\n",
      "485-QJOP\n",
      "TVJ 634\n",
      "000-DHZ\n",
      "UDY-920\n",
      "CKS-7378\n"
     ]
    }
   ],
   "source": [
    "# 生成汽车牌照\n",
    "for i in range(1, 10):\n",
    "    print(fakeus.license_plate())"
   ]
  },
  {
   "cell_type": "code",
   "execution_count": 20,
   "metadata": {},
   "outputs": [
    {
     "name": "stdout",
     "output_type": "stream",
     "text": [
      "中国公司\n",
      "\n",
      "公司前缀: 万迅电脑, 公司后缀: 科技有限公司\n",
      "公司前缀: 信诚致远, 公司后缀: 传媒有限公司\n",
      "公司前缀: 恒聪百汇, 公司后缀: 传媒有限公司\n",
      "公司前缀: 昂歌信息, 公司后缀: 科技有限公司\n",
      "公司前缀: 信诚致远, 公司后缀: 科技有限公司\n",
      "公司前缀: 快讯, 公司后缀: 传媒有限公司\n",
      "公司前缀: 天益, 公司后缀: 科技有限公司\n",
      "公司前缀: 通际名联, 公司后缀: 信息有限公司\n",
      "公司前缀: 佳禾, 公司后缀: 科技有限公司\n",
      "\n",
      "公司全称: 和泰网络有限公司\n",
      "公司全称: 毕博诚传媒有限公司\n",
      "公司全称: 万迅电脑科技有限公司\n",
      "公司全称: 艾提科信传媒有限公司\n",
      "公司全称: 超艺信息有限公司\n",
      "公司全称: 毕博诚网络有限公司\n",
      "公司全称: 时空盒数字科技有限公司\n",
      "公司全称: 双敏电子网络有限公司\n",
      "公司全称: 天益传媒有限公司\n"
     ]
    }
   ],
   "source": [
    "# 生成公司名称\n",
    "print('中国公司\\n')\n",
    "for i in range(1, 10):\n",
    "    print('公司前缀: {0}, 公司后缀: {1}'.format(fakecn.company_prefix(), fakecn.company_suffix()))\n",
    "\n",
    "print()\n",
    "for i in range(1, 10):\n",
    "    print('公司全称: {0}'.format(fakecn.company()))"
   ]
  },
  {
   "cell_type": "code",
   "execution_count": 21,
   "metadata": {},
   "outputs": [
    {
     "name": "stdout",
     "output_type": "stream",
     "text": [
      "美国公司\n",
      "\n",
      "公司后缀: PLC\n",
      "公司后缀: and Sons\n",
      "公司后缀: and Sons\n",
      "公司后缀: Group\n",
      "公司后缀: Ltd\n",
      "公司后缀: Inc\n",
      "公司后缀: Group\n",
      "公司后缀: Inc\n",
      "公司后缀: and Sons\n",
      "\n",
      "公司全称: Trujillo-Lambert\n",
      "公司全称: Daniel, Walton and Jackson\n",
      "公司全称: Knight, Miller and Conway\n",
      "公司全称: Cummings-Morrison\n",
      "公司全称: Anderson-Bautista\n",
      "公司全称: Williams and Sons\n",
      "公司全称: Floyd-Gonzalez\n",
      "公司全称: Fernandez, Nelson and Green\n",
      "公司全称: Hernandez, Barnett and Clark\n"
     ]
    }
   ],
   "source": [
    "# 生成公司名称\n",
    "print('美国公司\\n')\n",
    "for i in range(1, 10):\n",
    "    print('公司后缀: {0}'.format(fakeus.company_suffix()))\n",
    "\n",
    "print()\n",
    "for i in range(1, 10):\n",
    "    print('公司全称: {0}'.format(fakeus.company()))"
   ]
  },
  {
   "cell_type": "code",
   "execution_count": 22,
   "metadata": {},
   "outputs": [
    {
     "name": "stdout",
     "output_type": "stream",
     "text": [
      "日本公司\n",
      "\n",
      "公司前缀: 合同会社, 公司后缀: Group\n",
      "公司前缀: 有限会社, 公司后缀: Inc\n",
      "公司前缀: 有限会社, 公司后缀: LLC\n",
      "公司前缀: 合同会社, 公司后缀: and Sons\n",
      "公司前缀: 合同会社, 公司后缀: and Sons\n",
      "公司前缀: 有限会社, 公司后缀: Group\n",
      "公司前缀: 合同会社, 公司后缀: LLC\n",
      "公司前缀: 株式会社, 公司后缀: Ltd\n",
      "公司前缀: 有限会社, 公司后缀: PLC\n",
      "\n",
      "公司全称: 株式会社渚鉱業\n",
      "公司全称: 田辺印刷株式会社\n",
      "公司全称: 井高建設合同会社\n",
      "公司全称: 合同会社松本電気\n",
      "公司全称: 有限会社青山通信\n",
      "公司全称: 小林電気株式会社\n",
      "公司全称: 藤本情報株式会社\n",
      "公司全称: 株式会社田辺食品\n",
      "公司全称: 有限会社鈴木運輸\n"
     ]
    }
   ],
   "source": [
    "# 生成公司名称\n",
    "print('日本公司\\n')\n",
    "for i in range(1, 10):\n",
    "    print('公司前缀: {0}, 公司后缀: {1}'.format(fakejs.company_prefix(), fakejs.company_suffix()))\n",
    "\n",
    "print()\n",
    "for i in range(1, 10):\n",
    "    print('公司全称: {0}'.format(fakejs.company()))"
   ]
  },
  {
   "cell_type": "code",
   "execution_count": 23,
   "metadata": {},
   "outputs": [
    {
     "name": "stdout",
     "output_type": "stream",
     "text": [
      "随机日期\n",
      "1974-03-04\n",
      "\n",
      "随机今年日期\n",
      "2019-01-01\n",
      "\n",
      "随机本月日期\n",
      "2019-01-01\n",
      "\n",
      "随机十年内日期\n",
      "2013-06-26\n",
      "\n",
      "随机本世纪内日期\n",
      "2010-11-04\n",
      "\n",
      "随机日期与时间\n",
      "1988-11-07 08:46:39\n",
      "\n",
      "随机今年日期时间\n",
      "2019-01-01 20:20:47\n",
      "\n",
      "随机未来日期时间\n",
      "2019-01-22 15:02:58\n"
     ]
    }
   ],
   "source": [
    "# 日期\n",
    "import datetime\n",
    "print('随机日期')\n",
    "print(fakecn.date())\n",
    "print()\n",
    "print('随机今年日期')\n",
    "print(fakecn.date_this_year().strftime(\"%Y-%m-%d\"))\n",
    "print()\n",
    "print('随机本月日期')\n",
    "print(fakecn.date_this_month().strftime(\"%Y-%m-%d\"))\n",
    "print()\n",
    "print('随机十年内日期')\n",
    "print(fakecn.date_this_decade().strftime(\"%Y-%m-%d\"))\n",
    "print()\n",
    "print('随机本世纪内日期')\n",
    "print(fakecn.date_this_century().strftime(\"%Y-%m-%d\"))\n",
    "print()\n",
    "print('随机日期与时间')\n",
    "print(fakecn.date_time().strftime(\"%Y-%m-%d %H:%M:%S\"))\n",
    "print()\n",
    "print('随机今年日期时间')\n",
    "print(fakecn.date_time_this_year().strftime(\"%Y-%m-%d %H:%M:%S\"))\n",
    "print()\n",
    "print('随机未来日期时间')\n",
    "print(fakecn.future_datetime().strftime(\"%Y-%m-%d %H:%M:%S\"))"
   ]
  },
  {
   "cell_type": "code",
   "execution_count": 24,
   "metadata": {},
   "outputs": [
    {
     "name": "stdout",
     "output_type": "stream",
     "text": [
      "随机密码\n",
      "qVhVhStE)4\n",
      "LaP*W7Mate\n",
      "$jW9RbY#7Z\n",
      "2McY$D3e*n\n",
      "eQC*1Aq6k%\n",
      "rk4bZv^im(\n",
      "n(3QNpUo@T\n",
      "&l)SpwL&0G\n",
      "^xv2weQiMo\n"
     ]
    }
   ],
   "source": [
    "print('随机密码')\n",
    "for i in range(1, 10):\n",
    "    print(fakeus.password())"
   ]
  },
  {
   "cell_type": "code",
   "execution_count": 25,
   "metadata": {},
   "outputs": [
    {
     "name": "stdout",
     "output_type": "stream",
     "text": [
      "随机中国手机号码\n",
      "15505343635\n",
      "15675719975\n",
      "15975600421\n",
      "18081690447\n",
      "13458164938\n",
      "13219085397\n",
      "13991931072\n",
      "13621569794\n",
      "13754682350\n"
     ]
    }
   ],
   "source": [
    "print('随机中国手机号码')\n",
    "for i in range(1, 10):\n",
    "    print(fakecn.phone_number())"
   ]
  },
  {
   "cell_type": "code",
   "execution_count": 26,
   "metadata": {},
   "outputs": [
    {
     "name": "stdout",
     "output_type": "stream",
     "text": [
      "随机美国手机号码\n",
      "5963595044\n",
      "868.642.1547x583\n",
      "+1-904-679-9917\n",
      "208.432.3843x997\n",
      "(833)659-9763x617\n",
      "726.903.5406x4911\n",
      "322.949.4093x5566\n",
      "001-626-729-4658x2306\n",
      "+1-585-982-4213x54662\n"
     ]
    }
   ],
   "source": [
    "print('随机美国手机号码')\n",
    "for i in range(1, 10):\n",
    "    print(fakeus.phone_number())"
   ]
  },
  {
   "cell_type": "code",
   "execution_count": 27,
   "metadata": {},
   "outputs": [
    {
     "name": "stdout",
     "output_type": "stream",
     "text": [
      "随机英文段落\n",
      "['Plant dream full reduce summer moment world affect. Miss memory audience degree economic opportunity behind turn.', 'Everything need worry member. Want smile develop car. Feeling student yet compare join actually space. Control half station mention scene entire public.', 'Lose production particularly billion. Play field effect chance. True draw decision politics oil up. Be behind traditional old prove several audience.']\n"
     ]
    }
   ],
   "source": [
    "print('随机英文段落')\n",
    "print(fakeus.paragraphs())"
   ]
  },
  {
   "cell_type": "code",
   "execution_count": 28,
   "metadata": {},
   "outputs": [
    {
     "name": "stdout",
     "output_type": "stream",
     "text": [
      "随机中文段落\n",
      "['那些责任法律建设.开发目前能够最大技术东西需要生活.如此地区提高发表工程电话.一点以后资源政府时候积分.', '系统时候不同一直的人您的只是.在线地区今天所以中文现在.服务部门社区孩子其实.', '积分没有那些政府.其实位置发表这么法律美国图片.怎么内容合作大小用户我的.']\n"
     ]
    }
   ],
   "source": [
    "print('随机中文段落')\n",
    "print(fakecn.paragraphs())"
   ]
  },
  {
   "cell_type": "code",
   "execution_count": 29,
   "metadata": {},
   "outputs": [
    {
     "name": "stdout",
     "output_type": "stream",
     "text": [
      "随机日文段落\n",
      "['副バーゲンパーセントリハビリ職人戦略的。織るキャビネット血まみれの屋根裏ダニバケツ。感謝するインチ陶器フレーム装置パーセント。', '腐った尿必要ニュース装置厳しい。参加するストレージ証言する偏差。私バスケット叔父敵。パン敵対的な意図。', '証言する特徴自体保証金パイオニア。軸ブレーキ部隊。']\n"
     ]
    }
   ],
   "source": [
    "print('随机日文段落')\n",
    "print(fakejs.paragraphs())"
   ]
  },
  {
   "cell_type": "code",
   "execution_count": 30,
   "metadata": {},
   "outputs": [
    {
     "data": {
      "text/plain": [
       "'辽阳'"
      ]
     },
     "execution_count": 30,
     "metadata": {},
     "output_type": "execute_result"
    }
   ],
   "source": [
    "fakecn.city_name()"
   ]
  },
  {
   "cell_type": "code",
   "execution_count": 31,
   "metadata": {},
   "outputs": [
    {
     "name": "stdout",
     "output_type": "stream",
     "text": [
      "随机IP地址\n",
      "IPV4 private: 192.168.195.155, IPV4 public: 26.153.7.143, IPV6: 1374:1a11:e099:b1e3:176c:f79:4af8:15e9\n",
      "IPV4 private: 192.168.246.116, IPV4 public: 19.250.60.205, IPV6: c324:1add:a89b:ed86:65fe:67d4:eb29:a4f\n",
      "IPV4 private: 192.168.221.170, IPV4 public: 192.0.1.185, IPV6: 9b30:141f:5140:b70a:e6d1:f82e:e4cb:5d2f\n",
      "IPV4 private: 172.25.79.46, IPV4 public: 108.219.1.38, IPV6: 2ce5:eec3:229b:9fb5:ad99:2ed6:c09e:52fb\n",
      "IPV4 private: 10.186.175.106, IPV4 public: 203.0.68.86, IPV6: 59cf:3d38:dfd1:b263:d189:c76b:c6d9:42de\n",
      "IPV4 private: 192.168.104.11, IPV4 public: 2.252.221.191, IPV6: cf4a:834a:98d5:a116:8743:132d:e1d0:3665\n",
      "IPV4 private: 10.36.7.134, IPV4 public: 2.173.252.182, IPV6: 4051:388:2bc4:17b1:aca:8070:19a0:f968\n",
      "IPV4 private: 172.20.186.119, IPV4 public: 98.233.139.176, IPV6: daab:a084:de67:e650:bfba:d:9fde:a0d\n",
      "IPV4 private: 172.29.169.39, IPV4 public: 3.52.172.251, IPV6: 2163:2450:db76:77d8:976d:1f22:e87b:98d2\n"
     ]
    }
   ],
   "source": [
    "print('随机IP地址')\n",
    "for i in range(1, 10):\n",
    "    print('IPV4 private: {0}, IPV4 public: {1}, IPV6: {2}'.format(fakecn.ipv4_private(), fakecn.ipv4_public(), fakecn.ipv6()))"
   ]
  }
 ],
 "metadata": {
  "kernelspec": {
   "display_name": "Python 3",
   "language": "python",
   "name": "python3"
  },
  "language_info": {
   "codemirror_mode": {
    "name": "ipython",
    "version": 3
   },
   "file_extension": ".py",
   "mimetype": "text/x-python",
   "name": "python",
   "nbconvert_exporter": "python",
   "pygments_lexer": "ipython3",
   "version": "3.6.2"
  },
  "toc": {
   "base_numbering": 1,
   "nav_menu": {
    "height": "116.989px",
    "width": "225.994px"
   },
   "number_sections": true,
   "sideBar": true,
   "skip_h1_title": false,
   "title_cell": "Table of Contents",
   "title_sidebar": "Contents",
   "toc_cell": false,
   "toc_position": {},
   "toc_section_display": true,
   "toc_window_display": true
  }
 },
 "nbformat": 4,
 "nbformat_minor": 2
}
