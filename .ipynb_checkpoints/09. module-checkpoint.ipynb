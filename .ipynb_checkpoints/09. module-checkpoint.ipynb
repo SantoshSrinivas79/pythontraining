{
 "cells": [
  {
   "cell_type": "markdown",
   "metadata": {},
   "source": [
    "# 模块\n",
    "在前面的几个章节中我们脚本上是用 python 解释器来编程，如果你从 Python 解释器退出再进入，那么你定义的所有的方法和变量就都消失了。\n",
    "\n",
    "为此 Python 提供了一个办法，把这些定义存放在文件中，为一些脚本或者交互式的解释器实例使用，这个文件被称为模块。\n",
    "\n",
    "模块是一个包含所有你定义的函数和变量的文件，其后缀名是.py。模块可以被别的程序引入，以使用该模块中的函数等功能。这也是使用 python 标准库的方法。\n",
    "\n",
    "下面是一个使用 python 标准库中模块的例子"
   ]
  },
  {
   "cell_type": "code",
   "execution_count": 1,
   "metadata": {},
   "outputs": [
    {
     "name": "stdout",
     "output_type": "stream",
     "text": [
      "命令行参数如下:\n",
      "d:\\python36\\lib\\site-packages\\ipykernel_launcher.py\n",
      "-f\n",
      "C:\\Users\\bhe\\AppData\\Roaming\\jupyter\\runtime\\kernel-e9b2e4b4-418c-4009-a911-3121ff36bbf3.json\n",
      "\n",
      "\n",
      "Python路径为： ['', 'd:\\\\python36\\\\python36.zip', 'd:\\\\python36\\\\DLLs', 'd:\\\\python36\\\\lib', 'd:\\\\python36', 'C:\\\\Users\\\\bhe\\\\AppData\\\\Roaming\\\\Python\\\\Python36\\\\site-packages', 'd:\\\\python36\\\\lib\\\\site-packages', 'd:\\\\python36\\\\lib\\\\site-packages\\\\shap-0.27.2-py3.6-win-amd64.egg', 'd:\\\\python36\\\\lib\\\\site-packages\\\\win32', 'd:\\\\python36\\\\lib\\\\site-packages\\\\win32\\\\lib', 'd:\\\\python36\\\\lib\\\\site-packages\\\\Pythonwin', 'd:\\\\python36\\\\lib\\\\site-packages\\\\IPython\\\\extensions', 'C:\\\\Users\\\\bhe\\\\.ipython'] \n",
      "\n"
     ]
    }
   ],
   "source": [
    "import sys\n",
    "print('命令行参数如下:')\n",
    "for i in sys.argv:\n",
    "    print(i)\n",
    "\n",
    "print('\\n\\nPython路径为：', sys.path, '\\n')"
   ]
  },
  {
   "cell_type": "markdown",
   "metadata": {},
   "source": [
    "1. import sys 引入 python 标准库中的 sys.py 模块；这是引入某一模块的方法\n",
    "2. sys.argv 是一个包含命令行参数的列表\n",
    "3. sys.path 包含了一个 Python 解释器自动查找所需模块的路径的列表"
   ]
  },
  {
   "cell_type": "markdown",
   "metadata": {},
   "source": [
    "## import语句\n",
    "想使用 Python 源文件，只需在另一个源文件里执行 import 语句，语法如下\n",
    "<br>import module1[, module2[,... moduleN]\n"
   ]
  },
  {
   "cell_type": "markdown",
   "metadata": {},
   "source": [
    "当解释器遇到 import 语句，如果模块在当前的搜索路径就会被导入。\n",
    "\n",
    "搜索路径是一个解释器会先进行搜索的所有目录的列表。如想要导入模块 support，需要把命令放在脚本的顶端："
   ]
  },
  {
   "cell_type": "markdown",
   "metadata": {},
   "source": [
    "下面示范如何通过Jupyter Notebook load一个已存在的python文件。\n",
    "1. %load [python文件路径], 如%load ./code/support.py\n",
    "2. Jupyter会将该文件中所有代码加载进来，并将%load语句注释\n",
    "3. 之后就可以使用该文件中的方法与成员了。"
   ]
  },
  {
   "cell_type": "code",
   "execution_count": 7,
   "metadata": {},
   "outputs": [
    {
     "name": "stdout",
     "output_type": "stream",
     "text": [
      "Hello :  world\n"
     ]
    }
   ],
   "source": [
    "# %load ./code/support.py\n",
    "def print_func(par):\n",
    "    print (\"Hello : \", par)\n",
    "    return\n",
    "\n",
    "print_func('world')"
   ]
  },
  {
   "cell_type": "code",
   "execution_count": null,
   "metadata": {},
   "outputs": [],
   "source": [
    "import support\n",
    "support.print_func('good')"
   ]
  },
  {
   "cell_type": "code",
   "execution_count": null,
   "metadata": {},
   "outputs": [],
   "source": [
    "%run ./code/support.py"
   ]
  },
  {
   "cell_type": "code",
   "execution_count": null,
   "metadata": {},
   "outputs": [],
   "source": [
    "import os\n",
    "with open('./code/support.py', 'r') as file:\n",
    "    print(file.read())"
   ]
  },
  {
   "cell_type": "code",
   "execution_count": null,
   "metadata": {},
   "outputs": [],
   "source": [
    "help(os)"
   ]
  },
  {
   "cell_type": "markdown",
   "metadata": {},
   "source": [
    "一个模块只会被导入一次，不管你执行了多少次import。这样可以防止导入模块被一遍又一遍地执行。\n",
    "\n",
    "当我们使用import语句的时候，Python解释器是怎样找到对应的文件的呢？\n",
    "\n",
    "这就涉及到Python的搜索路径，搜索路径是由一系列目录名组成的，Python解释器就依次从这些目录中去寻找所引入的模块。\n",
    "\n",
    "这看起来很像环境变量，事实上，也可以通过定义环境变量的方式来确定搜索路径。\n",
    "\n",
    "搜索路径是在Python编译或安装的时候确定的，安装新的库应该也会修改。搜索路径被存储在sys模块中的path变量，做一个简单的实验，在交互式解释器中，输入以下代码："
   ]
  },
  {
   "cell_type": "code",
   "execution_count": null,
   "metadata": {},
   "outputs": [],
   "source": [
    "import sys\n",
    "print(sys.path)"
   ]
  },
  {
   "cell_type": "markdown",
   "metadata": {},
   "source": [
    "sys.path 输出是一个列表，其中第一项是空串''，代表当前目录（若是从一个脚本中打印出来的话，可以更清楚地看出是哪个目录），亦即我们执行python解释器的目录（对于脚本的话就是运行的脚本所在的目录）。\n",
    "\n",
    "因此若像我一样在当前目录下存在与要引入模块同名的文件，就会把要引入的模块屏蔽掉。\n",
    "\n",
    "了解了搜索路径的概念，就可以在脚本中修改sys.path来引入一些不在搜索路径中的模块。"
   ]
  },
  {
   "cell_type": "markdown",
   "metadata": {},
   "source": [
    "## from … import 语句\n",
    "Python 的 from 语句让你从模块中导入一个指定的部分到当前命名空间中，语法如下\n",
    "<br>from modname import name1[, name2[, ... nameN]]"
   ]
  },
  {
   "cell_type": "code",
   "execution_count": null,
   "metadata": {},
   "outputs": [],
   "source": [
    "from logutil import logger\n",
    "logger.info('hello')"
   ]
  },
  {
   "cell_type": "markdown",
   "metadata": {},
   "source": [
    "## 深入模块\n",
    "模块除了方法定义，还可以包括可执行的代码。这些代码一般用来初始化这个模块。这些代码只有在第一次被导入时才会被执行。\n",
    "\n",
    "每个模块有各自独立的符号表，在模块内部为所有的函数当作全局符号表来使用。\n",
    "\n",
    "所以，模块的作者可以放心大胆的在模块内部使用这些全局变量，而不用担心把其他用户的全局变量搞花。\n",
    "\n",
    "从另一个方面，当你确实知道你在做什么的话，你也可以通过 modname.itemname 这样的表示法来访问模块内的函数。\n",
    "\n",
    "模块是可以导入其他模块的。在一个模块（或者脚本，或者其他地方）的最前面使用 import 来导入一个模块，当然这只是一个惯例，而不是强制的。被导入的模块的名称将被放入当前操作的模块的符号表中。\n",
    "\n",
    "还有一种导入的方法，可以使用 import 直接把模块内（函数，变量的）名称导入到当前操作模块"
   ]
  },
  {
   "cell_type": "code",
   "execution_count": null,
   "metadata": {},
   "outputs": [],
   "source": [
    "# %load fibo.py\n",
    "def fib(n):    # 定义到 n 的斐波那契数列，实时打印\n",
    "    a, b = 0, 1\n",
    "    while b < n:\n",
    "        print(b, end=' ')\n",
    "        a, b = b, a+b\n",
    "    print()\n",
    "    \n",
    "def fib2(n): # 返回到 n 的斐波那契数列，返回列表\n",
    "    result = []\n",
    "    a, b = 0, 1\n",
    "    while b < n:\n",
    "        result.append(b)\n",
    "        a, b = b, a+b\n",
    "    return result"
   ]
  },
  {
   "cell_type": "code",
   "execution_count": null,
   "metadata": {},
   "outputs": [],
   "source": [
    "from fibo import fib, fib2\n",
    "print(fib2(50))"
   ]
  },
  {
   "cell_type": "markdown",
   "metadata": {},
   "source": [
    "这种导入的方法不会把被导入的模块的名称放在当前的字符表中（所以在这个例子里面，fibo 这个名称是没有定义的）。\n",
    "\n",
    "这还有一种方法，可以一次性的把模块中的所有（函数，变量）名称都导入到当前模块的字符表"
   ]
  },
  {
   "cell_type": "code",
   "execution_count": null,
   "metadata": {},
   "outputs": [],
   "source": [
    "from fibo import *\n",
    "print(fib2(500))"
   ]
  },
  {
   "cell_type": "markdown",
   "metadata": {},
   "source": [
    "这将把所有的名字都导入进来，但是那些由单一下划线（_）开头的名字不在此例。大多数情况， Python程序员不使用这种方法，因为引入的其它来源的命名，很可能覆盖了已有的定义"
   ]
  },
  {
   "cell_type": "markdown",
   "metadata": {},
   "source": [
    "## \\_\\_name\\_\\_属性\n",
    "一个模块被另一个程序第一次引入时，其主程序将运行。如果我们想在模块被引入时，模块中的某一程序块不执行，我们可以用\\_\\_name\\_\\_属性来使该程序块仅在该模块自身运行时执行"
   ]
  },
  {
   "cell_type": "code",
   "execution_count": null,
   "metadata": {},
   "outputs": [],
   "source": [
    "import using_name"
   ]
  },
  {
   "cell_type": "code",
   "execution_count": null,
   "metadata": {},
   "outputs": [],
   "source": [
    "# %load using_name.py\n",
    "\"\"\"\n",
    "@version: 0.1\n",
    "@author: Blade He\n",
    "@license: Morningstar \n",
    "@contact: blade.he@morningstar.com\n",
    "@site: \n",
    "@software: PyCharm\n",
    "@file: using_name.py\n",
    "@time: 2018/7/22 16:09\n",
    "\"\"\"\n",
    "\n",
    "\n",
    "def startjob():\n",
    "    pass\n",
    "\n",
    "\n",
    "if __name__ == '__main__':\n",
    "    print('程序自身在运行')\n",
    "else:\n",
    "    print('我来自另一模块')"
   ]
  },
  {
   "cell_type": "markdown",
   "metadata": {},
   "source": [
    "说明： 每个模块都有一个\\_\\_name\\_\\_属性，当其值是'\\_\\_main\\_\\_'时，表明该模块自身在运行，否则是被引入。\n",
    "\n",
    "说明：\\_\\_name\\_\\_ 与 \\_\\_main\\_\\_ 底下是双下划线"
   ]
  },
  {
   "cell_type": "markdown",
   "metadata": {},
   "source": [
    "## dir()函数\n",
    "内置的函数 dir() 可以找到模块内定义的所有名称。以一个字符串列表的形式返回"
   ]
  },
  {
   "cell_type": "code",
   "execution_count": null,
   "metadata": {},
   "outputs": [],
   "source": [
    "import fibo\n",
    "print(dir(fibo))"
   ]
  },
  {
   "cell_type": "code",
   "execution_count": null,
   "metadata": {},
   "outputs": [],
   "source": [
    "import sys\n",
    "print(dir(sys))\n",
    "print('---------This is split line-------------------')\n",
    "print([member for member in dir(sys) if '_' not in member])"
   ]
  },
  {
   "cell_type": "markdown",
   "metadata": {},
   "source": [
    "如果没有给定参数，那么 dir() 函数会罗列出当前定义的所有名称:"
   ]
  },
  {
   "cell_type": "code",
   "execution_count": null,
   "metadata": {},
   "outputs": [],
   "source": [
    "a = [1, 2, 3, 4, 5]\n",
    "import fibo\n",
    "fib = fibo.fib\n",
    "print(dir())"
   ]
  },
  {
   "cell_type": "markdown",
   "metadata": {},
   "source": [
    "## 标准模块\n",
    "Python 本身带着一些标准的模块库，在 Python 库参考文档中将会介绍到（就是后面的\"库参考文档\"）。\n",
    "\n",
    "有些模块直接被构建在解析器里，这些虽然不是一些语言内置的功能，但是他却能很高效的使用，甚至是系统级调用也没问题。\n",
    "\n",
    "这些组件会根据不同的操作系统进行不同形式的配置，比如 winreg 这个模块就只会提供给 Windows 系统。\n",
    "\n",
    "应该注意到这有一个特别的模块 sys ，它内置在每一个 Python 解析器中。变量 sys.ps1 和 sys.ps2 定义了主提示符和副提示符所对应的字符串:"
   ]
  },
  {
   "cell_type": "code",
   "execution_count": null,
   "metadata": {},
   "outputs": [],
   "source": [
    "import sys\n",
    "print(sys.ps1)\n",
    "print(sys.ps2)\n",
    "sys.ps1 = 'C> '\n",
    "print(sys.ps1)"
   ]
  },
  {
   "cell_type": "markdown",
   "metadata": {},
   "source": [
    "## 包\n",
    "包是一种管理 Python 模块命名空间的形式，采用\"点模块名称\"。\n",
    "\n",
    "比如一个模块的名称是 A.B， 那么他表示一个包 A中的子模块 B 。\n",
    "\n",
    "就好像使用模块的时候，你不用担心不同模块之间的全局变量相互影响一样，采用点模块名称这种形式也不用担心不同库之间的模块重名的情况。\n",
    "\n",
    "这样不同的作者都可以提供 NumPy 模块，或者是 Python 图形库。\n",
    "\n",
    "不妨假设你想设计一套统一处理声音文件和数据的模块（或者称之为一个\"包\"）。\n",
    "\n",
    "现存很多种不同的音频文件格式（基本上都是通过后缀名区分的，例如： .wav，:file:.aiff，:file:.au，），所以你需要有一组不断增加的模块，用来在不同的格式之间转换。\n",
    "\n",
    "并且针对这些音频数据，还有很多不同的操作（比如混音，添加回声，增加均衡器功能，创建人造立体声效果），所以你还需要一组怎么也写不完的模块来处理这些操作。\n",
    "\n",
    "这里给出了一种可能的包结构（在分层的文件系统中）"
   ]
  },
  {
   "cell_type": "markdown",
   "metadata": {},
   "source": [
    "```\n",
    "sound/                          顶层包\n",
    "      __init__.py               初始化 sound 包\n",
    "      formats/                  文件格式转换子包\n",
    "              __init__.py\n",
    "              wavread.py\n",
    "              wavwrite.py\n",
    "              aiffread.py\n",
    "              aiffwrite.py\n",
    "              auread.py\n",
    "              auwrite.py\n",
    "              ...\n",
    "      effects/                  声音效果子包\n",
    "              __init__.py\n",
    "              echo.py\n",
    "              surround.py\n",
    "              reverse.py\n",
    "              ...\n",
    "      filters/                  filters 子包\n",
    "              __init__.py\n",
    "              equalizer.py\n",
    "              vocoder.py\n",
    "              karaoke.py\n",
    "              ...\n",
    "```"
   ]
  },
  {
   "cell_type": "markdown",
   "metadata": {},
   "source": [
    "在导入一个包的时候，Python 会根据 sys.path 中的目录来寻找这个包中包含的子目录。\n",
    "\n",
    "目录只有包含一个叫做 \\_\\_init\\_\\_.py 的文件才会被认作是一个包，主要是为了避免一些滥俗的名字（比如叫做 string）不小心的影响搜索路径中的有效模块。\n",
    "\n",
    "最简单的情况，放一个空的 :file:\\_\\_init\\_\\_.py就可以了。当然这个文件中也可以包含一些初始化代码或者为（将在后面介绍的） \\_\\_all\\_\\_变量赋值。\n",
    "\n",
    "用户可以每次只导入一个包里面的特定模块，比如:"
   ]
  },
  {
   "cell_type": "markdown",
   "metadata": {},
   "source": [
    "```\n",
    "import sound.effects.echo\n",
    "```"
   ]
  },
  {
   "cell_type": "markdown",
   "metadata": {},
   "source": [
    "这将会导入子模块:sound.effects.echo。 他必须使用全名去访问:"
   ]
  },
  {
   "cell_type": "markdown",
   "metadata": {},
   "source": [
    "```\n",
    "sound.effects.echo.echofilter(input, output, delay=0.7, atten=4)\n",
    "```"
   ]
  },
  {
   "cell_type": "markdown",
   "metadata": {},
   "source": [
    "还有一种导入子模块的方法是:"
   ]
  },
  {
   "cell_type": "markdown",
   "metadata": {},
   "source": [
    "```\n",
    "from sound.effects import echo\n",
    "```"
   ]
  },
  {
   "cell_type": "markdown",
   "metadata": {},
   "source": [
    "这同样会导入子模块: echo，并且他不需要那些冗长的前缀，所以他可以这样使用:"
   ]
  },
  {
   "cell_type": "markdown",
   "metadata": {},
   "source": [
    "```\n",
    "echo.echofilter(input, output, delay=0.7, atten=4)\n",
    "```"
   ]
  },
  {
   "cell_type": "markdown",
   "metadata": {},
   "source": [
    "还有一种变化就是直接导入一个函数或者变量:"
   ]
  },
  {
   "cell_type": "markdown",
   "metadata": {},
   "source": [
    "```\n",
    "from sound.effects.echo import echofilter\n",
    "```"
   ]
  },
  {
   "cell_type": "markdown",
   "metadata": {},
   "source": [
    "同样的，这种方法会导入子模块: echo，并且可以直接使用他的 echofilter() 函数:\n",
    "\n",
    "echofilter(input, output, delay=0.7, atten=4)\n",
    "\n",
    "注意当使用from package import item这种形式的时候，对应的item既可以是包里面的子模块（子包），或者包里面定义的其他名称，比如函数，类或者变量。\n",
    "\n",
    "import语法会首先把item当作一个包定义的名称，如果没找到，再试图按照一个模块去导入。如果还没找到，恭喜，一个:exc:ImportError 异常被抛出了。\n",
    "\n",
    "反之，如果使用形如import item.subitem.subsubitem这种导入形式，除了最后一项，都必须是包，而最后一项则可以是模块或者是包，但是不可以是类，函数或者变量的名字。"
   ]
  },
  {
   "cell_type": "markdown",
   "metadata": {},
   "source": [
    "通常我们并不主张使用\\*这种方法来导入模块，因为这种方法经常会导致代码的可读性降低。不过这样倒的确是可以省去不少敲键的功夫，而且一些模块都设计成了只能通过特定的方法导入。\n",
    "\n",
    "记住，使用from Package import specific_submodule这种方法永远不会有错。事实上，这也是推荐的方法。除非是你要导入的子模块有可能和其他包的子模块重名。\n",
    "\n",
    "如果在结构中包是一个子包（比如这个例子中对于包sound来说），而你又想导入兄弟包（同级别的包）你就得使用导入绝对的路径来导入。比如，如果模块sound.filters.vocoder 要使用包sound.effects中的模块echo，你就要写成 from sound.effects import echo。"
   ]
  },
  {
   "cell_type": "markdown",
   "metadata": {},
   "source": [
    "无论是隐式的还是显式的相对导入都是从当前模块开始的。主模块的名字永远是\"\\_\\_main\\_\\_\"，一个Python应用程序的主模块，应当总是使用绝对路径引用。\n",
    "\n",
    "包还提供一个额外的属性\\_\\_path\\_\\_。这是一个目录列表，里面每一个包含的目录都有为这个包服务的\\_\\_init\\_\\_.py，你得在其他\\_\\_init\\_\\_.py被执行前定义。可以修改这个变量，用来影响包含在包里面的模块和子包。\n",
    "\n",
    "这个功能并不常用，一般用来扩展包里面的模块"
   ]
  },
  {
   "cell_type": "markdown",
   "metadata": {},
   "source": [
    "## 安装第三方包"
   ]
  },
  {
   "cell_type": "markdown",
   "metadata": {},
   "source": [
    "一般来说，通过pip就可以安装大部分所需的python开发包，通过Windows安装的python，一般都会自带pip程序，在linux下，或许需要自行下载及安装pip"
   ]
  },
  {
   "cell_type": "markdown",
   "metadata": {},
   "source": [
    "Linux，以ubuntu为例，安装pip\n",
    "```\n",
    "sudo wget https://pypi.python.org/packages/41/80/268fda78a53c2629128f8174d2952c7f902c93ebaa2062b64f27aa101b07/setuptools-38.2.3.zip#md5=0ae64455d276ff864b40aca9c06ea7c1\n",
    "sudo unzip setuptools-38.2.3.zip\n",
    "cd setuptools-38.2.3\n",
    "sudo python setup.py install\n",
    "\n",
    "sudo wget https://pypi.python.org/packages/11/b6/abcb525026a4be042b486df43905d6893fb04f05aac21c32c638e939e447/pip-9.0.1.tar.gz#md5=35f01da33009719497f01a4ba69d63c9\n",
    "sudo tar xf pip-9.0.1.tar.gz\n",
    "cd pip-9.0.1\n",
    "sudo python setup.py install\n",
    "```\n",
    "之后，输入pip -v，应该会显示pip的版本以及对应的python信息，如：\n",
    "pip 9.0.1 from /usr/local/lib/python3.6/dist-packages/pip-9.0.1-py3.6.egg (python 3.6)"
   ]
  },
  {
   "cell_type": "markdown",
   "metadata": {},
   "source": [
    "之后，如果需要使用什么python包，就参照官方说明，直接pip install即可"
   ]
  },
  {
   "cell_type": "markdown",
   "metadata": {},
   "source": [
    "Windows系统下如果安装一些python包，出现了错误，可以直接去https://www.lfd.uci.edu/~gohlke/pythonlibs/ 下载whl文件，不过需要了解是要下载32位还是64位版本的"
   ]
  },
  {
   "cell_type": "markdown",
   "metadata": {},
   "source": [
    "如：numpy‑1.15.0+mkl‑cp36‑cp36m‑win_amd64.whl，表示是python3.6版本，并且是64位的安装包。"
   ]
  },
  {
   "cell_type": "code",
   "execution_count": null,
   "metadata": {},
   "outputs": [],
   "source": []
  }
 ],
 "metadata": {
  "kernelspec": {
   "display_name": "Python 3",
   "language": "python",
   "name": "python3"
  },
  "language_info": {
   "codemirror_mode": {
    "name": "ipython",
    "version": 3
   },
   "file_extension": ".py",
   "mimetype": "text/x-python",
   "name": "python",
   "nbconvert_exporter": "python",
   "pygments_lexer": "ipython3",
   "version": "3.6.2"
  },
  "toc": {
   "base_numbering": 1,
   "nav_menu": {},
   "number_sections": true,
   "sideBar": true,
   "skip_h1_title": false,
   "title_cell": "Table of Contents",
   "title_sidebar": "Contents",
   "toc_cell": false,
   "toc_position": {},
   "toc_section_display": true,
   "toc_window_display": false
  }
 },
 "nbformat": 4,
 "nbformat_minor": 2
}
