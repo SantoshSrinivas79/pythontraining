{
 "cells": [
  {
   "cell_type": "markdown",
   "metadata": {},
   "source": [
    "# PyTorch基础"
   ]
  },
  {
   "cell_type": "markdown",
   "metadata": {},
   "source": [
    "## 前言"
   ]
  },
  {
   "cell_type": "markdown",
   "metadata": {},
   "source": [
    "PyTorch是2018年GitHub增长最快的项目之一。\n",
    "\n",
    "深度学习神经网络的框架如果说之前是TensorFlow, Keras, Theano, Caffe, CNTK, PyTorch, MXNET等百家争鸣，现在已经发展到Google的TensorFlow (Keras被TensorFlow收入囊中)与Facebook的PyTorch双雄争霸的局面。\n",
    "\n",
    "网友表示，这就像现实版的 “Mac 和 PC 之争”（PyTorch 是 Mac）。\n",
    "\n",
    "有关TensorFlow与PyTorch之争的文章，参见：[TensorFlow 2.0和PyTorch谁更好？大牛们争了好几天](https://blog.csdn.net/yH0VLDe8VG8ep9VGe/article/details/82976191)\n",
    "\n",
    "PyTorch现在已经发布了1.0正式版：\n",
    "<img src='./image/pytorch.jpeg' />\n",
    "\n",
    "PyTorch的官方文档：[PyTorch中文文档](https://pytorch-cn.readthedocs.io/zh/latest/)\n",
    "\n",
    "PyTorch的[官方网站](https://pytorch.org/)\n",
    "\n",
    "<img src='./image/pytorchinstall.png' />"
   ]
  },
  {
   "cell_type": "markdown",
   "metadata": {},
   "source": [
    "本文是基于GitHub上的[PyTorch Book](https://github.com/chenyuntc/pytorch-book)的第二章：快速入门编写的，因为这篇文档的jupyter笔记文件，作者在文件名加入了冒号(:)，以至于无法在Windows平台正常下载。（Mac下可正常下载与使用），此文的目的是弥补这个遗憾。"
   ]
  },
  {
   "cell_type": "markdown",
   "metadata": {},
   "source": [
    "## PyTorch第一步"
   ]
  },
  {
   "cell_type": "markdown",
   "metadata": {},
   "source": [
    "PyTorch的简洁设计使得它入门很简单，在深入介绍PyTorch之前，本节将先介绍一些PyTorch的基础知识，使得读者能够对PyTorch有一个大致的了解，并能够用PyTorch搭建一个简单的神经网络。部分内容读者可能暂时不太理解，可先不予以深究。\n",
    "\n",
    "既然都已经开始神经网络应用了，那么假定读者已经掌握了Numpy的基础应用。"
   ]
  },
  {
   "cell_type": "markdown",
   "metadata": {},
   "source": [
    "### Tensor"
   ]
  },
  {
   "cell_type": "markdown",
   "metadata": {},
   "source": [
    "Tensor是PyTorch中重要的数据结构，可认为是一个高维数组。它可以是一个数（标量）、一维数组（向量）、二维数组（矩阵）以及更高维的数组。\n",
    "\n",
    "Tensor和Numpy的ndarrays类似，但Tensor可以使用GPU进行加速。\n",
    "\n",
    "Tensor的使用和Numpy及Matlab的接口十分相似，下面通过几个例子来看看Tensor的基本使用。"
   ]
  },
  {
   "cell_type": "code",
   "execution_count": 1,
   "metadata": {},
   "outputs": [
    {
     "data": {
      "text/plain": [
       "'1.0.1'"
      ]
     },
     "execution_count": 1,
     "metadata": {},
     "output_type": "execute_result"
    }
   ],
   "source": [
    "import torch as t\n",
    "t.__version__"
   ]
  },
  {
   "cell_type": "markdown",
   "metadata": {},
   "source": [
    "构建5x3矩阵，只是分配空间，未初始化"
   ]
  },
  {
   "cell_type": "code",
   "execution_count": 2,
   "metadata": {},
   "outputs": [
    {
     "name": "stdout",
     "output_type": "stream",
     "text": [
      "tensor([[0.0000e+00, 0.0000e+00, 0.0000e+00],\n",
      "        [0.0000e+00, 0.0000e+00, 0.0000e+00],\n",
      "        [0.0000e+00, 0.0000e+00, 0.0000e+00],\n",
      "        [0.0000e+00, 1.8890e-42, 0.0000e+00],\n",
      "        [0.0000e+00, 1.7704e+31, 0.0000e+00]])\n"
     ]
    }
   ],
   "source": [
    "x = t.Tensor(5, 3)\n",
    "print(x)"
   ]
  },
  {
   "cell_type": "markdown",
   "metadata": {},
   "source": [
    "下面，我们用数字数组构建一个2x2的矩阵："
   ]
  },
  {
   "cell_type": "code",
   "execution_count": 3,
   "metadata": {},
   "outputs": [
    {
     "name": "stdout",
     "output_type": "stream",
     "text": [
      "tensor([[1., 2.],\n",
      "        [3., 4.]])\n"
     ]
    }
   ],
   "source": [
    "x = t.Tensor([[1, 2], [3, 4]])\n",
    "print(x)"
   ]
  },
  {
   "cell_type": "markdown",
   "metadata": {},
   "source": [
    "使用```[0,1]```均匀分布随机初始化二维数组"
   ]
  },
  {
   "cell_type": "code",
   "execution_count": 4,
   "metadata": {},
   "outputs": [
    {
     "name": "stdout",
     "output_type": "stream",
     "text": [
      "tensor([[0.6869, 0.2421, 0.5610],\n",
      "        [0.5947, 0.4914, 0.1517],\n",
      "        [0.9055, 0.2603, 0.9848],\n",
      "        [0.5783, 0.0239, 0.4172],\n",
      "        [0.5441, 0.5163, 0.6383]])\n"
     ]
    }
   ],
   "source": [
    "x = t.rand(5, 3)\n",
    "print(x)"
   ]
  },
  {
   "cell_type": "code",
   "execution_count": 5,
   "metadata": {},
   "outputs": [
    {
     "name": "stdout",
     "output_type": "stream",
     "text": [
      "查看x的形状\n",
      "torch.Size([5, 3])\n",
      "查看列的个数，两种写法等价\n",
      "3 3\n"
     ]
    }
   ],
   "source": [
    "print('查看x的形状')\n",
    "print(x.size())\n",
    "print('查看列的个数，两种写法等价')\n",
    "print(x.size()[1], x.size(1))"
   ]
  },
  {
   "cell_type": "markdown",
   "metadata": {},
   "source": [
    "torch.Size是tuple对象的子类，因此其支持tuple的所有操作，如x.size()[0]"
   ]
  },
  {
   "cell_type": "markdown",
   "metadata": {},
   "source": [
    "矩阵加法"
   ]
  },
  {
   "cell_type": "code",
   "execution_count": 6,
   "metadata": {},
   "outputs": [
    {
     "name": "stdout",
     "output_type": "stream",
     "text": [
      "x\n",
      "tensor([[0.6869, 0.2421, 0.5610],\n",
      "        [0.5947, 0.4914, 0.1517],\n",
      "        [0.9055, 0.2603, 0.9848],\n",
      "        [0.5783, 0.0239, 0.4172],\n",
      "        [0.5441, 0.5163, 0.6383]])\n",
      "y\n",
      "tensor([[0.5530, 0.8533, 0.2583],\n",
      "        [0.6763, 0.3558, 0.0465],\n",
      "        [0.7478, 0.5108, 0.7239],\n",
      "        [0.6035, 0.8471, 0.8104],\n",
      "        [0.1674, 0.6108, 0.3192]])\n",
      "x+y\n",
      "tensor([[1.2399, 1.0954, 0.8193],\n",
      "        [1.2710, 0.8471, 0.1982],\n",
      "        [1.6533, 0.7710, 1.7087],\n",
      "        [1.1819, 0.8709, 1.2276],\n",
      "        [0.7115, 1.1271, 0.9575]])\n"
     ]
    }
   ],
   "source": [
    "y = t.rand(5, 3)\n",
    "print('x')\n",
    "print(x)\n",
    "print('y')\n",
    "print(y)\n",
    "print('x+y')\n",
    "print(x + y)"
   ]
  },
  {
   "cell_type": "markdown",
   "metadata": {},
   "source": [
    "随机数是深度学习中很关键的基础，为什么？自行百度吧。\n",
    "\n",
    "设置pytorch的Tensor种子数"
   ]
  },
  {
   "cell_type": "code",
   "execution_count": 7,
   "metadata": {},
   "outputs": [
    {
     "name": "stdout",
     "output_type": "stream",
     "text": [
      "100\n"
     ]
    }
   ],
   "source": [
    "t.manual_seed(100)\n",
    "print(t.initial_seed())"
   ]
  },
  {
   "cell_type": "markdown",
   "metadata": {},
   "source": [
    "下面通过不同的种子数，分别获取x与y，并确保每次执行，x与y的值不会发生变化"
   ]
  },
  {
   "cell_type": "code",
   "execution_count": 8,
   "metadata": {},
   "outputs": [
    {
     "name": "stdout",
     "output_type": "stream",
     "text": [
      "x\n",
      "tensor([[0.1117, 0.8158, 0.2626],\n",
      "        [0.4839, 0.6765, 0.7539],\n",
      "        [0.2627, 0.0428, 0.2080],\n",
      "        [0.1180, 0.1217, 0.7356],\n",
      "        [0.7118, 0.7876, 0.4183]])\n",
      "y\n",
      "tensor([[0.5737, 0.1411, 0.8161],\n",
      "        [0.8392, 0.9081, 0.9018],\n",
      "        [0.0450, 0.4321, 0.4437],\n",
      "        [0.2886, 0.5823, 0.0332],\n",
      "        [0.4048, 0.3298, 0.4143]])\n",
      "x+y\n",
      "tensor([[0.6854, 0.9569, 1.0787],\n",
      "        [1.3231, 1.5846, 1.6557],\n",
      "        [0.3077, 0.4749, 0.6518],\n",
      "        [0.4066, 0.7040, 0.7688],\n",
      "        [1.1166, 1.1174, 0.8326]])\n"
     ]
    }
   ],
   "source": [
    "t.manual_seed(100)\n",
    "x= t.rand(5, 3)\n",
    "print('x')\n",
    "print(x)\n",
    "t.manual_seed(95)\n",
    "y = t.rand(5, 3)\n",
    "print('y')\n",
    "print(y)\n",
    "print('x+y')\n",
    "print(x + y)"
   ]
  },
  {
   "cell_type": "markdown",
   "metadata": {},
   "source": [
    "加法的第二种写法"
   ]
  },
  {
   "cell_type": "code",
   "execution_count": 9,
   "metadata": {},
   "outputs": [
    {
     "name": "stdout",
     "output_type": "stream",
     "text": [
      "tensor([[0.6854, 0.9569, 1.0787],\n",
      "        [1.3231, 1.5846, 1.6557],\n",
      "        [0.3077, 0.4749, 0.6518],\n",
      "        [0.4066, 0.7040, 0.7688],\n",
      "        [1.1166, 1.1174, 0.8326]])\n"
     ]
    }
   ],
   "source": [
    "print(t.add(x, y))"
   ]
  },
  {
   "cell_type": "markdown",
   "metadata": {},
   "source": [
    "加法的第三种写法：指定加法结果的输出目标为result"
   ]
  },
  {
   "cell_type": "code",
   "execution_count": 10,
   "metadata": {},
   "outputs": [
    {
     "name": "stdout",
     "output_type": "stream",
     "text": [
      "tensor([[0.6854, 0.9569, 1.0787],\n",
      "        [1.3231, 1.5846, 1.6557],\n",
      "        [0.3077, 0.4749, 0.6518],\n",
      "        [0.4066, 0.7040, 0.7688],\n",
      "        [1.1166, 1.1174, 0.8326]])\n"
     ]
    }
   ],
   "source": [
    "result = t.Tensor(5, 3) # 预先分配空间\n",
    "t.add(x, y, out=result) # 输入到result\n",
    "print(result)"
   ]
  },
  {
   "cell_type": "markdown",
   "metadata": {},
   "source": [
    "基于tensor变量做加法\n",
    "\n",
    ">注意，函数名后面带下划线_ 的函数会修改Tensor本身。<br>例如，x.add_(y)和x.t_()会改变 x，但x.add(y)和x.t()返回一个新的Tensor， 而x不变。"
   ]
  },
  {
   "cell_type": "code",
   "execution_count": 11,
   "metadata": {},
   "outputs": [
    {
     "name": "stdout",
     "output_type": "stream",
     "text": [
      "最初y\n",
      "tensor([[0.5737, 0.1411, 0.8161],\n",
      "        [0.8392, 0.9081, 0.9018],\n",
      "        [0.0450, 0.4321, 0.4437],\n",
      "        [0.2886, 0.5823, 0.0332],\n",
      "        [0.4048, 0.3298, 0.4143]])\n",
      "第一种加法，y的结果\n",
      "tensor([[0.6854, 0.9569, 1.0787],\n",
      "        [1.3231, 1.5846, 1.6557],\n",
      "        [0.3077, 0.4749, 0.6518],\n",
      "        [0.4066, 0.7040, 0.7688],\n",
      "        [1.1166, 1.1174, 0.8326]])\n",
      "y\n",
      "tensor([[0.5737, 0.1411, 0.8161],\n",
      "        [0.8392, 0.9081, 0.9018],\n",
      "        [0.0450, 0.4321, 0.4437],\n",
      "        [0.2886, 0.5823, 0.0332],\n",
      "        [0.4048, 0.3298, 0.4143]])\n",
      "第二种加法，y的结果\n",
      "tensor([[0.6854, 0.9569, 1.0787],\n",
      "        [1.3231, 1.5846, 1.6557],\n",
      "        [0.3077, 0.4749, 0.6518],\n",
      "        [0.4066, 0.7040, 0.7688],\n",
      "        [1.1166, 1.1174, 0.8326]])\n",
      "y\n",
      "tensor([[0.6854, 0.9569, 1.0787],\n",
      "        [1.3231, 1.5846, 1.6557],\n",
      "        [0.3077, 0.4749, 0.6518],\n",
      "        [0.4066, 0.7040, 0.7688],\n",
      "        [1.1166, 1.1174, 0.8326]])\n"
     ]
    }
   ],
   "source": [
    "print('最初y')\n",
    "t.manual_seed(95)\n",
    "y = t.rand(5, 3)\n",
    "print(y)\n",
    "\n",
    "print('第一种加法，y的结果')\n",
    "print(y.add(x)) # 普通加法，不改变y的内容\n",
    "print('y')\n",
    "print(y)\n",
    "\n",
    "print('第二种加法，y的结果')\n",
    "print(y.add_(x)) # inplace 加法，y变了\n",
    "print('y')\n",
    "print(y)"
   ]
  },
  {
   "cell_type": "markdown",
   "metadata": {},
   "source": [
    "Tensor的选取操作与Numpy类似"
   ]
  },
  {
   "cell_type": "code",
   "execution_count": 12,
   "metadata": {},
   "outputs": [
    {
     "name": "stdout",
     "output_type": "stream",
     "text": [
      "x\n",
      "tensor([[0.1117, 0.8158, 0.2626],\n",
      "        [0.4839, 0.6765, 0.7539],\n",
      "        [0.2627, 0.0428, 0.2080],\n",
      "        [0.1180, 0.1217, 0.7356],\n",
      "        [0.7118, 0.7876, 0.4183]])\n",
      "获取前两行：x[:2]\n",
      "tensor([[0.1117, 0.8158, 0.2626],\n",
      "        [0.4839, 0.6765, 0.7539]])\n",
      "x[:,2]\n",
      "获取索引为2的列，即第三列：x[:, 2]\n",
      "tensor([0.2626, 0.7539, 0.2080, 0.7356, 0.4183])\n",
      "获取第一行第一列成员\n",
      "tensor(0.1117)\n",
      "获取第一行第一列成员的浮点值\n",
      "0.1116642951965332\n"
     ]
    }
   ],
   "source": [
    "print('x')\n",
    "print(x)\n",
    "print('获取前两行：x[:2]')\n",
    "print(x[:2])\n",
    "print('x[:,2]')\n",
    "print('获取索引为2的列，即第三列：x[:, 2]')\n",
    "print(x[:, 2])\n",
    "print('获取第一行第一列成员')\n",
    "print(x[0][0])\n",
    "print('获取第一行第一列成员的浮点值')\n",
    "print(x[0][0].item())"
   ]
  },
  {
   "cell_type": "markdown",
   "metadata": {},
   "source": [
    "Tensor还支持很多操作，包括数学运算、线性代数、选择、切片等等，其接口设计与Numpy极为相似。\n",
    "\n",
    "Tensor和Numpy的数组之间的互操作非常容易且快速。对于Tensor不支持的操作，可以先转为Numpy数组处理，之后再转回Tensor。"
   ]
  },
  {
   "cell_type": "markdown",
   "metadata": {},
   "source": [
    "新建一个全1的Tensor"
   ]
  },
  {
   "cell_type": "code",
   "execution_count": 13,
   "metadata": {},
   "outputs": [
    {
     "name": "stdout",
     "output_type": "stream",
     "text": [
      "tensor([1., 1., 1., 1., 1.])\n"
     ]
    }
   ],
   "source": [
    "a = t.ones(5)\n",
    "print(a)"
   ]
  },
  {
   "cell_type": "markdown",
   "metadata": {},
   "source": [
    "将Tensor转为numpy对象"
   ]
  },
  {
   "cell_type": "code",
   "execution_count": 14,
   "metadata": {},
   "outputs": [
    {
     "name": "stdout",
     "output_type": "stream",
     "text": [
      "[1. 1. 1. 1. 1.]\n"
     ]
    }
   ],
   "source": [
    "b = a.numpy()\n",
    "print(b)"
   ]
  },
  {
   "cell_type": "markdown",
   "metadata": {},
   "source": [
    "Numpy对象转为Tensor"
   ]
  },
  {
   "cell_type": "code",
   "execution_count": 15,
   "metadata": {},
   "outputs": [
    {
     "name": "stdout",
     "output_type": "stream",
     "text": [
      "[1. 1. 1. 1. 1.]\n",
      "tensor([1., 1., 1., 1., 1.], dtype=torch.float64)\n"
     ]
    }
   ],
   "source": [
    "import numpy as np\n",
    "a = np.ones(5)\n",
    "b = t.from_numpy(a)\n",
    "print(a)\n",
    "print(b)"
   ]
  },
  {
   "cell_type": "markdown",
   "metadata": {},
   "source": [
    "Tensor和numpy对象共享内存，所以他们之间的转换很快，而且几乎不会消耗什么资源。但这也意味着，如果其中一个变了，另外一个也会随之改变。"
   ]
  },
  {
   "cell_type": "code",
   "execution_count": 16,
   "metadata": {},
   "outputs": [
    {
     "name": "stdout",
     "output_type": "stream",
     "text": [
      "[2. 2. 2. 2. 2.]\n",
      "tensor([2., 2., 2., 2., 2.], dtype=torch.float64)\n"
     ]
    }
   ],
   "source": [
    "b.add_(1)\n",
    "print(a)\n",
    "print(b)"
   ]
  },
  {
   "cell_type": "markdown",
   "metadata": {},
   "source": [
    "如果你想获取某一个元素的值，可以使用scalar.item。 Scalar，即标量\n",
    "\n",
    "直接tensor[idx]得到的还是一个tensor: 一个0-dim 的tensor，一般称为scalar."
   ]
  },
  {
   "cell_type": "code",
   "execution_count": 17,
   "metadata": {},
   "outputs": [
    {
     "name": "stdout",
     "output_type": "stream",
     "text": [
      "tensor(2., dtype=torch.float64)\n"
     ]
    }
   ],
   "source": [
    "scalar = b[0]\n",
    "print(scalar)"
   ]
  },
  {
   "cell_type": "code",
   "execution_count": 18,
   "metadata": {},
   "outputs": [
    {
     "name": "stdout",
     "output_type": "stream",
     "text": [
      "torch.Size([])\n"
     ]
    }
   ],
   "source": [
    "print(scalar.size())"
   ]
  },
  {
   "cell_type": "code",
   "execution_count": 19,
   "metadata": {},
   "outputs": [
    {
     "name": "stdout",
     "output_type": "stream",
     "text": [
      "2.0\n"
     ]
    }
   ],
   "source": [
    "print(scalar.item())"
   ]
  },
  {
   "cell_type": "code",
   "execution_count": 20,
   "metadata": {},
   "outputs": [
    {
     "name": "stdout",
     "output_type": "stream",
     "text": [
      "tensor\n",
      "tensor([2])\n",
      "scalar\n",
      "tensor(2., dtype=torch.float64)\n"
     ]
    }
   ],
   "source": [
    "tensor = t.tensor([2])\n",
    "print('tensor')\n",
    "print(tensor)\n",
    "print('scalar')\n",
    "print(scalar)"
   ]
  },
  {
   "cell_type": "code",
   "execution_count": 21,
   "metadata": {},
   "outputs": [
    {
     "name": "stdout",
     "output_type": "stream",
     "text": [
      "tensor size\n",
      "torch.Size([1])\n",
      "scalar size\n",
      "torch.Size([])\n"
     ]
    }
   ],
   "source": [
    "print('tensor size')\n",
    "print(tensor.size())\n",
    "print('scalar size')\n",
    "print(scalar.size())"
   ]
  },
  {
   "cell_type": "markdown",
   "metadata": {},
   "source": [
    "只有一个元素的tensor也可以调用```tensor.item()```"
   ]
  },
  {
   "cell_type": "code",
   "execution_count": 22,
   "metadata": {},
   "outputs": [
    {
     "name": "stdout",
     "output_type": "stream",
     "text": [
      "2\n"
     ]
    }
   ],
   "source": [
    "print(tensor.item())"
   ]
  },
  {
   "cell_type": "markdown",
   "metadata": {},
   "source": [
    "此外在pytorch中还有一个和np.array 很类似的接口: torch.tensor, 二者的使用十分类似。"
   ]
  },
  {
   "cell_type": "code",
   "execution_count": 23,
   "metadata": {},
   "outputs": [
    {
     "name": "stdout",
     "output_type": "stream",
     "text": [
      "tensor([3, 4])\n"
     ]
    }
   ],
   "source": [
    "tensor = t.tensor([3, 4]) # 新建一个包含3, 4两个元素的tensor\n",
    "print(tensor)"
   ]
  },
  {
   "cell_type": "code",
   "execution_count": 24,
   "metadata": {},
   "outputs": [
    {
     "name": "stdout",
     "output_type": "stream",
     "text": [
      "tensor(3)\n"
     ]
    }
   ],
   "source": [
    "scalar = t.tensor(3)\n",
    "print(scalar)"
   ]
  },
  {
   "cell_type": "code",
   "execution_count": 25,
   "metadata": {},
   "outputs": [
    {
     "name": "stdout",
     "output_type": "stream",
     "text": [
      "old tensor: tensor([3, 4])\n",
      "new tensor: tensor([1111,    4])\n"
     ]
    },
    {
     "name": "stderr",
     "output_type": "stream",
     "text": [
      "c:\\python3.6\\lib\\site-packages\\ipykernel_launcher.py:2: UserWarning: To copy construct from a tensor, it is recommended to use sourceTensor.clone().detach() or sourceTensor.clone().detach().requires_grad_(True), rather than torch.tensor(sourceTensor).\n",
      "  \n"
     ]
    }
   ],
   "source": [
    "old_tensor = tensor\n",
    "new_tensor = t.tensor(old_tensor)\n",
    "new_tensor[0] = 1111\n",
    "print('old tensor: {0}'.format(old_tensor))\n",
    "print('new tensor: {0}'.format(new_tensor))"
   ]
  },
  {
   "cell_type": "markdown",
   "metadata": {},
   "source": [
    "需要注意的是，t.tensor()总是会进行数据拷贝，新tensor和原来的数据不再共享内存。\n",
    "\n",
    "所以如果你想共享内存的话，建议使用torch.from_numpy()或者tensor.detach()来新建一个tensor, 二者共享内存。"
   ]
  },
  {
   "cell_type": "code",
   "execution_count": 26,
   "metadata": {},
   "outputs": [
    {
     "name": "stdout",
     "output_type": "stream",
     "text": [
      "old tensor: tensor([1111,    4])\n",
      "new tensor: tensor([1111,    4])\n"
     ]
    }
   ],
   "source": [
    "new_tensor = old_tensor.detach()\n",
    "new_tensor[0] = 1111\n",
    "print('old tensor: {0}'.format(old_tensor))\n",
    "print('new tensor: {0}'.format(new_tensor))"
   ]
  },
  {
   "cell_type": "markdown",
   "metadata": {},
   "source": [
    "Tensor可通过.cuda 方法转为GPU的Tensor，从而享受GPU带来的加速运算。"
   ]
  },
  {
   "cell_type": "code",
   "execution_count": 28,
   "metadata": {},
   "outputs": [
    {
     "name": "stdout",
     "output_type": "stream",
     "text": [
      "cuda:0\n",
      "tensor([[0.7970, 1.7728, 1.3413],\n",
      "        [1.8070, 2.2611, 2.4096],\n",
      "        [0.5704, 0.5178, 0.8598],\n",
      "        [0.5246, 0.8257, 1.5044],\n",
      "        [1.8284, 1.9050, 1.2509]], device='cuda:0')\n"
     ]
    }
   ],
   "source": [
    "# 在不支持CUDA的机器下，下一步还是在CPU上运行\n",
    "device = t.device(\"cuda:0\" if t.cuda.is_available() else \"cpu\")\n",
    "print(device)\n",
    "x = x.to(device)\n",
    "y = y.to(device)\n",
    "z = x+y\n",
    "print(z)"
   ]
  },
  {
   "cell_type": "markdown",
   "metadata": {},
   "source": [
    "此外，还可以使用tensor.cuda() 的方式将tensor拷贝到gpu上，但是这种方式不太推荐。\n",
    "\n",
    "此处可能发现GPU运算的速度并未提升太多，这是因为x和y太小且运算也较为简单，而且将数据从内存转移到显存还需要花费额外的开销。\n",
    "\n",
    "GPU的优势需在大规模数据和复杂运算下才能体现出来。"
   ]
  },
  {
   "cell_type": "markdown",
   "metadata": {},
   "source": [
    "### autograd: 自动微分"
   ]
  },
  {
   "cell_type": "markdown",
   "metadata": {},
   "source": [
    "深度学习的算法本质上是通过反向传播求导数，而PyTorch的autograd模块则实现了此功能。\n",
    "\n",
    "在Tensor上的所有操作，autograd都能为它们自动提供微分，避免了手动计算导数的复杂过程。\n",
    "\n",
    "从0.4起, Variable 正式合并入Tensor。\n",
    "\n",
    "Variable 本来实现的自动微分功能，Tensor就能支持。\n",
    "\n",
    "读者还是可以使用Variable(tensor), 但是这个操作其实什么都没做。建议读者以后直接使用tensor.\n",
    "\n",
    "要想使得Tensor使用autograd功能，只需要设置tensor.requries_grad=True."
   ]
  },
  {
   "cell_type": "code",
   "execution_count": 29,
   "metadata": {},
   "outputs": [
    {
     "name": "stdout",
     "output_type": "stream",
     "text": [
      "tensor([[1., 1.],\n",
      "        [1., 1.]], requires_grad=True)\n"
     ]
    }
   ],
   "source": [
    "# 为tensor设置 requires_grad 标识，代表着需要求导数\n",
    "# pytorch 会自动调用autograd 记录操作\n",
    "x = t.ones(2, 2, requires_grad=True)\n",
    "print(x)\n",
    "# 上一步等价于\n",
    "# x = t.ones(2,2)\n",
    "# x.requires_grad = True"
   ]
  },
  {
   "cell_type": "code",
   "execution_count": 30,
   "metadata": {},
   "outputs": [
    {
     "name": "stdout",
     "output_type": "stream",
     "text": [
      "tensor(4., grad_fn=<SumBackward0>)\n"
     ]
    }
   ],
   "source": [
    "y = x.sum()\n",
    "print(y)"
   ]
  },
  {
   "cell_type": "code",
   "execution_count": 31,
   "metadata": {},
   "outputs": [
    {
     "name": "stdout",
     "output_type": "stream",
     "text": [
      "<SumBackward0 object at 0x0000015208F9C128>\n"
     ]
    }
   ],
   "source": [
    "print(y.grad_fn)"
   ]
  },
  {
   "cell_type": "code",
   "execution_count": 32,
   "metadata": {},
   "outputs": [
    {
     "name": "stdout",
     "output_type": "stream",
     "text": [
      "第1次反向传播，梯度为：tensor([[1., 1.],\n",
      "        [1., 1.]])\n",
      "第2次反向传播，梯度为：tensor([[2., 2.],\n",
      "        [2., 2.]])\n",
      "第3次反向传播，梯度为：tensor([[3., 3.],\n",
      "        [3., 3.]])\n",
      "第4次反向传播，梯度为：tensor([[4., 4.],\n",
      "        [4., 4.]])\n",
      "第5次反向传播，梯度为：tensor([[5., 5.],\n",
      "        [5., 5.]])\n"
     ]
    }
   ],
   "source": [
    "for i in range(5):\n",
    "    y.backward() # 反向传播，计算梯度\n",
    "    print('第{0}次反向传播，梯度为：{1}'.format(i + 1, x.grad))"
   ]
  },
  {
   "cell_type": "code",
   "execution_count": 33,
   "metadata": {},
   "outputs": [
    {
     "name": "stdout",
     "output_type": "stream",
     "text": [
      "tensor([[1., 1.],\n",
      "        [1., 1.]], requires_grad=True)\n"
     ]
    }
   ],
   "source": [
    "print(x)"
   ]
  },
  {
   "cell_type": "markdown",
   "metadata": {},
   "source": [
    "注意：grad在反向传播过程中是累加的(accumulated)。\n",
    "\n",
    "这意味着每一次运行反向传播，梯度都会累加之前的梯度，所以反向传播之前需把梯度清零。"
   ]
  },
  {
   "cell_type": "code",
   "execution_count": 34,
   "metadata": {},
   "outputs": [
    {
     "name": "stdout",
     "output_type": "stream",
     "text": [
      "tensor([[0., 0.],\n",
      "        [0., 0.]])\n"
     ]
    }
   ],
   "source": [
    "# 清零梯度\n",
    "print(x.grad.data.zero_())"
   ]
  },
  {
   "cell_type": "markdown",
   "metadata": {},
   "source": [
    "之后，再反向传播，即可重新计算梯度"
   ]
  },
  {
   "cell_type": "code",
   "execution_count": 35,
   "metadata": {},
   "outputs": [
    {
     "name": "stdout",
     "output_type": "stream",
     "text": [
      "tensor([[1., 1.],\n",
      "        [1., 1.]])\n"
     ]
    }
   ],
   "source": [
    "y.backward()\n",
    "print(x.grad)"
   ]
  },
  {
   "cell_type": "markdown",
   "metadata": {},
   "source": [
    "### 神经网络"
   ]
  },
  {
   "cell_type": "markdown",
   "metadata": {},
   "source": [
    "Autograd实现了反向传播功能，但是直接用来写深度学习的代码在很多情况下还是稍显复杂。\n",
    "\n",
    "torch.nn是专门为神经网络设计的模块化接口。\n",
    "\n",
    "nn构建于 Autograd之上，可用来定义和运行神经网络。\n",
    "\n",
    "nn.Module是nn中最重要的类，可把它看成是一个网络的封装，包含网络各层定义以及forward方法，调用forward(input)方法，可返回前向传播的结果。\n",
    "\n",
    "下面就以最早的卷积神经网络：LeNet为例，来看看如何用nn.Module实现。LeNet的网络结构如图所示：\n",
    "\n",
    "此卷积神经网络，我们在[以Keras为例的神经网络模型](./24.%20Neural%20Network%20Introduction.ipynb)已经做了非常详细的阐述，这里我们主要看PyTorch的实现方式"
   ]
  },
  {
   "cell_type": "markdown",
   "metadata": {},
   "source": [
    "<img src='./image/lenet5.png' />"
   ]
  },
  {
   "cell_type": "markdown",
   "metadata": {},
   "source": [
    "LeNet每一层特征具现化："
   ]
  },
  {
   "cell_type": "markdown",
   "metadata": {},
   "source": [
    "<img src='./image/lenet57_1.png' />"
   ]
  },
  {
   "cell_type": "markdown",
   "metadata": {},
   "source": [
    "这是一个基础的前向传播(feed-forward)网络: 接收输入，经过层层传递运算，得到输出。"
   ]
  },
  {
   "cell_type": "markdown",
   "metadata": {},
   "source": [
    "#### 定义网络"
   ]
  },
  {
   "cell_type": "markdown",
   "metadata": {},
   "source": [
    "定义网络时，需要继承nn.Module，并实现它的forward方法，把网络中具有可学习参数的层放在构造函数__init__中。\n",
    "\n",
    "如果某一层(如ReLU)不具有可学习的参数，则既可以放在构造函数中，也可以不放，但建议不放在其中，而在forward中使用nn.functional代替。\n",
    "\n",
    "下面的代码，我们只使用了两个卷积层，三个全连接层，最后一层nn.Linear(84, 10)表示10分类"
   ]
  },
  {
   "cell_type": "code",
   "execution_count": 36,
   "metadata": {},
   "outputs": [],
   "source": [
    "import torch.nn as nn\n",
    "import torch.nn.functional as F"
   ]
  },
  {
   "cell_type": "markdown",
   "metadata": {},
   "source": [
    "nn.Conv2d的参数：\n",
    "```\n",
    " |  Args:\n",
    " |      in_channels (int): Number of channels in the input image\n",
    " |      out_channels (int): Number of channels produced by the convolution\n",
    " |      kernel_size (int or tuple): Size of the convolving kernel\n",
    " |      stride (int or tuple, optional): Stride of the convolution. Default: 1\n",
    " |      padding (int or tuple, optional): Zero-padding added to both sides of the input. Default: 0\n",
    " |      dilation (int or tuple, optional): Spacing between kernel elements. Default: 1\n",
    " |      groups (int, optional): Number of blocked connections from input channels to output channels. Default: 1\n",
    " |      bias (bool, optional): If ``True``, adds a learnable bias to the output. Default: ``True``\n",
    " ```"
   ]
  },
  {
   "cell_type": "markdown",
   "metadata": {},
   "source": [
    "下文的代码示例，没有使用torch.nn.Sequential，虽然下面的代码看起来粗糙一些，但是与原始算法的构建更贴切"
   ]
  },
  {
   "cell_type": "code",
   "execution_count": 37,
   "metadata": {},
   "outputs": [
    {
     "name": "stdout",
     "output_type": "stream",
     "text": [
      "Net(\n",
      "  (conv1): Conv2d(1, 6, kernel_size=(5, 5), stride=(1, 1))\n",
      "  (conv2): Conv2d(6, 16, kernel_size=(5, 5), stride=(1, 1))\n",
      "  (fc1): Linear(in_features=400, out_features=120, bias=True)\n",
      "  (fc2): Linear(in_features=120, out_features=84, bias=True)\n",
      "  (fc3): Linear(in_features=84, out_features=10, bias=True)\n",
      ")\n"
     ]
    }
   ],
   "source": [
    "class Net(nn.Module):\n",
    "    def __init__(self):\n",
    "        # nn.Module子类的函数必须在构造函数中执行父类的构造函数\n",
    "        # 下式等价于nn.Module.__init__(self)\n",
    "        super(Net, self).__init__()\n",
    "        \n",
    "        # 卷积层 '1'表示输入图片为单通道, '6'表示输出通道数，'5'表示卷积核为5*5\n",
    "        self.conv1 = nn.Conv2d(1, 6, 5) \n",
    "        # 卷积层\n",
    "        self.conv2 = nn.Conv2d(6, 16, 5) \n",
    "        # 仿射层/全连接层，y = Wx + b\n",
    "        self.fc1   = nn.Linear(16*5*5, 120) \n",
    "        self.fc2   = nn.Linear(120, 84)\n",
    "        self.fc3   = nn.Linear(84, 10)\n",
    "\n",
    "    def forward(self, x): \n",
    "        # 卷积 -> 激活 -> 池化 \n",
    "        x = F.max_pool2d(F.relu(self.conv1(x)), (2, 2))\n",
    "        x = F.max_pool2d(F.relu(self.conv2(x)), 2) \n",
    "        # reshape，‘-1’表示自适应\n",
    "        x = x.view(x.size()[0], -1) \n",
    "        x = F.relu(self.fc1(x))\n",
    "        x = F.relu(self.fc2(x))\n",
    "        x = self.fc3(x)        \n",
    "        return x\n",
    "\n",
    "net = Net()\n",
    "print(net)"
   ]
  },
  {
   "cell_type": "markdown",
   "metadata": {},
   "source": [
    "<b><font color='red'>只要在nn.Module的子类中定义了forward函数，backward函数就会自动被实现(利用autograd)。</font></b>\n",
    "\n",
    "在forward 函数中可使用任何tensor支持的函数，还可以使用if、for循环、print、log等Python语法，写法和标准的Python写法一致。\n",
    "\n",
    "网络的可学习参数通过net.parameters()返回，net.named_parameters可同时返回可学习的参数及名称。"
   ]
  },
  {
   "cell_type": "code",
   "execution_count": 38,
   "metadata": {},
   "outputs": [
    {
     "name": "stdout",
     "output_type": "stream",
     "text": [
      "10\n"
     ]
    }
   ],
   "source": [
    "params = list(net.parameters())\n",
    "print(len(params))"
   ]
  },
  {
   "cell_type": "code",
   "execution_count": 39,
   "metadata": {},
   "outputs": [
    {
     "name": "stdout",
     "output_type": "stream",
     "text": [
      "conv1.weight : torch.Size([6, 1, 5, 5])\n",
      "conv1.bias : torch.Size([6])\n",
      "conv2.weight : torch.Size([16, 6, 5, 5])\n",
      "conv2.bias : torch.Size([16])\n",
      "fc1.weight : torch.Size([120, 400])\n",
      "fc1.bias : torch.Size([120])\n",
      "fc2.weight : torch.Size([84, 120])\n",
      "fc2.bias : torch.Size([84])\n",
      "fc3.weight : torch.Size([10, 84])\n",
      "fc3.bias : torch.Size([10])\n"
     ]
    }
   ],
   "source": [
    "for name, parameters in net.named_parameters():\n",
    "    print(name,':',parameters.size())"
   ]
  },
  {
   "cell_type": "markdown",
   "metadata": {},
   "source": [
    "forward函数的输入和输出都是Tensor。"
   ]
  },
  {
   "cell_type": "code",
   "execution_count": 40,
   "metadata": {},
   "outputs": [
    {
     "name": "stdout",
     "output_type": "stream",
     "text": [
      "input: tensor([[[[ 0.1268,  1.3564,  0.5632,  ..., -1.7736, -0.2205,  2.7467],\n",
      "          [-1.7599,  1.0230, -0.1107,  ..., -0.8043, -0.6244, -0.5882],\n",
      "          [ 1.6700, -0.9275, -0.9759,  ...,  0.2521,  0.6541,  2.1024],\n",
      "          ...,\n",
      "          [-0.6924, -0.4866, -0.1484,  ..., -0.3634, -0.4904, -1.2284],\n",
      "          [ 0.0528, -0.6355, -0.3881,  ...,  1.4351, -0.9121,  0.7485],\n",
      "          [-1.3633,  0.6923,  0.0092,  ...,  0.5204, -0.9783, -0.3428]]]])\n",
      "input size: torch.Size([1, 1, 32, 32])\n",
      "out size: torch.Size([1, 10])\n"
     ]
    }
   ],
   "source": [
    "# Samples x Channels x Height x Width\n",
    "t.manual_seed(100)\n",
    "input = t.randn(1, 1, 32, 32)\n",
    "print('input: {0}'.format(input))\n",
    "print('input size: {0}'.format(input.size()))\n",
    "out = net(input)\n",
    "print('out size: {0}'.format(out.size()))"
   ]
  },
  {
   "cell_type": "code",
   "execution_count": 41,
   "metadata": {},
   "outputs": [],
   "source": [
    "net.zero_grad() # 所有参数的梯度清零\n",
    "out.backward(t.ones(1,10)) # 反向传播"
   ]
  },
  {
   "cell_type": "markdown",
   "metadata": {},
   "source": [
    "需要注意的是，torch.nn只支持mini-batches，不支持一次只输入一个样本，即一次必须是一个batch。\n",
    "\n",
    "但如果只想输入一个样本，则用 input.unsqueeze(0)将batch_size设为１。\n",
    "\n",
    "例如 nn.Conv2d 输入必须是4维的，形如$nSamples \\times nChannels \\times Height \\times Width$。可将nSample设为1，即$1 \\times nChannels \\times Height \\times Width$。"
   ]
  },
  {
   "cell_type": "markdown",
   "metadata": {},
   "source": [
    "#### 损失函数"
   ]
  },
  {
   "cell_type": "markdown",
   "metadata": {},
   "source": [
    "nn实现了神经网络中大多数的损失函数。\n",
    "\n",
    "例如nn.MSELoss用来计算均方误差。\n",
    "\n",
    "nn.CrossEntropyLoss用来计算交叉熵损失。\n",
    "\n",
    "还记得在之前说的么：\n",
    "\n",
    "采用交叉熵为损失函数，因为其是凸函数，只有凸函数才有可能得到全局最优解。 \n",
    "\n",
    "如果采用Sigmoid作为激活函数，则MSE（均方差）为非凸函数，易陷入局部最优。 \n",
    "\n",
    "此外，MSE比交叉熵容易出现梯度弥散，根据计算MSE的梯度一般是交叉熵的1/4或者更小\n",
    "\n",
    "还有更重要的总结：\n",
    "<br><b><font color='red'>\n",
    "PyTorch的MSE用于做回归的，因为目标参数，即yhat只能为浮点型: torch.float\n",
    "<br>\n",
    "PyTorch的交叉熵用于做分类的，因为目标参数，即yhat只能为长整型: torch.long\n",
    "</font></b>"
   ]
  },
  {
   "cell_type": "markdown",
   "metadata": {},
   "source": [
    "##### MSE作为损失函数"
   ]
  },
  {
   "cell_type": "markdown",
   "metadata": {},
   "source": [
    "MSE的target必须与output的分类数目一致, 否则会报如下错误：\n",
    "<br>The size of tensor a (10) must match the size of tensor b (5) at non-singleton dimension 1"
   ]
  },
  {
   "cell_type": "code",
   "execution_count": 42,
   "metadata": {},
   "outputs": [
    {
     "name": "stdout",
     "output_type": "stream",
     "text": [
      "output size: torch.Size([1, 10])\n",
      "tensor([9., 1., 7., 5., 6., 7., 5., 7., 5., 0.])\n",
      "tensor(33.9477, grad_fn=<MseLossBackward>) 33.947723388671875\n"
     ]
    }
   ],
   "source": [
    "output = net(input)\n",
    "print('output size: {0}'.format(output.size()))\n",
    "# 注意t.arange(0., 10.)的写法，如果写为t.arange(0, 10)，则会报如下错误：\n",
    "# Expected object of scalar type Float but got scalar type Long for argument #2 'target'\n",
    "# print(t.arange(0., 10.))\n",
    "# target = t.arange(0.,10.).view(1,10) \n",
    "target = t.empty(10, dtype=t.float).random_(10)\n",
    "print(target)\n",
    "criterion = nn.MSELoss()\n",
    "loss = criterion(output, target)\n",
    "print(loss, loss.item()) # loss是个scalar"
   ]
  },
  {
   "cell_type": "markdown",
   "metadata": {},
   "source": [
    "如果对loss进行反向传播溯源(使用gradfn属性)，可看到它的计算图如下：\n",
    "```\n",
    "input -> conv2d -> relu -> maxpool2d -> conv2d -> relu -> maxpool2d  \n",
    "      -> view -> linear -> relu -> linear -> relu -> linear \n",
    "      -> MSELoss\n",
    "      -> loss\n",
    "```\n",
    "当调用loss.backward()时，该图会动态生成并自动微分，也即会自动计算图中参数(Parameter)的导数。"
   ]
  },
  {
   "cell_type": "code",
   "execution_count": 43,
   "metadata": {},
   "outputs": [
    {
     "name": "stdout",
     "output_type": "stream",
     "text": [
      "反向传播之前 conv1.bias的梯度\n",
      "tensor([0., 0., 0., 0., 0., 0.])\n",
      "反向传播之后 conv1.bias的梯度\n",
      "tensor([ 0.0211, -0.0390, -0.1102,  0.0096,  0.0166, -0.0149])\n"
     ]
    }
   ],
   "source": [
    "# 运行.backward，观察调用之前和调用之后的grad\n",
    "net.zero_grad() # 把net中所有可学习参数的梯度清零\n",
    "print('反向传播之前 conv1.bias的梯度')\n",
    "print(net.conv1.bias.grad)\n",
    "loss.backward()\n",
    "print('反向传播之后 conv1.bias的梯度')\n",
    "print(net.conv1.bias.grad)"
   ]
  },
  {
   "cell_type": "markdown",
   "metadata": {},
   "source": [
    "##### CrossEntropy(交叉熵)作为损失函数"
   ]
  },
  {
   "cell_type": "markdown",
   "metadata": {},
   "source": [
    "- PyTorch中的交叉熵使用，其target参数的size必须与batch-size大小一致，否则会报类似异常：\n",
    "```\n",
    "ValueError: Expected input batch_size (5) to match target batch_size (4).\n",
    "```\n",
    "- target设置的值，如果是10分类，必须在0~9之间，否则会报如下异常：\n",
    "```\n",
    "RuntimeError: Assertion `cur_target >= 0 && cur_target < n_classes' failed.  at d:\\build\\pytorch\\pytorch-1.0\\aten\\src\\thnn\\generic\\classnllcriterion.c:93\n",
    "```\n",
    "- 交叉熵的target参数，必须为t.long类型，否则会报错"
   ]
  },
  {
   "cell_type": "code",
   "execution_count": 44,
   "metadata": {},
   "outputs": [
    {
     "name": "stdout",
     "output_type": "stream",
     "text": [
      "input size: torch.Size([5, 1, 32, 32])\n",
      "output size: torch.Size([5, 10])\n",
      "target: tensor([4, 8, 6, 2, 1]), size: torch.Size([5])\n",
      "tensor(2.3091, grad_fn=<NllLossBackward>) 2.309054374694824\n"
     ]
    }
   ],
   "source": [
    "# batch-size x Channels x Height x Width\n",
    "t.manual_seed(88)\n",
    "inputbatchsize5 = t.randn(5, 1, 32, 32)\n",
    "print('input size: {0}'.format(inputbatchsize5.size()))\n",
    "netforcross = Net()\n",
    "outputforcross = netforcross(inputbatchsize5)\n",
    "print('output size: {0}'.format(outputforcross.size()))\n",
    "targetforcross = t.empty(5, dtype=t.long).random_(10)\n",
    "print('target: {0}, size: {1}'.format(targetforcross, targetforcross.size()))\n",
    "criterionforcross = nn.CrossEntropyLoss()\n",
    "lossforcross = criterionforcross(outputforcross, targetforcross)\n",
    "print(lossforcross, lossforcross.item()) # loss是个scalar"
   ]
  },
  {
   "cell_type": "code",
   "execution_count": 45,
   "metadata": {},
   "outputs": [
    {
     "name": "stdout",
     "output_type": "stream",
     "text": [
      "反向传播之前 conv1.bias的梯度\n",
      "None\n",
      "反向传播之后 conv1.bias的梯度\n",
      "tensor([ 0.0051, -0.0045,  0.0044,  0.0038,  0.0018,  0.0060])\n"
     ]
    }
   ],
   "source": [
    "# 运行.backward，观察调用之前和调用之后的grad\n",
    "netforcross.zero_grad() # 把net中所有可学习参数的梯度清零\n",
    "print('反向传播之前 conv1.bias的梯度')\n",
    "print(netforcross.conv1.bias.grad)\n",
    "lossforcross.backward()\n",
    "print('反向传播之后 conv1.bias的梯度')\n",
    "print(netforcross.conv1.bias.grad)"
   ]
  },
  {
   "cell_type": "markdown",
   "metadata": {},
   "source": [
    "#### 优化器"
   ]
  },
  {
   "cell_type": "markdown",
   "metadata": {},
   "source": [
    "在反向传播计算完所有参数的梯度后，还需要使用优化方法来更新网络的权重和参数。\n",
    "\n",
    "例如随机梯度下降法(SGD)的更新策略如下：\n",
    "```\n",
    "weight = weight - learning_rate * gradient\n",
    "```\n",
    "手动实现如下："
   ]
  },
  {
   "cell_type": "code",
   "execution_count": 46,
   "metadata": {},
   "outputs": [
    {
     "name": "stdout",
     "output_type": "stream",
     "text": [
      "Initial net begin\n",
      "input size: torch.Size([5, 1, 32, 32])\n",
      "output size: torch.Size([5, 10])\n",
      "target: tensor([4, 8, 6, 2, 1]), size: torch.Size([5])\n",
      "Initial net end\n",
      "通过手动实现SGD: weight = weight - learning_rate * gradient\n",
      "Train epoch: 1, loss value: 2.309054374694824\n",
      "Train epoch: 2, loss value: 2.3034679889678955\n",
      "Train epoch: 3, loss value: 2.2980825901031494\n",
      "Train epoch: 4, loss value: 2.2927603721618652\n",
      "Train epoch: 5, loss value: 2.287485361099243\n",
      "Train epoch: 6, loss value: 2.282428026199341\n",
      "Train epoch: 7, loss value: 2.277522087097168\n",
      "Train epoch: 8, loss value: 2.272451400756836\n",
      "Train epoch: 9, loss value: 2.267273187637329\n",
      "Train epoch: 10, loss value: 2.262345790863037\n",
      "Train epoch: 11, loss value: 2.2573435306549072\n",
      "Train epoch: 12, loss value: 2.2522966861724854\n",
      "Train epoch: 13, loss value: 2.2474045753479004\n",
      "Train epoch: 14, loss value: 2.242506504058838\n",
      "Train epoch: 15, loss value: 2.2373647689819336\n",
      "Train epoch: 16, loss value: 2.2321648597717285\n",
      "Train epoch: 17, loss value: 2.226863384246826\n",
      "Train epoch: 18, loss value: 2.221585273742676\n",
      "Train epoch: 19, loss value: 2.216405153274536\n",
      "Train epoch: 20, loss value: 2.2110602855682373\n",
      "Train epoch: 21, loss value: 2.2054991722106934\n",
      "Train epoch: 22, loss value: 2.1996090412139893\n",
      "Train epoch: 23, loss value: 2.1935226917266846\n",
      "Train epoch: 24, loss value: 2.1870219707489014\n",
      "Train epoch: 25, loss value: 2.1801388263702393\n",
      "Train epoch: 26, loss value: 2.1730358600616455\n",
      "Train epoch: 27, loss value: 2.165714740753174\n",
      "Train epoch: 28, loss value: 2.158118724822998\n",
      "Train epoch: 29, loss value: 2.150303363800049\n",
      "Train epoch: 30, loss value: 2.14216947555542\n",
      "Train epoch: 31, loss value: 2.1337456703186035\n",
      "Train epoch: 32, loss value: 2.124967575073242\n",
      "Train epoch: 33, loss value: 2.1159701347351074\n",
      "Train epoch: 34, loss value: 2.1064019203186035\n",
      "Train epoch: 35, loss value: 2.0965590476989746\n",
      "Train epoch: 36, loss value: 2.086120367050171\n",
      "Train epoch: 37, loss value: 2.075251817703247\n",
      "Train epoch: 38, loss value: 2.063805103302002\n",
      "Train epoch: 39, loss value: 2.052138090133667\n",
      "Train epoch: 40, loss value: 2.039886951446533\n",
      "Train epoch: 41, loss value: 2.027174711227417\n",
      "Train epoch: 42, loss value: 2.013892889022827\n",
      "Train epoch: 43, loss value: 2.0003323554992676\n",
      "Train epoch: 44, loss value: 1.9864013195037842\n",
      "Train epoch: 45, loss value: 1.9719855785369873\n",
      "Train epoch: 46, loss value: 1.9571058750152588\n",
      "Train epoch: 47, loss value: 1.9419790506362915\n",
      "Train epoch: 48, loss value: 1.926627516746521\n",
      "Train epoch: 49, loss value: 1.9108959436416626\n",
      "Train epoch: 50, loss value: 1.8949114084243774\n",
      "Train epoch: 51, loss value: 1.8788995742797852\n",
      "Train epoch: 52, loss value: 1.8625074625015259\n",
      "Train epoch: 53, loss value: 1.8465092182159424\n",
      "Train epoch: 54, loss value: 1.8303569555282593\n",
      "Train epoch: 55, loss value: 1.8146240711212158\n",
      "Train epoch: 56, loss value: 1.798802137374878\n",
      "Train epoch: 57, loss value: 1.7827284336090088\n",
      "Train epoch: 58, loss value: 1.767000436782837\n",
      "Train epoch: 59, loss value: 1.751916527748108\n",
      "Train epoch: 60, loss value: 1.7378911972045898\n",
      "Train epoch: 61, loss value: 1.7243473529815674\n",
      "Train epoch: 62, loss value: 1.711503267288208\n",
      "Train epoch: 63, loss value: 1.6993589401245117\n",
      "Train epoch: 64, loss value: 1.6878712177276611\n",
      "Train epoch: 65, loss value: 1.6767085790634155\n",
      "Train epoch: 66, loss value: 1.6662778854370117\n",
      "Train epoch: 67, loss value: 1.6565395593643188\n",
      "Train epoch: 68, loss value: 1.6468467712402344\n",
      "Train epoch: 69, loss value: 1.6384830474853516\n",
      "Train epoch: 70, loss value: 1.629875898361206\n",
      "Train epoch: 71, loss value: 1.6218887567520142\n",
      "Train epoch: 72, loss value: 1.6146787405014038\n",
      "Train epoch: 73, loss value: 1.607593297958374\n",
      "Train epoch: 74, loss value: 1.6009471416473389\n",
      "Train epoch: 75, loss value: 1.594679594039917\n",
      "Train epoch: 76, loss value: 1.5888642072677612\n",
      "Train epoch: 77, loss value: 1.5831350088119507\n",
      "Train epoch: 78, loss value: 1.577640175819397\n",
      "Train epoch: 79, loss value: 1.5726252794265747\n",
      "Train epoch: 80, loss value: 1.5676841735839844\n",
      "Train epoch: 81, loss value: 1.563631296157837\n",
      "Train epoch: 82, loss value: 1.558897614479065\n",
      "Train epoch: 83, loss value: 1.5543992519378662\n",
      "Train epoch: 84, loss value: 1.550126314163208\n",
      "Train epoch: 85, loss value: 1.5462672710418701\n",
      "Train epoch: 86, loss value: 1.5421158075332642\n",
      "Train epoch: 87, loss value: 1.5382537841796875\n",
      "Train epoch: 88, loss value: 1.534472942352295\n",
      "Train epoch: 89, loss value: 1.5309312343597412\n",
      "Train epoch: 90, loss value: 1.5271894931793213\n",
      "Train epoch: 91, loss value: 1.523879051208496\n",
      "Train epoch: 92, loss value: 1.5202029943466187\n",
      "Train epoch: 93, loss value: 1.5165616273880005\n",
      "Train epoch: 94, loss value: 1.5132811069488525\n",
      "Train epoch: 95, loss value: 1.510145664215088\n",
      "Train epoch: 96, loss value: 1.5066378116607666\n",
      "Train epoch: 97, loss value: 1.503173828125\n",
      "Train epoch: 98, loss value: 1.4999114274978638\n",
      "Train epoch: 99, loss value: 1.496513843536377\n",
      "Train epoch: 100, loss value: 1.4933445453643799\n"
     ]
    }
   ],
   "source": [
    "# batch-size x Channels x Height x Width\n",
    "print('Initial net begin')\n",
    "t.manual_seed(88)\n",
    "inputbatchsize5 = t.randn(5, 1, 32, 32)\n",
    "print('input size: {0}'.format(inputbatchsize5.size()))\n",
    "netforcross = Net()\n",
    "outputforcross = netforcross(inputbatchsize5)\n",
    "print('output size: {0}'.format(outputforcross.size()))\n",
    "targetforcross = t.empty(5, dtype=t.long).random_(10)\n",
    "print('target: {0}, size: {1}'.format(targetforcross, targetforcross.size()))\n",
    "criterionforcross = nn.CrossEntropyLoss()\n",
    "print('Initial net end')\n",
    "\n",
    "learning_rate = 0.01\n",
    "epochs = 100\n",
    "print('通过手动实现SGD: weight = weight - learning_rate * gradient')\n",
    "for epoch in range(epochs):\n",
    "    netforcross.zero_grad() # 把net中所有可学习参数的梯度清零\n",
    "    outputforcross = netforcross(inputbatchsize5)\n",
    "    lossforcross = criterionforcross(outputforcross, targetforcross)\n",
    "    print('Train epoch: {0}, loss value: {1}'.format(epoch + 1, lossforcross.item())) # loss是个scalar\n",
    "    lossforcross.backward()\n",
    "    # 以下代码相当于optimizer.step()\n",
    "    for index, f in enumerate(netforcross.parameters()):\n",
    "        f.data.sub_(f.grad.data * learning_rate)# inplace 减法"
   ]
  },
  {
   "cell_type": "markdown",
   "metadata": {},
   "source": [
    "torch.optim中实现了深度学习中绝大多数的优化方法，例如RMSProp、Adam、SGD等，更便于使用。\n",
    "\n",
    "以SGD为例，上述手动优化器的实现方式，等价于："
   ]
  },
  {
   "cell_type": "code",
   "execution_count": 47,
   "metadata": {},
   "outputs": [
    {
     "name": "stdout",
     "output_type": "stream",
     "text": [
      "Initial net begin\n",
      "input size: torch.Size([5, 1, 32, 32])\n",
      "output size: torch.Size([5, 10])\n",
      "target: tensor([4, 8, 6, 2, 1]), size: torch.Size([5])\n",
      "Initial net end\n",
      "Create optimizer as SGD, learning rate is 0.01\n",
      "Train epoch: 1, loss value: 2.309054374694824\n",
      "Train epoch: 2, loss value: 2.3034679889678955\n",
      "Train epoch: 3, loss value: 2.2980825901031494\n",
      "Train epoch: 4, loss value: 2.2927603721618652\n",
      "Train epoch: 5, loss value: 2.287485361099243\n",
      "Train epoch: 6, loss value: 2.282428026199341\n",
      "Train epoch: 7, loss value: 2.277522087097168\n",
      "Train epoch: 8, loss value: 2.272451400756836\n",
      "Train epoch: 9, loss value: 2.267273187637329\n",
      "Train epoch: 10, loss value: 2.262345790863037\n",
      "Train epoch: 11, loss value: 2.2573435306549072\n",
      "Train epoch: 12, loss value: 2.2522966861724854\n",
      "Train epoch: 13, loss value: 2.2474045753479004\n",
      "Train epoch: 14, loss value: 2.242506504058838\n",
      "Train epoch: 15, loss value: 2.2373647689819336\n",
      "Train epoch: 16, loss value: 2.2321648597717285\n",
      "Train epoch: 17, loss value: 2.226863384246826\n",
      "Train epoch: 18, loss value: 2.221585273742676\n",
      "Train epoch: 19, loss value: 2.216405153274536\n",
      "Train epoch: 20, loss value: 2.2110602855682373\n",
      "Train epoch: 21, loss value: 2.2054991722106934\n",
      "Train epoch: 22, loss value: 2.1996090412139893\n",
      "Train epoch: 23, loss value: 2.1935226917266846\n",
      "Train epoch: 24, loss value: 2.1870219707489014\n",
      "Train epoch: 25, loss value: 2.1801388263702393\n",
      "Train epoch: 26, loss value: 2.1730358600616455\n",
      "Train epoch: 27, loss value: 2.165714740753174\n",
      "Train epoch: 28, loss value: 2.158118724822998\n",
      "Train epoch: 29, loss value: 2.150303363800049\n",
      "Train epoch: 30, loss value: 2.14216947555542\n",
      "Train epoch: 31, loss value: 2.1337456703186035\n",
      "Train epoch: 32, loss value: 2.124967575073242\n",
      "Train epoch: 33, loss value: 2.1159701347351074\n",
      "Train epoch: 34, loss value: 2.1064019203186035\n",
      "Train epoch: 35, loss value: 2.0965590476989746\n",
      "Train epoch: 36, loss value: 2.086120367050171\n",
      "Train epoch: 37, loss value: 2.075251817703247\n",
      "Train epoch: 38, loss value: 2.063805103302002\n",
      "Train epoch: 39, loss value: 2.052138090133667\n",
      "Train epoch: 40, loss value: 2.039886951446533\n",
      "Train epoch: 41, loss value: 2.027174711227417\n",
      "Train epoch: 42, loss value: 2.013892889022827\n",
      "Train epoch: 43, loss value: 2.0003323554992676\n",
      "Train epoch: 44, loss value: 1.9864013195037842\n",
      "Train epoch: 45, loss value: 1.9719855785369873\n",
      "Train epoch: 46, loss value: 1.9571058750152588\n",
      "Train epoch: 47, loss value: 1.9419790506362915\n",
      "Train epoch: 48, loss value: 1.926627516746521\n",
      "Train epoch: 49, loss value: 1.9108959436416626\n",
      "Train epoch: 50, loss value: 1.8949114084243774\n",
      "Train epoch: 51, loss value: 1.8788995742797852\n",
      "Train epoch: 52, loss value: 1.8625074625015259\n",
      "Train epoch: 53, loss value: 1.8465092182159424\n",
      "Train epoch: 54, loss value: 1.8303569555282593\n",
      "Train epoch: 55, loss value: 1.8146240711212158\n",
      "Train epoch: 56, loss value: 1.798802137374878\n",
      "Train epoch: 57, loss value: 1.7827284336090088\n",
      "Train epoch: 58, loss value: 1.767000436782837\n",
      "Train epoch: 59, loss value: 1.751916527748108\n",
      "Train epoch: 60, loss value: 1.7378911972045898\n",
      "Train epoch: 61, loss value: 1.7243473529815674\n",
      "Train epoch: 62, loss value: 1.711503267288208\n",
      "Train epoch: 63, loss value: 1.6993589401245117\n",
      "Train epoch: 64, loss value: 1.6878712177276611\n",
      "Train epoch: 65, loss value: 1.6767085790634155\n",
      "Train epoch: 66, loss value: 1.6662778854370117\n",
      "Train epoch: 67, loss value: 1.6565395593643188\n",
      "Train epoch: 68, loss value: 1.6468467712402344\n",
      "Train epoch: 69, loss value: 1.6384830474853516\n",
      "Train epoch: 70, loss value: 1.629875898361206\n",
      "Train epoch: 71, loss value: 1.6218887567520142\n",
      "Train epoch: 72, loss value: 1.6146787405014038\n",
      "Train epoch: 73, loss value: 1.607593297958374\n",
      "Train epoch: 74, loss value: 1.6009471416473389\n",
      "Train epoch: 75, loss value: 1.594679594039917\n",
      "Train epoch: 76, loss value: 1.5888642072677612\n",
      "Train epoch: 77, loss value: 1.5831350088119507\n",
      "Train epoch: 78, loss value: 1.577640175819397\n",
      "Train epoch: 79, loss value: 1.5726252794265747\n",
      "Train epoch: 80, loss value: 1.5676841735839844\n",
      "Train epoch: 81, loss value: 1.563631296157837\n",
      "Train epoch: 82, loss value: 1.558897614479065\n",
      "Train epoch: 83, loss value: 1.5543992519378662\n",
      "Train epoch: 84, loss value: 1.550126314163208\n",
      "Train epoch: 85, loss value: 1.5462672710418701\n",
      "Train epoch: 86, loss value: 1.5421158075332642\n",
      "Train epoch: 87, loss value: 1.5382537841796875\n",
      "Train epoch: 88, loss value: 1.534472942352295\n",
      "Train epoch: 89, loss value: 1.5309312343597412\n",
      "Train epoch: 90, loss value: 1.5271894931793213\n",
      "Train epoch: 91, loss value: 1.523879051208496\n",
      "Train epoch: 92, loss value: 1.5202029943466187\n",
      "Train epoch: 93, loss value: 1.5165616273880005\n",
      "Train epoch: 94, loss value: 1.5132811069488525\n",
      "Train epoch: 95, loss value: 1.510145664215088\n",
      "Train epoch: 96, loss value: 1.5066378116607666\n",
      "Train epoch: 97, loss value: 1.503173828125\n",
      "Train epoch: 98, loss value: 1.4999114274978638\n",
      "Train epoch: 99, loss value: 1.496513843536377\n",
      "Train epoch: 100, loss value: 1.4933445453643799\n"
     ]
    }
   ],
   "source": [
    "import torch.optim as optim\n",
    "# batch-size x Channels x Height x Width\n",
    "print('Initial net begin')\n",
    "t.manual_seed(88)\n",
    "inputbatchsize5 = t.randn(5, 1, 32, 32)\n",
    "print('input size: {0}'.format(inputbatchsize5.size()))\n",
    "netforcross = Net()\n",
    "outputforcross = netforcross(inputbatchsize5)\n",
    "print('output size: {0}'.format(outputforcross.size()))\n",
    "targetforcross = t.empty(5, dtype=t.long).random_(10)\n",
    "print('target: {0}, size: {1}'.format(targetforcross, targetforcross.size()))\n",
    "criterionforcross = nn.CrossEntropyLoss()\n",
    "print('Initial net end')\n",
    "\n",
    "#新建一个优化器，指定要调整的参数和学习率\n",
    "print('Create optimizer as SGD, learning rate is 0.01')\n",
    "optimizer = optim.SGD(netforcross.parameters(), lr = 0.01)\n",
    "\n",
    "learning_rate = 0.01\n",
    "epochs = 100\n",
    "for epoch in range(epochs):\n",
    "    optimizer.zero_grad() # 把net中所有可学习参数的梯度清零\n",
    "    outputforcross = netforcross(inputbatchsize5)\n",
    "    lossforcross = criterionforcross(outputforcross, targetforcross)\n",
    "    print('Train epoch: {0}, loss value: {1}'.format(epoch + 1, lossforcross.item())) # loss是个scalar\n",
    "    lossforcross.backward()\n",
    "    optimizer.step()"
   ]
  },
  {
   "cell_type": "markdown",
   "metadata": {},
   "source": [
    "#### 数据加载与预处理"
   ]
  },
  {
   "cell_type": "markdown",
   "metadata": {},
   "source": [
    "在深度学习中数据加载及预处理是非常复杂繁琐的，但PyTorch提供了一些可极大简化和加快数据处理流程的工具。\n",
    "\n",
    "同时，对于常用的数据集，PyTorch也提供了封装好的接口供用户快速调用，这些数据集主要保存在torchvison中。\n",
    "\n",
    "torchvision实现了常用的图像数据加载功能，例如Imagenet、CIFAR10、MNIST等，以及常用的数据转换操作，这极大地方便了数据加载，并且代码具有可重用性。"
   ]
  },
  {
   "cell_type": "markdown",
   "metadata": {},
   "source": [
    "### 小试牛刀：CIFAR-10分类"
   ]
  },
  {
   "cell_type": "markdown",
   "metadata": {},
   "source": [
    "下面我们来尝试实现对CIFAR-10数据集的分类，步骤如下:\n",
    "\n",
    "- 使用torchvision加载并预处理CIFAR-10数据集\n",
    "- 定义网络\n",
    "- 定义损失函数和优化器\n",
    "- 训练网络并更新网络参数\n",
    "- 测试网络"
   ]
  },
  {
   "cell_type": "markdown",
   "metadata": {},
   "source": [
    "#### CIFAR-10数据加载及预处理"
   ]
  },
  {
   "cell_type": "markdown",
   "metadata": {},
   "source": [
    "[CIFAR-10](http://www.cs.toronto.edu/~kriz/cifar.html)是一个常用的彩色图片数据集，它有10个类别: 'airplane', 'automobile', 'bird', 'cat', 'deer', 'dog', 'frog', 'horse', 'ship', 'truck'。每张图片都是$3\\times32\\times32$，也即3-通道彩色图片，分辨率为$32\\times32$。\n",
    "<img src='./image/cifar10.png' />\n",
    "\n",
    "文件可以从上述地址下载，文件大小约161M，也可以通过torchvision自动下载，但需要花费一定时间。\n",
    "\n",
    "我们把数据存放在./cifar10/data下面"
   ]
  },
  {
   "cell_type": "markdown",
   "metadata": {},
   "source": [
    "<img src='./image/cifar10datapath.png' />"
   ]
  },
  {
   "cell_type": "code",
   "execution_count": 48,
   "metadata": {},
   "outputs": [],
   "source": [
    "import os\n",
    "datapath = './cifar10/data'\n",
    "if not os.path.exists(datapath):\n",
    "    os.makedirs(datapath)"
   ]
  },
  {
   "cell_type": "code",
   "execution_count": 49,
   "metadata": {},
   "outputs": [],
   "source": [
    "import torchvision as tv\n",
    "import torch as t\n",
    "import torchvision.transforms as transforms\n",
    "from torchvision.transforms import ToPILImage\n",
    "import matplotlib.pyplot as plt\n",
    "import os\n",
    "show = ToPILImage() # 可以把Tensor转成Image，方便可视化"
   ]
  },
  {
   "cell_type": "markdown",
   "metadata": {},
   "source": [
    "我们把数据下载之后，即可尝试进行数据的预处理与加载"
   ]
  },
  {
   "cell_type": "code",
   "execution_count": 50,
   "metadata": {},
   "outputs": [
    {
     "name": "stdout",
     "output_type": "stream",
     "text": [
      "Files already downloaded and verified\n",
      "Files already downloaded and verified\n"
     ]
    }
   ],
   "source": [
    "# 第一次运行程序torchvision会自动下载CIFAR-10数据集，\n",
    "# 大约100M，需花费一定的时间，\n",
    "# 如果已经下载有CIFAR-10，可通过root参数指定\n",
    "\n",
    "# 定义对数据的预处理\n",
    "transform = transforms.Compose([\n",
    "        transforms.ToTensor(), # 转为Tensor\n",
    "        transforms.Normalize((0.5, 0.5, 0.5), (0.5, 0.5, 0.5)), # 归一化\n",
    "                             ])\n",
    "\n",
    "# 训练集\n",
    "trainset = tv.datasets.CIFAR10(root=datapath,\n",
    "                               train=True,\n",
    "                               download=True,\n",
    "                               transform=transform)\n",
    "\n",
    "trainloader = t.utils.data.DataLoader(trainset,\n",
    "                                      batch_size=4,\n",
    "                                      shuffle=True)\n",
    "\n",
    "# 测试集\n",
    "testset = tv.datasets.CIFAR10(datapath,\n",
    "                              train=False,\n",
    "                              download=True,\n",
    "                              transform=transform)\n",
    "\n",
    "testloader = t.utils.data.DataLoader(testset,\n",
    "                                     batch_size=4,\n",
    "                                     shuffle=False)\n",
    "\n",
    "classes = ('plane', 'car', 'bird', 'cat',\n",
    "           'deer', 'dog', 'frog', 'horse', 'ship', 'truck')"
   ]
  },
  {
   "cell_type": "code",
   "execution_count": 51,
   "metadata": {},
   "outputs": [
    {
     "name": "stdout",
     "output_type": "stream",
     "text": [
      "Trainset size: 50000\n",
      "Testset size: 10000\n"
     ]
    }
   ],
   "source": [
    "print('Trainset size: {0}'.format(len(trainset)))\n",
    "print('Testset size: {0}'.format(len(testset)))"
   ]
  },
  {
   "cell_type": "markdown",
   "metadata": {},
   "source": [
    "Dataset对象是一个数据集，可以按下标访问，返回形如(data, label)的数据。"
   ]
  },
  {
   "cell_type": "code",
   "execution_count": 52,
   "metadata": {},
   "outputs": [
    {
     "name": "stdout",
     "output_type": "stream",
     "text": [
      "horse\n"
     ]
    },
    {
     "data": {
      "image/png": "[encoded data removed]",
      "text/plain": [
       "<PIL.Image.Image image mode=RGB size=50x50 at 0x1526156A668>"
      ]
     },
     "execution_count": 52,
     "metadata": {},
     "output_type": "execute_result"
    }
   ],
   "source": [
    "(data, label) = trainset[2000]\n",
    "print(classes[label])\n",
    "\n",
    "# (data + 1) / 2是为了还原被归一化的数据\n",
    "show((data + 1) / 2).resize((50, 50))"
   ]
  },
  {
   "cell_type": "markdown",
   "metadata": {},
   "source": [
    "Dataloader是一个可迭代的对象，它将dataset返回的每一条数据拼接成一个batch，并提供多线程加速优化和数据打乱等操作。\n",
    "\n",
    "当程序对dataset的所有数据遍历完一遍之后，相应的对Dataloader也完成了一次迭代。"
   ]
  },
  {
   "cell_type": "code",
   "execution_count": 53,
   "metadata": {},
   "outputs": [
    {
     "name": "stdout",
     "output_type": "stream",
     "text": [
      "      horse        frog        deer       horse\n"
     ]
    },
    {
     "data": {
      "image/png": "[encoded data removed]",
      "text/plain": [
       "<PIL.Image.Image image mode=RGB size=400x100 at 0x15207818A90>"
      ]
     },
     "execution_count": 53,
     "metadata": {},
     "output_type": "execute_result"
    }
   ],
   "source": [
    "dataiter = iter(trainloader)\n",
    "images, labels = dataiter.next() # 返回4张图片及标签\n",
    "print(' '.join('%11s'%classes[labels[j]] for j in range(4)))\n",
    "show(tv.utils.make_grid((images+1)/2)).resize((400,100))"
   ]
  },
  {
   "cell_type": "markdown",
   "metadata": {},
   "source": [
    "#### 定义网络"
   ]
  },
  {
   "cell_type": "markdown",
   "metadata": {},
   "source": [
    "拷贝上面的LeNet网络，修改self.conv1第一个参数为3通道，因CIFAR-10是3通道彩图。"
   ]
  },
  {
   "cell_type": "code",
   "execution_count": 54,
   "metadata": {},
   "outputs": [
    {
     "name": "stdout",
     "output_type": "stream",
     "text": [
      "Net(\n",
      "  (conv1): Conv2d(3, 6, kernel_size=(5, 5), stride=(1, 1))\n",
      "  (conv2): Conv2d(6, 16, kernel_size=(5, 5), stride=(1, 1))\n",
      "  (fc1): Linear(in_features=400, out_features=120, bias=True)\n",
      "  (fc2): Linear(in_features=120, out_features=84, bias=True)\n",
      "  (fc3): Linear(in_features=84, out_features=10, bias=True)\n",
      ")\n"
     ]
    }
   ],
   "source": [
    "import torch.nn as nn\n",
    "import torch.nn.functional as F\n",
    "\n",
    "class Net(nn.Module):\n",
    "    def __init__(self):\n",
    "        super(Net, self).__init__()\n",
    "        self.conv1 = nn.Conv2d(3, 6, 5) \n",
    "        self.conv2 = nn.Conv2d(6, 16, 5)  \n",
    "        self.fc1   = nn.Linear(16*5*5, 120)  \n",
    "        self.fc2   = nn.Linear(120, 84)\n",
    "        self.fc3   = nn.Linear(84, 10)\n",
    "\n",
    "    def forward(self, x): \n",
    "        x = F.max_pool2d(F.relu(self.conv1(x)), (2, 2)) \n",
    "        x = F.max_pool2d(F.relu(self.conv2(x)), 2) \n",
    "        x = x.view(x.size()[0], -1) \n",
    "        x = F.relu(self.fc1(x))\n",
    "        x = F.relu(self.fc2(x))\n",
    "        x = self.fc3(x)        \n",
    "        return x\n",
    "\n",
    "\n",
    "net = Net()\n",
    "print(net)"
   ]
  },
  {
   "cell_type": "markdown",
   "metadata": {},
   "source": [
    "#### 定义损失函数和优化器(loss和optimizer)"
   ]
  },
  {
   "cell_type": "markdown",
   "metadata": {},
   "source": [
    "以交叉熵为损失函数\n",
    "\n",
    "以Adam为优化函数"
   ]
  },
  {
   "cell_type": "code",
   "execution_count": 55,
   "metadata": {},
   "outputs": [],
   "source": [
    "from torch import optim\n",
    "criterion = nn.CrossEntropyLoss() # 交叉熵损失函数\n",
    "optimizer = t.optim.Adam(net.parameters())\n",
    "# optimizer = optim.SGD(net.parameters(), lr=0.001, momentum=0.9)"
   ]
  },
  {
   "cell_type": "markdown",
   "metadata": {},
   "source": [
    "#### 训练网络"
   ]
  },
  {
   "cell_type": "markdown",
   "metadata": {},
   "source": [
    "所有网络的训练流程都是类似的，不断地执行如下流程：\n",
    "\n",
    "- 输入数据\n",
    "- 前向传播+反向传播\n",
    "- 更新参数"
   ]
  },
  {
   "cell_type": "code",
   "execution_count": 56,
   "metadata": {},
   "outputs": [
    {
     "name": "stdout",
     "output_type": "stream",
     "text": [
      "12500\n",
      "50000\n"
     ]
    }
   ],
   "source": [
    "print(len(trainloader))\n",
    "print(len(trainset))"
   ]
  },
  {
   "cell_type": "code",
   "execution_count": 233,
   "metadata": {},
   "outputs": [
    {
     "name": "stdout",
     "output_type": "stream",
     "text": [
      "Epoch: 1 begin\n",
      "[1,  2000] loss: 0.293\n",
      "[1,  4000] loss: 0.296\n",
      "[1,  6000] loss: 0.294\n",
      "[1,  8000] loss: 0.285\n",
      "[1, 10000] loss: 0.286\n",
      "[1, 12000] loss: 0.283\n",
      "Train Loss: 0.289488, Acc: 0.589340\n",
      "save model for best accuate: 0.58934 begin\n",
      "save model for best accuate: 0.58934 end\n",
      "Epoch: 1 end\n",
      "Epoch: 2 begin\n",
      "[2,  2000] loss: 0.265\n",
      "[2,  4000] loss: 0.272\n",
      "[2,  6000] loss: 0.273\n",
      "[2,  8000] loss: 0.270\n",
      "[2, 10000] loss: 0.272\n",
      "[2, 12000] loss: 0.270\n",
      "Train Loss: 0.270589, Acc: 0.616080\n",
      "save model for best accuate: 0.61608 begin\n",
      "save model for best accuate: 0.61608 end\n",
      "Epoch: 2 end\n",
      "Epoch: 3 begin\n",
      "[3,  2000] loss: 0.256\n",
      "[3,  4000] loss: 0.254\n",
      "[3,  6000] loss: 0.257\n",
      "[3,  8000] loss: 0.258\n",
      "[3, 10000] loss: 0.257\n",
      "[3, 12000] loss: 0.259\n",
      "Train Loss: 0.256798, Acc: 0.636320\n",
      "save model for best accuate: 0.63632 begin\n",
      "save model for best accuate: 0.63632 end\n",
      "Epoch: 3 end\n",
      "Epoch: 4 begin\n",
      "[4,  2000] loss: 0.242\n",
      "[4,  4000] loss: 0.244\n",
      "[4,  6000] loss: 0.243\n",
      "[4,  8000] loss: 0.248\n",
      "[4, 10000] loss: 0.251\n",
      "[4, 12000] loss: 0.251\n",
      "Train Loss: 0.246549, Acc: 0.653200\n",
      "save model for best accuate: 0.6532 begin\n",
      "save model for best accuate: 0.6532 end\n",
      "Epoch: 4 end\n",
      "Epoch: 5 begin\n",
      "[5,  2000] loss: 0.233\n",
      "[5,  4000] loss: 0.228\n",
      "[5,  6000] loss: 0.234\n",
      "[5,  8000] loss: 0.241\n",
      "[5, 10000] loss: 0.242\n",
      "[5, 12000] loss: 0.246\n",
      "Train Loss: 0.237677, Acc: 0.663560\n",
      "save model for best accuate: 0.66356 begin\n",
      "save model for best accuate: 0.66356 end\n",
      "Epoch: 5 end\n",
      "Epoch: 6 begin\n",
      "[6,  2000] loss: 0.232\n",
      "[6,  4000] loss: 0.226\n",
      "[6,  6000] loss: 0.233\n",
      "[6,  8000] loss: 0.232\n",
      "[6, 10000] loss: 0.234\n",
      "[6, 12000] loss: 0.239\n",
      "Train Loss: 0.232507, Acc: 0.672100\n",
      "save model for best accuate: 0.6721 begin\n",
      "save model for best accuate: 0.6721 end\n",
      "Epoch: 6 end\n",
      "Epoch: 7 begin\n",
      "[7,  2000] loss: 0.220\n",
      "[7,  4000] loss: 0.217\n",
      "[7,  6000] loss: 0.226\n",
      "[7,  8000] loss: 0.233\n",
      "[7, 10000] loss: 0.239\n",
      "[7, 12000] loss: 0.228\n",
      "Train Loss: 0.227266, Acc: 0.679040\n",
      "save model for best accuate: 0.67904 begin\n",
      "save model for best accuate: 0.67904 end\n",
      "Epoch: 7 end\n",
      "Epoch: 8 begin\n",
      "[8,  2000] loss: 0.214\n",
      "[8,  4000] loss: 0.217\n",
      "[8,  6000] loss: 0.222\n",
      "[8,  8000] loss: 0.219\n",
      "[8, 10000] loss: 0.225\n",
      "[8, 12000] loss: 0.226\n",
      "Train Loss: 0.220878, Acc: 0.688600\n",
      "save model for best accuate: 0.6886 begin\n",
      "save model for best accuate: 0.6886 end\n",
      "Epoch: 8 end\n",
      "Epoch: 9 begin\n",
      "[9,  2000] loss: 0.206\n",
      "[9,  4000] loss: 0.216\n",
      "[9,  6000] loss: 0.217\n",
      "[9,  8000] loss: 0.224\n",
      "[9, 10000] loss: 0.215\n",
      "[9, 12000] loss: 0.226\n",
      "Train Loss: 0.217180, Acc: 0.696180\n",
      "save model for best accuate: 0.69618 begin\n",
      "save model for best accuate: 0.69618 end\n",
      "Epoch: 9 end\n",
      "Epoch: 10 begin\n",
      "[10,  2000] loss: 0.207\n",
      "[10,  4000] loss: 0.207\n",
      "[10,  6000] loss: 0.215\n",
      "[10,  8000] loss: 0.214\n",
      "[10, 10000] loss: 0.220\n",
      "[10, 12000] loss: 0.218\n",
      "Train Loss: 0.213508, Acc: 0.698240\n",
      "save model for best accuate: 0.69824 begin\n",
      "save model for best accuate: 0.69824 end\n",
      "Epoch: 10 end\n",
      "Epoch: 11 begin\n",
      "[11,  2000] loss: 0.198\n",
      "[11,  4000] loss: 0.204\n",
      "[11,  6000] loss: 0.210\n",
      "[11,  8000] loss: 0.210\n",
      "[11, 10000] loss: 0.213\n",
      "[11, 12000] loss: 0.219\n",
      "Train Loss: 0.209104, Acc: 0.705500\n",
      "save model for best accuate: 0.7055 begin\n",
      "save model for best accuate: 0.7055 end\n",
      "Epoch: 11 end\n",
      "Epoch: 12 begin\n",
      "[12,  2000] loss: 0.194\n",
      "[12,  4000] loss: 0.198\n",
      "[12,  6000] loss: 0.207\n",
      "[12,  8000] loss: 0.214\n",
      "[12, 10000] loss: 0.208\n",
      "[12, 12000] loss: 0.214\n",
      "Train Loss: 0.206412, Acc: 0.711660\n",
      "save model for best accuate: 0.71166 begin\n",
      "save model for best accuate: 0.71166 end\n",
      "Epoch: 12 end\n",
      "Epoch: 13 begin\n",
      "[13,  2000] loss: 0.195\n",
      "[13,  4000] loss: 0.203\n",
      "[13,  6000] loss: 0.207\n",
      "[13,  8000] loss: 0.205\n",
      "[13, 10000] loss: 0.210\n",
      "[13, 12000] loss: 0.211\n",
      "Train Loss: 0.205310, Acc: 0.713300\n",
      "save model for best accuate: 0.7133 begin\n",
      "save model for best accuate: 0.7133 end\n",
      "Epoch: 13 end\n",
      "Epoch: 14 begin\n",
      "[14,  2000] loss: 0.193\n",
      "[14,  4000] loss: 0.199\n",
      "[14,  6000] loss: 0.207\n",
      "[14,  8000] loss: 0.200\n",
      "[14, 10000] loss: 0.207\n",
      "[14, 12000] loss: 0.209\n",
      "Train Loss: 0.202963, Acc: 0.715280\n",
      "save model for best accuate: 0.71528 begin\n",
      "save model for best accuate: 0.71528 end\n",
      "Epoch: 14 end\n",
      "Epoch: 15 begin\n",
      "[15,  2000] loss: 0.193\n",
      "[15,  4000] loss: 0.197\n",
      "[15,  6000] loss: 0.199\n",
      "[15,  8000] loss: 0.204\n",
      "[15, 10000] loss: 0.205\n",
      "[15, 12000] loss: 0.204\n",
      "Train Loss: 0.200400, Acc: 0.720300\n",
      "save model for best accuate: 0.7203 begin\n",
      "save model for best accuate: 0.7203 end\n",
      "Epoch: 15 end\n",
      "Epoch: 16 begin\n",
      "[16,  2000] loss: 0.190\n",
      "[16,  4000] loss: 0.196\n",
      "[16,  6000] loss: 0.196\n",
      "[16,  8000] loss: 0.202\n",
      "[16, 10000] loss: 0.198\n",
      "[16, 12000] loss: 0.205\n",
      "Train Loss: 0.198217, Acc: 0.723040\n",
      "save model for best accuate: 0.72304 begin\n",
      "save model for best accuate: 0.72304 end\n",
      "Epoch: 16 end\n",
      "Epoch: 17 begin\n",
      "[17,  2000] loss: 0.188\n",
      "[17,  4000] loss: 0.194\n",
      "[17,  6000] loss: 0.196\n",
      "[17,  8000] loss: 0.199\n",
      "[17, 10000] loss: 0.203\n",
      "[17, 12000] loss: 0.203\n",
      "Train Loss: 0.196911, Acc: 0.724940\n",
      "save model for best accuate: 0.72494 begin\n",
      "save model for best accuate: 0.72494 end\n",
      "Epoch: 17 end\n",
      "Epoch: 18 begin\n",
      "[18,  2000] loss: 0.184\n",
      "[18,  4000] loss: 0.192\n",
      "[18,  6000] loss: 0.196\n",
      "[18,  8000] loss: 0.196\n",
      "[18, 10000] loss: 0.198\n",
      "[18, 12000] loss: 0.206\n",
      "Train Loss: 0.195447, Acc: 0.728160\n",
      "save model for best accuate: 0.72816 begin\n",
      "save model for best accuate: 0.72816 end\n",
      "Epoch: 18 end\n",
      "Epoch: 19 begin\n",
      "[19,  2000] loss: 0.179\n",
      "[19,  4000] loss: 0.189\n",
      "[19,  6000] loss: 0.196\n",
      "[19,  8000] loss: 0.196\n",
      "[19, 10000] loss: 0.201\n",
      "[19, 12000] loss: 0.198\n",
      "Train Loss: 0.193414, Acc: 0.729520\n",
      "save model for best accuate: 0.72952 begin\n",
      "save model for best accuate: 0.72952 end\n",
      "Epoch: 19 end\n",
      "Epoch: 20 begin\n",
      "[20,  2000] loss: 0.181\n",
      "[20,  4000] loss: 0.185\n",
      "[20,  6000] loss: 0.197\n",
      "[20,  8000] loss: 0.188\n",
      "[20, 10000] loss: 0.200\n",
      "[20, 12000] loss: 0.200\n",
      "Train Loss: 0.192055, Acc: 0.733800\n",
      "save model for best accuate: 0.7338 begin\n",
      "save model for best accuate: 0.7338 end\n",
      "Epoch: 20 end\n",
      "Epoch: 21 begin\n",
      "[21,  2000] loss: 0.177\n",
      "[21,  4000] loss: 0.189\n",
      "[21,  6000] loss: 0.198\n",
      "[21,  8000] loss: 0.189\n",
      "[21, 10000] loss: 0.191\n",
      "[21, 12000] loss: 0.200\n",
      "Train Loss: 0.191171, Acc: 0.735000\n",
      "save model for best accuate: 0.735 begin\n",
      "save model for best accuate: 0.735 end\n",
      "Epoch: 21 end\n",
      "Epoch: 22 begin\n",
      "[22,  2000] loss: 0.182\n",
      "[22,  4000] loss: 0.182\n",
      "[22,  6000] loss: 0.190\n",
      "[22,  8000] loss: 0.183\n",
      "[22, 10000] loss: 0.198\n",
      "[22, 12000] loss: 0.190\n",
      "Train Loss: 0.187858, Acc: 0.737340\n",
      "save model for best accuate: 0.73734 begin\n",
      "save model for best accuate: 0.73734 end\n",
      "Epoch: 22 end\n",
      "Epoch: 23 begin\n",
      "[23,  2000] loss: 0.177\n",
      "[23,  4000] loss: 0.178\n",
      "[23,  6000] loss: 0.189\n",
      "[23,  8000] loss: 0.185\n",
      "[23, 10000] loss: 0.196\n",
      "[23, 12000] loss: 0.198\n",
      "Train Loss: 0.187845, Acc: 0.739040\n",
      "save model for best accuate: 0.73904 begin\n",
      "save model for best accuate: 0.73904 end\n",
      "Epoch: 23 end\n",
      "Epoch: 24 begin\n",
      "[24,  2000] loss: 0.178\n",
      "[24,  4000] loss: 0.184\n",
      "[24,  6000] loss: 0.179\n",
      "[24,  8000] loss: 0.183\n",
      "[24, 10000] loss: 0.194\n",
      "[24, 12000] loss: 0.192\n",
      "Train Loss: 0.185613, Acc: 0.742700\n",
      "save model for best accuate: 0.7427 begin\n",
      "save model for best accuate: 0.7427 end\n",
      "Epoch: 24 end\n",
      "Epoch: 25 begin\n",
      "[25,  2000] loss: 0.172\n",
      "[25,  4000] loss: 0.170\n",
      "[25,  6000] loss: 0.188\n",
      "[25,  8000] loss: 0.191\n",
      "[25, 10000] loss: 0.191\n",
      "[25, 12000] loss: 0.190\n",
      "Train Loss: 0.183947, Acc: 0.745300\n",
      "save model for best accuate: 0.7453 begin\n",
      "save model for best accuate: 0.7453 end\n",
      "Epoch: 25 end\n",
      "Epoch: 26 begin\n",
      "[26,  2000] loss: 0.174\n",
      "[26,  4000] loss: 0.184\n",
      "[26,  6000] loss: 0.179\n",
      "[26,  8000] loss: 0.186\n",
      "[26, 10000] loss: 0.181\n",
      "[26, 12000] loss: 0.193\n",
      "Train Loss: 0.183487, Acc: 0.747620\n",
      "save model for best accuate: 0.74762 begin\n",
      "save model for best accuate: 0.74762 end\n",
      "Epoch: 26 end\n",
      "Epoch: 27 begin\n",
      "[27,  2000] loss: 0.170\n",
      "[27,  4000] loss: 0.179\n",
      "[27,  6000] loss: 0.182\n",
      "[27,  8000] loss: 0.190\n",
      "[27, 10000] loss: 0.185\n",
      "[27, 12000] loss: 0.184\n",
      "Train Loss: 0.182112, Acc: 0.750480\n",
      "save model for best accuate: 0.75048 begin\n",
      "save model for best accuate: 0.75048 end\n",
      "Epoch: 27 end\n",
      "Epoch: 28 begin\n",
      "[28,  2000] loss: 0.175\n",
      "[28,  4000] loss: 0.175\n",
      "[28,  6000] loss: 0.180\n",
      "[28,  8000] loss: 0.176\n",
      "[28, 10000] loss: 0.181\n",
      "[28, 12000] loss: 0.189\n",
      "Train Loss: 0.182558, Acc: 0.747280\n",
      "Epoch: 28 end\n",
      "Epoch: 29 begin\n",
      "[29,  2000] loss: 0.178\n",
      "[29,  4000] loss: 0.176\n",
      "[29,  6000] loss: 0.184\n",
      "[29,  8000] loss: 0.179\n",
      "[29, 10000] loss: 0.181\n",
      "[29, 12000] loss: 0.178\n",
      "Train Loss: 0.179470, Acc: 0.754380\n",
      "save model for best accuate: 0.75438 begin\n",
      "save model for best accuate: 0.75438 end\n",
      "Epoch: 29 end\n",
      "Epoch: 30 begin\n",
      "[30,  2000] loss: 0.164\n",
      "[30,  4000] loss: 0.173\n",
      "[30,  6000] loss: 0.174\n",
      "[30,  8000] loss: 0.193\n",
      "[30, 10000] loss: 0.181\n",
      "[30, 12000] loss: 0.197\n",
      "Train Loss: 0.180765, Acc: 0.752320\n",
      "Epoch: 30 end\n",
      "Epoch: 31 begin\n",
      "[31,  2000] loss: 0.169\n",
      "[31,  4000] loss: 0.172\n",
      "[31,  6000] loss: 0.183\n",
      "[31,  8000] loss: 0.186\n",
      "[31, 10000] loss: 0.182\n",
      "[31, 12000] loss: 0.190\n",
      "Train Loss: 0.180588, Acc: 0.751460\n",
      "Epoch: 31 end\n",
      "Epoch: 32 begin\n",
      "[32,  2000] loss: 0.167\n",
      "[32,  4000] loss: 0.178\n",
      "[32,  6000] loss: 0.181\n",
      "[32,  8000] loss: 0.185\n",
      "[32, 10000] loss: 0.183\n",
      "[32, 12000] loss: 0.177\n",
      "Train Loss: 0.178702, Acc: 0.755560\n",
      "save model for best accuate: 0.75556 begin\n",
      "save model for best accuate: 0.75556 end\n",
      "Epoch: 32 end\n",
      "Epoch: 33 begin\n",
      "[33,  2000] loss: 0.175\n",
      "[33,  4000] loss: 0.171\n",
      "[33,  6000] loss: 0.175\n",
      "[33,  8000] loss: 0.181\n",
      "[33, 10000] loss: 0.175\n",
      "[33, 12000] loss: 0.193\n",
      "Train Loss: 0.178711, Acc: 0.754780\n",
      "Epoch: 33 end\n",
      "Epoch: 34 begin\n",
      "[34,  2000] loss: 0.163\n",
      "[34,  4000] loss: 0.170\n",
      "[34,  6000] loss: 0.176\n",
      "[34,  8000] loss: 0.182\n",
      "[34, 10000] loss: 0.180\n",
      "[34, 12000] loss: 0.181\n",
      "Train Loss: 0.175098, Acc: 0.756000\n",
      "save model for best accuate: 0.756 begin\n",
      "save model for best accuate: 0.756 end\n",
      "Epoch: 34 end\n",
      "Epoch: 35 begin\n",
      "[35,  2000] loss: 0.163\n",
      "[35,  4000] loss: 0.170\n",
      "[35,  6000] loss: 0.175\n",
      "[35,  8000] loss: 0.180\n",
      "[35, 10000] loss: 0.172\n",
      "[35, 12000] loss: 0.180\n",
      "Train Loss: 0.173263, Acc: 0.761600\n",
      "save model for best accuate: 0.7616 begin\n",
      "save model for best accuate: 0.7616 end\n",
      "Epoch: 35 end\n",
      "Epoch: 36 begin\n",
      "[36,  2000] loss: 0.161\n",
      "[36,  4000] loss: 0.168\n",
      "[36,  6000] loss: 0.166\n",
      "[36,  8000] loss: 0.178\n",
      "[36, 10000] loss: 0.178\n",
      "[36, 12000] loss: 0.180\n",
      "Train Loss: 0.172249, Acc: 0.764020\n",
      "save model for best accuate: 0.76402 begin\n",
      "save model for best accuate: 0.76402 end\n",
      "Epoch: 36 end\n",
      "Epoch: 37 begin\n",
      "[37,  2000] loss: 0.161\n",
      "[37,  4000] loss: 0.169\n",
      "[37,  6000] loss: 0.166\n",
      "[37,  8000] loss: 0.181\n",
      "[37, 10000] loss: 0.184\n",
      "[37, 12000] loss: 0.172\n",
      "Train Loss: 0.172209, Acc: 0.764340\n",
      "save model for best accuate: 0.76434 begin\n",
      "save model for best accuate: 0.76434 end\n",
      "Epoch: 37 end\n",
      "Epoch: 38 begin\n",
      "[38,  2000] loss: 0.155\n",
      "[38,  4000] loss: 0.181\n",
      "[38,  6000] loss: 0.170\n",
      "[38,  8000] loss: 0.169\n",
      "[38, 10000] loss: 0.178\n",
      "[38, 12000] loss: 0.175\n",
      "Train Loss: 0.171767, Acc: 0.765180\n",
      "save model for best accuate: 0.76518 begin\n",
      "save model for best accuate: 0.76518 end\n",
      "Epoch: 38 end\n",
      "Epoch: 39 begin\n",
      "[39,  2000] loss: 0.157\n",
      "[39,  4000] loss: 0.166\n",
      "[39,  6000] loss: 0.167\n",
      "[39,  8000] loss: 0.179\n",
      "[39, 10000] loss: 0.170\n",
      "[39, 12000] loss: 0.171\n",
      "Train Loss: 0.169038, Acc: 0.768780\n",
      "save model for best accuate: 0.76878 begin\n",
      "save model for best accuate: 0.76878 end\n",
      "Epoch: 39 end\n",
      "Epoch: 40 begin\n",
      "[40,  2000] loss: 0.156\n",
      "[40,  4000] loss: 0.164\n",
      "[40,  6000] loss: 0.177\n",
      "[40,  8000] loss: 0.171\n",
      "[40, 10000] loss: 0.180\n",
      "[40, 12000] loss: 0.175\n",
      "Train Loss: 0.171263, Acc: 0.767980\n",
      "Epoch: 40 end\n",
      "Epoch: 41 begin\n",
      "[41,  2000] loss: 0.162\n",
      "[41,  4000] loss: 0.161\n",
      "[41,  6000] loss: 0.167\n",
      "[41,  8000] loss: 0.175\n",
      "[41, 10000] loss: 0.178\n",
      "[41, 12000] loss: 0.190\n",
      "Train Loss: 0.172052, Acc: 0.767560\n",
      "Epoch: 41 end\n",
      "Epoch: 42 begin\n",
      "[42,  2000] loss: 0.155\n",
      "[42,  4000] loss: 0.175\n",
      "[42,  6000] loss: 0.166\n",
      "[42,  8000] loss: 0.171\n",
      "[42, 10000] loss: 0.167\n",
      "[42, 12000] loss: 0.170\n",
      "Train Loss: 0.167549, Acc: 0.774160\n",
      "save model for best accuate: 0.77416 begin\n",
      "save model for best accuate: 0.77416 end\n",
      "Epoch: 42 end\n",
      "Epoch: 43 begin\n",
      "[43,  2000] loss: 0.172\n",
      "[43,  4000] loss: 0.164\n",
      "[43,  6000] loss: 0.169\n",
      "[43,  8000] loss: 0.164\n",
      "[43, 10000] loss: 0.172\n",
      "[43, 12000] loss: 0.174\n",
      "Train Loss: 0.170145, Acc: 0.769200\n",
      "Epoch: 43 end\n",
      "Epoch: 44 begin\n",
      "[44,  2000] loss: 0.154\n",
      "[44,  4000] loss: 0.156\n",
      "[44,  6000] loss: 0.171\n",
      "[44,  8000] loss: 0.173\n",
      "[44, 10000] loss: 0.175\n",
      "[44, 12000] loss: 0.168\n",
      "Train Loss: 0.167611, Acc: 0.772380\n",
      "Epoch: 44 end\n",
      "Epoch: 45 begin\n",
      "[45,  2000] loss: 0.153\n",
      "[45,  4000] loss: 0.164\n",
      "[45,  6000] loss: 0.207\n",
      "[45,  8000] loss: 0.174\n",
      "[45, 10000] loss: 0.180\n",
      "[45, 12000] loss: 0.180\n",
      "Train Loss: 0.175624, Acc: 0.765120\n",
      "Epoch: 45 end\n",
      "Epoch: 46 begin\n",
      "[46,  2000] loss: 0.156\n",
      "[46,  4000] loss: 0.161\n",
      "[46,  6000] loss: 0.176\n",
      "[46,  8000] loss: 0.170\n",
      "[46, 10000] loss: 0.169\n",
      "[46, 12000] loss: 0.166\n",
      "Train Loss: 0.166098, Acc: 0.776780\n",
      "save model for best accuate: 0.77678 begin\n",
      "save model for best accuate: 0.77678 end\n",
      "Epoch: 46 end\n",
      "Epoch: 47 begin\n",
      "[47,  2000] loss: 0.160\n",
      "[47,  4000] loss: 0.169\n",
      "[47,  6000] loss: 0.159\n",
      "[47,  8000] loss: 0.166\n",
      "[47, 10000] loss: 0.168\n",
      "[47, 12000] loss: 0.187\n",
      "Train Loss: 0.168385, Acc: 0.772060\n",
      "Epoch: 47 end\n",
      "Epoch: 48 begin\n",
      "[48,  2000] loss: 0.162\n",
      "[48,  4000] loss: 0.165\n",
      "[48,  6000] loss: 0.155\n",
      "[48,  8000] loss: 0.163\n",
      "[48, 10000] loss: 0.168\n",
      "[48, 12000] loss: 0.177\n",
      "Train Loss: 0.165222, Acc: 0.775500\n",
      "Epoch: 48 end\n",
      "Epoch: 49 begin\n",
      "[49,  2000] loss: 0.159\n",
      "[49,  4000] loss: 0.160\n",
      "[49,  6000] loss: 0.169\n",
      "[49,  8000] loss: 0.188\n",
      "[49, 10000] loss: 0.161\n",
      "[49, 12000] loss: 0.179\n",
      "Train Loss: 0.169898, Acc: 0.773220\n",
      "Epoch: 49 end\n",
      "Epoch: 50 begin\n",
      "[50,  2000] loss: 0.152\n",
      "[50,  4000] loss: 0.158\n",
      "[50,  6000] loss: 0.160\n",
      "[50,  8000] loss: 0.182\n",
      "[50, 10000] loss: 0.169\n",
      "[50, 12000] loss: 0.183\n",
      "Train Loss: 0.167347, Acc: 0.774140\n",
      "Epoch: 50 end\n",
      "Finished Training\n"
     ]
    }
   ],
   "source": [
    "t.set_num_threads(8)\n",
    "# 设置checkpoint的模型存放路径\n",
    "modelfolder = './cifar10/model'\n",
    "if not os.path.exists(modelfolder):\n",
    "    os.makedirs(modelfolder)\n",
    "modelfile = os.path.join(modelfolder, 'cifar10_lenet.pt')\n",
    "best_acc = 0.\n",
    "for epoch in range(50):\n",
    "    print('Epoch: {0} begin'.format(epoch + 1))\n",
    "    net.train()\n",
    "    running_loss = 0.0\n",
    "    train_loss = 0.\n",
    "    train_acc = 0.\n",
    "    for i, (inputs, labels) in enumerate(trainloader):\n",
    "        # 梯度清零\n",
    "        optimizer.zero_grad()\n",
    "        # forward + backward \n",
    "        outputs = net(inputs)\n",
    "        loss = criterion(outputs, labels)\n",
    "        train_loss += loss.data.item()\n",
    "        pred = t.max(outputs, 1)[1]\n",
    "        # 通过torch.sum统计预测正确的数量\n",
    "        train_correct = t.sum(pred == labels)\n",
    "        # train_correct是Tensor类型，需要通过item()，得到数值\n",
    "        train_acc += train_correct.item()\n",
    "#         print('train_correct is {0}/4, total acc: {1}'.format(train_correct, train_acc))\n",
    "        loss.backward()   \n",
    "        # 更新参数 \n",
    "        optimizer.step()\n",
    "        # 打印log信息\n",
    "        # loss 是一个scalar,需要使用loss.item()来获取数值，不能使用loss[0]\n",
    "        running_loss += loss.item()\n",
    "        if i % 2000 == 1999: # 每2000个batch打印一下训练状态\n",
    "            print('[%d, %5d] loss: %.3f' \\\n",
    "                  % (epoch+1, i+1, running_loss / (2000 * 4)))\n",
    "            running_loss = 0.0\n",
    "    accurate = train_acc / (len(trainset))\n",
    "    print('Train Loss: {:.6f}, Acc: {:.6f}'.format(train_loss / (len(trainset)), accurate))\n",
    "    # 如果当前epoch的准确率是最高的，则保存模型。\n",
    "    # 模型的权重信息是通过state_dict()获得的，这也是模型的最关键信息\n",
    "    if accurate > best_acc:\n",
    "        print('save model for best accuate: {0} begin'.format(accurate))\n",
    "        best_acc = accurate\n",
    "        t.save({\n",
    "            'epoch': epoch + 1,\n",
    "            'state_dict': net.state_dict(),\n",
    "            'best_acc': best_acc,\n",
    "        }, modelfile)\n",
    "        print('save model for best accuate: {0} end'.format(accurate))\n",
    "    print('Epoch: {0} end'.format(epoch + 1))\n",
    "print('Finished Training')"
   ]
  },
  {
   "cell_type": "markdown",
   "metadata": {},
   "source": [
    "将测试图片输入到网络中，计算它的label，然后与实际的label进行比较。"
   ]
  },
  {
   "cell_type": "code",
   "execution_count": 308,
   "metadata": {},
   "outputs": [],
   "source": [
    "def loadmodel():\n",
    "    modelfolder = './cifar10/model'\n",
    "    modelfile = os.path.join(modelfolder, 'cifar10_lenet.pt')\n",
    "    if not os.path.exists(modelfile):\n",
    "        print('model not exist!')\n",
    "        return None, None\n",
    "    print('Loading best model: {0} begin'.format(modelfile))\n",
    "    mymodel = Net()\n",
    "    checkpoint = t.load(modelfile)\n",
    "    epoch = checkpoint['epoch']\n",
    "    best_acc = checkpoint['best_acc']\n",
    "    mymodel.load_state_dict(checkpoint['state_dict'])\n",
    "    print('Loading best model end, epoch is {0}, training accuracy is {1}'.format(epoch, best_acc))\n",
    "    return mymodel"
   ]
  },
  {
   "cell_type": "code",
   "execution_count": 304,
   "metadata": {},
   "outputs": [],
   "source": [
    "def getpilimage(image):\n",
    "    return show((image + 1) / 2).resize((100, 100))"
   ]
  },
  {
   "cell_type": "markdown",
   "metadata": {},
   "source": [
    "下面是如何使用matplotlib输出图片"
   ]
  },
  {
   "cell_type": "code",
   "execution_count": 305,
   "metadata": {},
   "outputs": [],
   "source": [
    "def outputimage(images):\n",
    "    plt.figure(\"cifar10\")\n",
    "    initplost = 141\n",
    "    for i in range(4):\n",
    "        plt.subplot(141 + i)\n",
    "        plt.imshow(getpilimage(images[i]))\n",
    "    plt.show()"
   ]
  },
  {
   "cell_type": "code",
   "execution_count": 309,
   "metadata": {},
   "outputs": [
    {
     "name": "stdout",
     "output_type": "stream",
     "text": [
      "Loading best model: ./cifar10/model\\cifar10_lenet.pt begin\n",
      "Loading best model end, epoch is 46, training accuracy is 0.77678\n",
      "Prediction: 1 / 10\n",
      "实际的label:    cat  ship  ship plane\n",
      "预测结果:    cat plane plane plane\n"
     ]
    },
    {
     "data": {
      "image/png": "[encoded data removed]",
      "text/plain": [
       "<Figure size 432x288 with 4 Axes>"
      ]
     },
     "metadata": {
      "needs_background": "light"
     },
     "output_type": "display_data"
    },
    {
     "name": "stdout",
     "output_type": "stream",
     "text": [
      "Prediction: 2 / 10\n",
      "实际的label:   frog  frog   car  frog\n",
      "预测结果:   frog   cat   dog  frog\n"
     ]
    },
    {
     "data": {
      "image/png": "[encoded data removed]",
      "text/plain": [
       "<Figure size 432x288 with 4 Axes>"
      ]
     },
     "metadata": {
      "needs_background": "light"
     },
     "output_type": "display_data"
    },
    {
     "name": "stdout",
     "output_type": "stream",
     "text": [
      "Prediction: 3 / 10\n",
      "实际的label:    cat   car plane truck\n",
      "预测结果:    dog   car plane truck\n"
     ]
    },
    {
     "data": {
      "image/png": "[encoded data removed]",
      "text/plain": [
       "<Figure size 432x288 with 4 Axes>"
      ]
     },
     "metadata": {
      "needs_background": "light"
     },
     "output_type": "display_data"
    },
    {
     "name": "stdout",
     "output_type": "stream",
     "text": [
      "Prediction: 4 / 10\n",
      "实际的label:    dog horse truck  ship\n",
      "预测结果:   frog horse truck  ship\n"
     ]
    },
    {
     "data": {
      "image/png": "[encoded data removed]",
      "text/plain": [
       "<Figure size 432x288 with 4 Axes>"
      ]
     },
     "metadata": {
      "needs_background": "light"
     },
     "output_type": "display_data"
    },
    {
     "name": "stdout",
     "output_type": "stream",
     "text": [
      "Prediction: 5 / 10\n",
      "实际的label:    dog horse  ship  frog\n",
      "预测结果:    dog   cat  ship  frog\n"
     ]
    },
    {
     "data": {
      "image/png": "[encoded data removed]",
      "text/plain": [
       "<Figure size 432x288 with 4 Axes>"
      ]
     },
     "metadata": {
      "needs_background": "light"
     },
     "output_type": "display_data"
    },
    {
     "name": "stdout",
     "output_type": "stream",
     "text": [
      "Prediction: 6 / 10\n",
      "实际的label:  horse plane  deer truck\n",
      "预测结果:  horse plane  bird   car\n"
     ]
    },
    {
     "data": {
      "image/png": "[encoded data removed]",
      "text/plain": [
       "<Figure size 432x288 with 4 Axes>"
      ]
     },
     "metadata": {
      "needs_background": "light"
     },
     "output_type": "display_data"
    },
    {
     "name": "stdout",
     "output_type": "stream",
     "text": [
      "Prediction: 7 / 10\n",
      "实际的label:    dog  bird  deer plane\n",
      "预测结果:    dog  bird  deer plane\n"
     ]
    },
    {
     "data": {
      "image/png": "[encoded data removed]",
      "text/plain": [
       "<Figure size 432x288 with 4 Axes>"
      ]
     },
     "metadata": {
      "needs_background": "light"
     },
     "output_type": "display_data"
    },
    {
     "name": "stdout",
     "output_type": "stream",
     "text": [
      "Prediction: 8 / 10\n",
      "实际的label:  truck  frog  frog   dog\n",
      "预测结果:  truck  frog  frog   dog\n"
     ]
    },
    {
     "data": {
      "image/png": "[encoded data removed]",
      "text/plain": [
       "<Figure size 432x288 with 4 Axes>"
      ]
     },
     "metadata": {
      "needs_background": "light"
     },
     "output_type": "display_data"
    },
    {
     "name": "stdout",
     "output_type": "stream",
     "text": [
      "Prediction: 9 / 10\n",
      "实际的label:   deer   dog truck  bird\n",
      "预测结果:   bird   cat truck   cat\n"
     ]
    },
    {
     "data": {
      "image/png": "[encoded data removed]",
      "text/plain": [
       "<Figure size 432x288 with 4 Axes>"
      ]
     },
     "metadata": {
      "needs_background": "light"
     },
     "output_type": "display_data"
    },
    {
     "name": "stdout",
     "output_type": "stream",
     "text": [
      "Prediction: 10 / 10\n",
      "实际的label:   deer   car truck   dog\n",
      "预测结果:   deer   car truck   dog\n"
     ]
    },
    {
     "data": {
      "image/png": "[encoded data removed]",
      "text/plain": [
       "<Figure size 432x288 with 4 Axes>"
      ]
     },
     "metadata": {
      "needs_background": "light"
     },
     "output_type": "display_data"
    }
   ],
   "source": [
    "mymodel = loadmodel()\n",
    "if mymodel:\n",
    "    mymodel.eval()\n",
    "    dataiter = iter(testloader)\n",
    "    predictcount = 10\n",
    "    with t.no_grad():\n",
    "        for i in range(predictcount):\n",
    "            print('Prediction: {0} / {1}'.format(i+1, predictcount))\n",
    "            images, labels = dataiter.next() # 一个batch返回4张图片\n",
    "            print('实际的label: ', ' '.join(\\\n",
    "                        '%05s'%classes[labels[j]] for j in range(4)))\n",
    "            # 计算图片在每个类别上的分数\n",
    "            outputs = mymodel(images)\n",
    "    #         outputs = mymodel(images)\n",
    "            # 得分最高的那个类\n",
    "            _, predicted = t.max(outputs.data, 1)\n",
    "            print('预测结果: ', ' '.join('%5s'\\\n",
    "                        % classes[predicted[j]] for j in range(4)))\n",
    "            outputimage(images)"
   ]
  },
  {
   "cell_type": "markdown",
   "metadata": {},
   "source": [
    "再来看看在整个测试集上的效果。"
   ]
  },
  {
   "cell_type": "code",
   "execution_count": 310,
   "metadata": {},
   "outputs": [
    {
     "name": "stdout",
     "output_type": "stream",
     "text": [
      "Loading best model: ./cifar10/model\\cifar10_lenet.pt begin\n",
      "Loading best model end, epoch is 46, training accuracy is 0.77678\n",
      "10000张测试集的准确率为: 60%\n"
     ]
    }
   ],
   "source": [
    "correct = 0 # 预测正确的图片数\n",
    "total = 0 # 总共的图片数\n",
    "mymodel = loadmodel()\n",
    "if mymodel:\n",
    "    mymodel.eval()\n",
    "    # 由于测试的时候不需要求导，可以暂时关闭autograd，提高速度，节约内存\n",
    "    with t.no_grad():\n",
    "        for data in testloader:\n",
    "            images, labels = data\n",
    "            outputs = mymodel(images)\n",
    "            _, predicted = t.max(outputs, 1)\n",
    "            total += labels.size(0)\n",
    "            correct += (predicted == labels).sum()\n",
    "\n",
    "    print('{0}张测试集的准确率为: {1}%'.format(total, 100 * correct / total))"
   ]
  },
  {
   "cell_type": "markdown",
   "metadata": {},
   "source": [
    "如果想获得更好的效果，理论上就是进行更多epoch的训练，即训练更多次。"
   ]
  },
  {
   "cell_type": "markdown",
   "metadata": {},
   "source": [
    "以上就是PyTorch的基础用法，以及相当简单的通过CNN的LeNet模型，训练及使用Cifar10数据集的例子。"
   ]
  },
  {
   "cell_type": "code",
   "execution_count": null,
   "metadata": {},
   "outputs": [],
   "source": []
  }
 ],
 "metadata": {
  "kernelspec": {
   "display_name": "Python 3",
   "language": "python",
   "name": "python3"
  },
  "language_info": {
   "codemirror_mode": {
    "name": "ipython",
    "version": 3
   },
   "file_extension": ".py",
   "mimetype": "text/x-python",
   "name": "python",
   "nbconvert_exporter": "python",
   "pygments_lexer": "ipython3",
   "version": "3.6.7"
  },
  "toc": {
   "base_numbering": 1,
   "nav_menu": {},
   "number_sections": true,
   "sideBar": true,
   "skip_h1_title": false,
   "title_cell": "Table of Contents",
   "title_sidebar": "Contents",
   "toc_cell": false,
   "toc_position": {},
   "toc_section_display": true,
   "toc_window_display": false
  }
 },
 "nbformat": 4,
 "nbformat_minor": 2
}
