{
 "cells": [
  {
   "cell_type": "markdown",
   "metadata": {},
   "source": [
    "# 变量类型\n",
    "1. Python中，变量就是变量，没有类型。我们所说的\"类型\"是变量所指的内存中对象的类型\n",
    "2. 等号(=)用来给变量赋值"
   ]
  },
  {
   "cell_type": "code",
   "execution_count": null,
   "metadata": {},
   "outputs": [
    {
     "name": "stdout",
     "output_type": "stream",
     "text": [
      "100 76.5 Blade\n"
     ]
    }
   ],
   "source": [
    "counter = 100 #整型变量\n",
    "weight = 76.5 #浮点型变量\n",
    "name = 'Blade' #字符串\n",
    "print(counter, weight, name) "
   ]
  },
  {
   "cell_type": "markdown",
   "metadata": {},
   "source": [
    "# 多个变量赋值\n",
    "Python允许同时为多个变量赋值"
   ]
  },
  {
   "cell_type": "code",
   "execution_count": 2,
   "metadata": {},
   "outputs": [],
   "source": [
    "a = b = c = 100"
   ]
  },
  {
   "cell_type": "markdown",
   "metadata": {},
   "source": [
    "这个实例，创建一个整型对象，值为1"
   ]
  },
  {
   "cell_type": "code",
   "execution_count": 3,
   "metadata": {},
   "outputs": [
    {
     "name": "stdout",
     "output_type": "stream",
     "text": [
      "100 200 100\n"
     ]
    }
   ],
   "source": [
    "b = 200\n",
    "print(a, b, c)"
   ]
  },
  {
   "cell_type": "markdown",
   "metadata": {},
   "source": [
    "我们也可以同时为多个变量赋予不同的值"
   ]
  },
  {
   "cell_type": "code",
   "execution_count": 5,
   "metadata": {},
   "outputs": [
    {
     "name": "stdout",
     "output_type": "stream",
     "text": [
      "1 2.0 China\n"
     ]
    }
   ],
   "source": [
    "a, b, c = 1, 2.0, 'China'\n",
    "print(a, b, c)"
   ]
  },
  {
   "cell_type": "markdown",
   "metadata": {},
   "source": [
    "# 标准数据类型\n",
    "Python3 中有六个标准数据类型\n",
    "* Number\n",
    "* String\n",
    "* List\n",
    "* Tuple (元组)\n",
    "* Set (集合)\n",
    "* Dictionary (字典)"
   ]
  },
  {
   "cell_type": "markdown",
   "metadata": {},
   "source": [
    "* 不可变数据(3个)，value值改变，id值随之改变: Number, String, Tuple"
   ]
  },
  {
   "cell_type": "code",
   "execution_count": 8,
   "metadata": {},
   "outputs": [
    {
     "name": "stdout",
     "output_type": "stream",
     "text": [
      "a: 1.536, id of a: Hello, so a: 1.536 is good\n",
      "a: 1.54, id of a: 79141744\n",
      "b: Hello, id of b: 83021416\n",
      "c: ('abcd', 883, 2.54), id of c: 83090672\n"
     ]
    }
   ],
   "source": [
    "a, b, c = 1.536, 'Hello', ('abcd', 883, 2.54)\n",
    "print('a: {0}, id of a: {1}, so a: {0} is good'.format(a, b))\n",
    "print('a: {0:.2f}, id of a: {1}'.format(a, id(a)))\n",
    "print('b: {0}, id of b: {1}'.format(b, id(b)))\n",
    "print('c: {0}, id of c: {1}'.format(c, id(c)))"
   ]
  },
  {
   "cell_type": "code",
   "execution_count": 6,
   "metadata": {},
   "outputs": [
    {
     "name": "stdout",
     "output_type": "stream",
     "text": [
      "a: 3, id of a: 498190064\n",
      "b: World, id of b: 88813496\n",
      "c: ('efgh', 111, 20.54), id of c: 88747176\n"
     ]
    }
   ],
   "source": [
    "a, b, c = 3, 'World',  ('efgh', 111, 20.54)\n",
    "print('a: {0}, id of a: {1}'.format(a, id(a)))\n",
    "print('b: {0}, id of b: {1}'.format(b, id(b)))\n",
    "print('c: {0}, id of c: {1}'.format(c, id(c)))"
   ]
  },
  {
   "cell_type": "markdown",
   "metadata": {},
   "source": [
    "* 可变数据(3个)，value值改变，id值不会改变: List, Dictionary, Set"
   ]
  },
  {
   "cell_type": "code",
   "execution_count": 8,
   "metadata": {},
   "outputs": [
    {
     "name": "stdout",
     "output_type": "stream",
     "text": [
      "mylist: [1, 2, 3, 4], id of mylist: 87713736\n",
      "mydict: {'one': 1, 'two': 2}, id of mydict: 88987976\n",
      "myset: {'Tom', 'Jack', 'Hebe'}, id of myset: 84764264\n"
     ]
    }
   ],
   "source": [
    "mylist = [1, 2, 3, 4]\n",
    "mydict = {'one': 1, 'two': 2}\n",
    "myset = {'Tom', 'Jack', 'Hebe'}\n",
    "print('mylist: {0}, id of mylist: {1}'.format(mylist, id(mylist)))\n",
    "print('mydict: {0}, id of mydict: {1}'.format(mydict, id(mydict)))\n",
    "print('myset: {0}, id of myset: {1}'.format(myset, id(myset)))"
   ]
  },
  {
   "cell_type": "code",
   "execution_count": 9,
   "metadata": {},
   "outputs": [
    {
     "name": "stdout",
     "output_type": "stream",
     "text": [
      "mylist: [1, 2, 3, 4, 5], id of mylist: 87713736\n",
      "mydict: {'one': 1, 'two': 2, 'three': 3}, id of mydict: 88987976\n",
      "myset: {'Tom', 'Jack', 'Hebe', 'Lamda'}, id of myset: 84764264\n"
     ]
    }
   ],
   "source": [
    "mylist.append(5)\n",
    "print('mylist: {0}, id of mylist: {1}'.format(mylist, id(mylist)))\n",
    "mydict['three'] =3\n",
    "print('mydict: {0}, id of mydict: {1}'.format(mydict, id(mydict)))\n",
    "myset.add('Lamda')\n",
    "print('myset: {0}, id of myset: {1}'.format(myset, id(myset)))"
   ]
  },
  {
   "cell_type": "markdown",
   "metadata": {},
   "source": [
    "# Number (数字)\n",
    "* Python3 支持 int、float、bool、complex（复数）。\n",
    "* 在Python 3里，只有一种整数类型 int，表示为长整型，没有 python2 中的 Long。\n",
    "* 像大多数语言一样，数值类型的赋值和计算都是很直观的。\n",
    "* 内置的 type() 函数可以用来查询变量所指的对象类型。\n",
    "* 注意：在 Python2 中是没有布尔型的，它用数字 0 表示 False，用 1 表示 True。到 Python3 中，把 True 和 False 定义成关键字了，但它们的值还是 1 和 0，它们可以和数字相加"
   ]
  },
  {
   "cell_type": "code",
   "execution_count": 10,
   "metadata": {},
   "outputs": [
    {
     "name": "stdout",
     "output_type": "stream",
     "text": [
      "<class 'int'> <class 'float'> <class 'bool'> <class 'complex'>\n",
      "e is 6.5\n"
     ]
    }
   ],
   "source": [
    "a, b, c, d = 20, 5.5, True, 4+3j\n",
    "print(type(a), type(b), type(c), type(d))\n",
    "e = b + c\n",
    "print('e is {0}'.format(e))"
   ]
  },
  {
   "cell_type": "markdown",
   "metadata": {},
   "source": [
    "还可以使用isinstance来判断类型"
   ]
  },
  {
   "cell_type": "code",
   "execution_count": 27,
   "metadata": {},
   "outputs": [
    {
     "name": "stdout",
     "output_type": "stream",
     "text": [
      "True\n"
     ]
    }
   ],
   "source": [
    "a = 111\n",
    "print(isinstance(a, int))"
   ]
  },
  {
   "cell_type": "markdown",
   "metadata": {},
   "source": [
    "isinstance和type的区别: \n",
    "* type()不会认为子类是一种父类类型\n",
    "* isinstance()会认为子类是一种父类类型"
   ]
  },
  {
   "cell_type": "code",
   "execution_count": 29,
   "metadata": {},
   "outputs": [
    {
     "name": "stdout",
     "output_type": "stream",
     "text": [
      "True\n",
      "True\n",
      "True\n",
      "False\n"
     ]
    }
   ],
   "source": [
    "class A:\n",
    "    pass\n",
    "\n",
    "class B(A):\n",
    "    pass\n",
    "\n",
    "print(isinstance(A(), A))  # returns True\n",
    "print(type(A()) == A)      # returns True\n",
    "print(isinstance(B(), A))    # returns True\n",
    "print(type(B()) == A)        # returns False"
   ]
  },
  {
   "cell_type": "markdown",
   "metadata": {},
   "source": [
    "当我们指定一个值时，Number对象就会被创建，此外可以使用del语句删除一些对象引用，如："
   ]
  },
  {
   "cell_type": "code",
   "execution_count": 12,
   "metadata": {},
   "outputs": [
    {
     "name": "stdout",
     "output_type": "stream",
     "text": [
      "a is 100\n"
     ]
    },
    {
     "ename": "NameError",
     "evalue": "name 'a' is not defined",
     "output_type": "error",
     "traceback": [
      "\u001b[1;31m---------------------------------------------------------------------------\u001b[0m",
      "\u001b[1;31mNameError\u001b[0m                                 Traceback (most recent call last)",
      "\u001b[1;32m<ipython-input-12-42114642f4f9>\u001b[0m in \u001b[0;36m<module>\u001b[1;34m()\u001b[0m\n\u001b[0;32m      2\u001b[0m \u001b[0mprint\u001b[0m\u001b[1;33m(\u001b[0m\u001b[1;34m'a is {0}'\u001b[0m\u001b[1;33m.\u001b[0m\u001b[0mformat\u001b[0m\u001b[1;33m(\u001b[0m\u001b[0ma\u001b[0m\u001b[1;33m)\u001b[0m\u001b[1;33m)\u001b[0m\u001b[1;33m\u001b[0m\u001b[0m\n\u001b[0;32m      3\u001b[0m \u001b[1;32mdel\u001b[0m \u001b[0ma\u001b[0m\u001b[1;33m\u001b[0m\u001b[0m\n\u001b[1;32m----> 4\u001b[1;33m \u001b[0mprint\u001b[0m\u001b[1;33m(\u001b[0m\u001b[1;34m'a is {0}'\u001b[0m\u001b[1;33m.\u001b[0m\u001b[0mformat\u001b[0m\u001b[1;33m(\u001b[0m\u001b[0ma\u001b[0m\u001b[1;33m)\u001b[0m\u001b[1;33m)\u001b[0m\u001b[1;33m\u001b[0m\u001b[0m\n\u001b[0m",
      "\u001b[1;31mNameError\u001b[0m: name 'a' is not defined"
     ]
    }
   ],
   "source": [
    "a = 100\n",
    "print('a is {0}'.format(a))\n",
    "del a\n",
    "print('a is {0}'.format(a))"
   ]
  },
  {
   "cell_type": "markdown",
   "metadata": {},
   "source": [
    "## 数值运算\n"
   ]
  },
  {
   "cell_type": "code",
   "execution_count": 34,
   "metadata": {},
   "outputs": [
    {
     "name": "stdout",
     "output_type": "stream",
     "text": [
      "9 2.3 21 0.5 0 2 32\n"
     ]
    }
   ],
   "source": [
    "print(5+4, 4.3 - 2, 3 * 7, 2/4, 2 //4, 17 % 3, 2** 5)"
   ]
  },
  {
   "cell_type": "markdown",
   "metadata": {},
   "source": [
    "注意：\n",
    "* 1 Python可以同时为多个变量赋值，如a, b = 1, 2。\n",
    "* 2 一个变量可以通过赋值指向不同类型的对象。\n",
    "* 3 数值的除法包含两个运算符：/ 返回一个浮点数，// 返回一个整数。\n",
    "* 4 在混合计算时，Python会把整型转换成为浮点数。"
   ]
  },
  {
   "cell_type": "markdown",
   "metadata": {},
   "source": [
    "# String (字符串)\n",
    "* Python中的字符串用单引号(')或双引号(\")括起来，同时使用反斜杠(\\\\)转义特殊字符"
   ]
  },
  {
   "cell_type": "markdown",
   "metadata": {},
   "source": [
    "字符串的截取的语法格式如下：\n",
    "* 索引值以 0 为开始值，-1 为从末尾的开始位置\n",
    "* 加号 (+) 是字符串的连接符， 星号 (*) 表示复制当前字符串，紧跟的数字为复制的次数"
   ]
  },
  {
   "cell_type": "markdown",
   "metadata": {},
   "source": [
    "变量[头下标:尾下标]"
   ]
  },
  {
   "cell_type": "code",
   "execution_count": 39,
   "metadata": {},
   "outputs": [
    {
     "name": "stdout",
     "output_type": "stream",
     "text": [
      "Ronaldo\n",
      "Ronald\n",
      "R\n",
      "nal\n",
      "naldo\n",
      "RonaldoRonaldo\n",
      "RonaldoTEST\n"
     ]
    }
   ],
   "source": [
    "str = 'Ronaldo'\n",
    "print(str)\n",
    "print(str[0:-1])  #输出第一个到倒数第二个的所有字符\n",
    "print(str[0]) #输出第一个字符\n",
    "print(str[2:5]) #输出从第三个开始到第五个的字符\n",
    "print(str[2:]) #输出从第三个开始后的所有字符\n",
    "print(str * 2) #输出字符串两次\n",
    "print(str + 'TEST') #链接字符串"
   ]
  },
  {
   "cell_type": "markdown",
   "metadata": {},
   "source": [
    "Python使用反斜杠(\\)转义特殊字符，如果不想让反斜杠发生转义，可以在字符串前面添加一个r，表示原始字符串:"
   ]
  },
  {
   "cell_type": "code",
   "execution_count": 40,
   "metadata": {},
   "outputs": [
    {
     "name": "stdout",
     "output_type": "stream",
     "text": [
      "Ro\n",
      "aldo\n",
      "Ro\\naldo\n"
     ]
    }
   ],
   "source": [
    "print('Ro\\naldo')\n",
    "print(r'Ro\\naldo')"
   ]
  },
  {
   "cell_type": "markdown",
   "metadata": {},
   "source": [
    "可以使用\"\"\"...\"\"\"或者'''...'''跨越多行"
   ]
  },
  {
   "cell_type": "code",
   "execution_count": 42,
   "metadata": {},
   "outputs": [
    {
     "name": "stdout",
     "output_type": "stream",
     "text": [
      "\n",
      "This is sample,\n",
      "it's very easy.\n",
      "\n"
     ]
    }
   ],
   "source": [
    "str = \"\"\"\n",
    "This is sample,\n",
    "it's very easy.\n",
    "\"\"\"\n",
    "print(str)"
   ]
  },
  {
   "cell_type": "markdown",
   "metadata": {},
   "source": [
    "Python没有单独的字符类型 (char)，一个字符就是长度为1的字符串"
   ]
  },
  {
   "cell_type": "code",
   "execution_count": 17,
   "metadata": {},
   "outputs": [
    {
     "name": "stdout",
     "output_type": "stream",
     "text": [
      "P n\n",
      "n P\n",
      "Pyt\n"
     ]
    }
   ],
   "source": [
    "word = 'Python'\n",
    "print(word[0], word[5])\n",
    "print(word[-1], word[-6])\n",
    "print(word[0:3])"
   ]
  },
  {
   "cell_type": "markdown",
   "metadata": {},
   "source": [
    "与 C 字符串不同的是，Python 字符串不能被改变。向一个索引位置赋值，比如word[0] = 'm'会导致错误\n",
    "注意：\n",
    "* 1、反斜杠可以用来转义，使用r可以让反斜杠不发生转义。\n",
    "* 2、字符串可以用+运算符连接在一起，用*运算符重复。\n",
    "* 3、Python中的字符串有两种索引方式，从左往右以0开始，从右往左以-1开始。\n",
    "* 4、Python中的字符串不能改变。"
   ]
  },
  {
   "cell_type": "markdown",
   "metadata": {},
   "source": [
    "# List(列表)\n",
    "* List（列表） 是 Python 中使用最频繁的数据类型，列表也是矩阵处理或者数据挖掘相关的Numpy，Pandas的数据结构基础\n",
    "* 列表可以完成大多数集合类的数据结构实现。列表中元素的类型可以不相同，它支持数字，字符串甚至可以包含列表（所谓嵌套）\n",
    "* 列表是写在方括号([])之间、用逗号分隔开的元素列表\n",
    "* 和字符串一样，列表同样可以被索引和截取，列表被截取后返回一个包含所需元素的新列表\n",
    "* 列表截取的语法格式如下： 变量[头下标:尾下标]"
   ]
  },
  {
   "cell_type": "markdown",
   "metadata": {},
   "source": [
    "* 索引值是以0为开始值，-1为从末尾的开始位置\n",
    "* 加号(+)是列表连接运算符，星号(*)是重复操作"
   ]
  },
  {
   "cell_type": "code",
   "execution_count": 21,
   "metadata": {},
   "outputs": [
    {
     "name": "stdout",
     "output_type": "stream",
     "text": [
      "[566, 2.65]\n",
      "[2.65, 'Blade', 100.22]\n",
      "[123, 'Joe', 123, 'Joe']\n",
      "['abcd', 566, 2.65, 'Blade', 100.22, 123, 'Joe']\n",
      "0 abcd\n",
      "1 566\n",
      "2 2.65\n",
      "3 Blade\n",
      "4 100.22\n",
      "0 abcd\n",
      "1 566\n",
      "2 2.65\n",
      "3 Blade\n",
      "4 100.22\n"
     ]
    }
   ],
   "source": [
    "list = ['abcd', 566, 2.65, 'Blade', 100.22]\n",
    "tinylist = [123, 'Joe']\n",
    "#print(list)\n",
    "#print(list[0])\n",
    "print(list[1:3])\n",
    "print(list[2:])\n",
    "print(tinylist * 2)\n",
    "print(list + tinylist)\n",
    "for index, value in enumerate(list):\n",
    "    print(index, value)\n",
    "\n",
    "count = 0\n",
    "for value in list:\n",
    "    print(count, value)\n",
    "    count += 1"
   ]
  },
  {
   "cell_type": "markdown",
   "metadata": {},
   "source": [
    "与Python字符串不一样的是，列表中的元素是可以改变的"
   ]
  },
  {
   "cell_type": "code",
   "execution_count": 46,
   "metadata": {},
   "outputs": [
    {
     "name": "stdout",
     "output_type": "stream",
     "text": [
      "[1, 2, 3, 4, 5, 6]\n",
      "[9, 2, 3, 4, 5, 6]\n",
      "[9, 2, 13, 14, 15, 6]\n",
      "[9, 2, 6]\n"
     ]
    }
   ],
   "source": [
    "numberlist = [1, 2, 3, 4, 5, 6]\n",
    "print(numberlist)\n",
    "numberlist[0] = 9\n",
    "print(numberlist)\n",
    "numberlist[2: 5] = [13, 14, 15]\n",
    "print(numberlist)\n",
    "numberlist[2:5] = []\n",
    "print(numberlist)"
   ]
  },
  {
   "cell_type": "markdown",
   "metadata": {},
   "source": [
    "List内置了很多方法，可以使用help(list)了解"
   ]
  },
  {
   "cell_type": "code",
   "execution_count": 47,
   "metadata": {},
   "outputs": [
    {
     "name": "stdout",
     "output_type": "stream",
     "text": [
      "Help on list object:\n",
      "\n",
      "class list(object)\n",
      " |  list() -> new empty list\n",
      " |  list(iterable) -> new list initialized from iterable's items\n",
      " |  \n",
      " |  Methods defined here:\n",
      " |  \n",
      " |  __add__(self, value, /)\n",
      " |      Return self+value.\n",
      " |  \n",
      " |  __contains__(self, key, /)\n",
      " |      Return key in self.\n",
      " |  \n",
      " |  __delitem__(self, key, /)\n",
      " |      Delete self[key].\n",
      " |  \n",
      " |  __eq__(self, value, /)\n",
      " |      Return self==value.\n",
      " |  \n",
      " |  __ge__(self, value, /)\n",
      " |      Return self>=value.\n",
      " |  \n",
      " |  __getattribute__(self, name, /)\n",
      " |      Return getattr(self, name).\n",
      " |  \n",
      " |  __getitem__(...)\n",
      " |      x.__getitem__(y) <==> x[y]\n",
      " |  \n",
      " |  __gt__(self, value, /)\n",
      " |      Return self>value.\n",
      " |  \n",
      " |  __iadd__(self, value, /)\n",
      " |      Implement self+=value.\n",
      " |  \n",
      " |  __imul__(self, value, /)\n",
      " |      Implement self*=value.\n",
      " |  \n",
      " |  __init__(self, /, *args, **kwargs)\n",
      " |      Initialize self.  See help(type(self)) for accurate signature.\n",
      " |  \n",
      " |  __iter__(self, /)\n",
      " |      Implement iter(self).\n",
      " |  \n",
      " |  __le__(self, value, /)\n",
      " |      Return self<=value.\n",
      " |  \n",
      " |  __len__(self, /)\n",
      " |      Return len(self).\n",
      " |  \n",
      " |  __lt__(self, value, /)\n",
      " |      Return self<value.\n",
      " |  \n",
      " |  __mul__(self, value, /)\n",
      " |      Return self*value.n\n",
      " |  \n",
      " |  __ne__(self, value, /)\n",
      " |      Return self!=value.\n",
      " |  \n",
      " |  __new__(*args, **kwargs) from builtins.type\n",
      " |      Create and return a new object.  See help(type) for accurate signature.\n",
      " |  \n",
      " |  __repr__(self, /)\n",
      " |      Return repr(self).\n",
      " |  \n",
      " |  __reversed__(...)\n",
      " |      L.__reversed__() -- return a reverse iterator over the list\n",
      " |  \n",
      " |  __rmul__(self, value, /)\n",
      " |      Return self*value.\n",
      " |  \n",
      " |  __setitem__(self, key, value, /)\n",
      " |      Set self[key] to value.\n",
      " |  \n",
      " |  __sizeof__(...)\n",
      " |      L.__sizeof__() -- size of L in memory, in bytes\n",
      " |  \n",
      " |  append(...)\n",
      " |      L.append(object) -> None -- append object to end\n",
      " |  \n",
      " |  clear(...)\n",
      " |      L.clear() -> None -- remove all items from L\n",
      " |  \n",
      " |  copy(...)\n",
      " |      L.copy() -> list -- a shallow copy of L\n",
      " |  \n",
      " |  count(...)\n",
      " |      L.count(value) -> integer -- return number of occurrences of value\n",
      " |  \n",
      " |  extend(...)\n",
      " |      L.extend(iterable) -> None -- extend list by appending elements from the iterable\n",
      " |  \n",
      " |  index(...)\n",
      " |      L.index(value, [start, [stop]]) -> integer -- return first index of value.\n",
      " |      Raises ValueError if the value is not present.\n",
      " |  \n",
      " |  insert(...)\n",
      " |      L.insert(index, object) -- insert object before index\n",
      " |  \n",
      " |  pop(...)\n",
      " |      L.pop([index]) -> item -- remove and return item at index (default last).\n",
      " |      Raises IndexError if list is empty or index is out of range.\n",
      " |  \n",
      " |  remove(...)\n",
      " |      L.remove(value) -> None -- remove first occurrence of value.\n",
      " |      Raises ValueError if the value is not present.\n",
      " |  \n",
      " |  reverse(...)\n",
      " |      L.reverse() -- reverse *IN PLACE*\n",
      " |  \n",
      " |  sort(...)\n",
      " |      L.sort(key=None, reverse=False) -> None -- stable sort *IN PLACE*\n",
      " |  \n",
      " |  ----------------------------------------------------------------------\n",
      " |  Data and other attributes defined here:\n",
      " |  \n",
      " |  __hash__ = None\n",
      "\n"
     ]
    }
   ],
   "source": [
    "help(list)"
   ]
  },
  {
   "cell_type": "markdown",
   "metadata": {},
   "source": [
    "注意：\n",
    "* 1、List写在方括号之间，元素用逗号隔开。\n",
    "* 2、和字符串一样，list可以被索引和切片。\n",
    "* 3、List可以使用+操作符进行拼接。\n",
    "* 4、List中的元素是可以改变的。"
   ]
  },
  {
   "cell_type": "markdown",
   "metadata": {},
   "source": [
    "# Tuple (元组)\n",
    "* 元组（tuple）与列表类似，不同之处在于元组的元素不能修改。元组写在小括号 () 里，元素之间用逗号隔开。\n",
    "* 元组中的元素类型也可以不相同\n",
    "* 可以把字符串看作一种特殊的元组"
   ]
  },
  {
   "cell_type": "code",
   "execution_count": 1,
   "metadata": {},
   "outputs": [
    {
     "name": "stdout",
     "output_type": "stream",
     "text": [
      "('abc', 1234, 2.355, 'Cup')\n",
      "abc\n",
      "(1234, 2.355)\n",
      "(2.355, 'Cup')\n",
      "('good', 888, 'good', 888)\n",
      "('abc', 1234, 2.355, 'Cup', 'good', 888)\n"
     ]
    }
   ],
   "source": [
    "tuple = ('abc', 1234, 2.355, 'Cup')\n",
    "tinytuple = ('good', 888)\n",
    "print (tuple)             # 输出完整元组\n",
    "print (tuple[0])          # 输出元组的第一个元素\n",
    "print (tuple[1:3])        # 输出从第二个元素开始到第三个元素\n",
    "print (tuple[2:])         # 输出从第三个元素开始的所有元素\n",
    "print (tinytuple * 2)     # 输出两次元组\n",
    "print (tuple + tinytuple) # 连接元组"
   ]
  },
  {
   "cell_type": "code",
   "execution_count": 2,
   "metadata": {},
   "outputs": [
    {
     "ename": "TypeError",
     "evalue": "'tuple' object does not support item assignment",
     "output_type": "error",
     "traceback": [
      "\u001b[1;31m---------------------------------------------------------------------------\u001b[0m",
      "\u001b[1;31mTypeError\u001b[0m                                 Traceback (most recent call last)",
      "\u001b[1;32m<ipython-input-2-331b18d8edb3>\u001b[0m in \u001b[0;36m<module>\u001b[1;34m()\u001b[0m\n\u001b[1;32m----> 1\u001b[1;33m \u001b[0mtuple\u001b[0m\u001b[1;33m[\u001b[0m\u001b[1;36m0\u001b[0m\u001b[1;33m]\u001b[0m \u001b[1;33m=\u001b[0m \u001b[1;34m'cde'\u001b[0m \u001b[1;31m#修改元组的元素，是非法的\u001b[0m\u001b[1;33m\u001b[0m\u001b[0m\n\u001b[0m",
      "\u001b[1;31mTypeError\u001b[0m: 'tuple' object does not support item assignment"
     ]
    }
   ],
   "source": [
    "tuple[0] = 'cde' #修改元组的元素，是非法的"
   ]
  },
  {
   "cell_type": "markdown",
   "metadata": {},
   "source": [
    "string, list和tuple都属于sequence (序列)"
   ]
  },
  {
   "cell_type": "markdown",
   "metadata": {},
   "source": [
    "# Set (集合)\n",
    "* 集合（set）是一个无序不重复元素的序列。\n",
    "* 基本功能是进行成员关系测试和删除重复元素。\n",
    "* 可以使用大括号 { } 或者 set() 函数创建集合，注意：创建一个空集合必须用 set() 而不是 { }，因为 { } 是用来创建一个空字典。\n",
    "* 创建格式： parame = {value1, value2, ... } 或者 set(value)"
   ]
  },
  {
   "cell_type": "code",
   "execution_count": 7,
   "metadata": {},
   "outputs": [
    {
     "name": "stdout",
     "output_type": "stream",
     "text": [
      "{'Tom', 'Rose', 'Jim', 'Kate', 'Mary'}\n",
      "Rose 在集合中\n",
      "a is:  {'c', 'r', 'b', 'd', 'a'}\n",
      "b is:  {'c', 'z', 'm', 'l', 'a'}\n",
      "{'r', 'd', 'b'}\n",
      "{'c', 'r', 'b', 'd', 'z', 'm', 'a', 'l'}\n",
      "{'c', 'a'}\n",
      "{'b', 'd', 'z', 'm', 'l', 'r'}\n"
     ]
    }
   ],
   "source": [
    "student = {'Tom', 'Jim', 'Mary', 'Tom', 'Kate', 'Rose'}\n",
    "print(student) #输出集合，重复的元素被自动去掉\n",
    "# 成员测试\n",
    "if('Rose' in student) :\n",
    "    print('Rose 在集合中')\n",
    "else :\n",
    "    print('Rose 不在集合中')\n",
    " \n",
    "# set可以进行集合运算\n",
    "a = set('abracadabra')\n",
    "b = set('alacazam')\n",
    " \n",
    "print('a is: ', a)\n",
    "print('b is: ', b)\n",
    "print(a - b)     # a和b的差集\n",
    "print(a | b)     # a和b的并集\n",
    "print(a & b)     # a和b的交集\n",
    "print(a ^ b)     # a和b中不同时存在的元素"
   ]
  },
  {
   "cell_type": "markdown",
   "metadata": {},
   "source": [
    "# Dictionary (字典)\n",
    "* 字典（dictionary）是Python中另一个非常有用的内置数据类型。\n",
    "* 列表是有序的对象集合，字典是无序的对象集合。两者之间的区别在于：字典当中的元素是通过键来存取的，而不是通过偏移存取。\n",
    "* 字典是一种映射类型，字典用\"{ }\"标识，它是一个无序的键(key) : 值(value)对集合。\n",
    "* 键(key)必须使用不可变类型。\n",
    "* 在同一个字典中，键(key)必须是唯一的\n",
    "* 我们经常通过字典结构，存储或处理Json数据"
   ]
  },
  {
   "cell_type": "code",
   "execution_count": 26,
   "metadata": {
    "scrolled": true
   },
   "outputs": [
    {
     "name": "stdout",
     "output_type": "stream",
     "text": [
      "S&P 500\n",
      "Safe Bond\n",
      "{'name': 'Training', 'code': 1, 'purpose': 'Base data type'}\n",
      "dict_keys(['name', 'code', 'purpose'])\n",
      "dict_values(['Training', 1, 'Base data type'])\n"
     ]
    }
   ],
   "source": [
    "dictsample = {}\n",
    "dictsample['fund1'] = 'S&P 500'\n",
    "dictsample[2] = 'Safe Bond'\n",
    "tinydict = {'name': 'Training', 'code': 1, 'purpose': \"Base data type\"}\n",
    "print (dictsample['fund1'])       # 输出键为 'one' 的值\n",
    "print (dictsample[2])           # 输出键为 2 的值\n",
    "print (tinydict)          # 输出完整的字典\n",
    "print (tinydict.keys())   # 输出所有键\n",
    "print (tinydict.values()) # 输出所有值"
   ]
  },
  {
   "cell_type": "code",
   "execution_count": 31,
   "metadata": {},
   "outputs": [
    {
     "name": "stdout",
     "output_type": "stream",
     "text": [
      "S&P 500\n",
      "Safe Bond\n"
     ]
    }
   ],
   "source": [
    "for key in dictsample.keys():\n",
    "    print(dictsample[key])"
   ]
  },
  {
   "cell_type": "code",
   "execution_count": 32,
   "metadata": {},
   "outputs": [
    {
     "name": "stdout",
     "output_type": "stream",
     "text": [
      "fund1 :  S&P 500\n",
      "2 :  Safe Bond\n"
     ]
    }
   ],
   "source": [
    "for key, value in dictsample.items():\n",
    "    print(key, ': ', value)"
   ]
  },
  {
   "cell_type": "markdown",
   "metadata": {},
   "source": [
    "构造函数 dict() 可以直接从键值对序列中构建字典如下"
   ]
  },
  {
   "cell_type": "code",
   "execution_count": 30,
   "metadata": {},
   "outputs": [
    {
     "name": "stdout",
     "output_type": "stream",
     "text": [
      "{2: 4, 4: 16, 6: 36}\n",
      "{'Jingdong': 1, 'Google': 2, 'Taobao': 3}\n",
      "{'Jingdong': 1, 'Google': 2, 'Taobao': 3}\n"
     ]
    }
   ],
   "source": [
    "mydict = {x: x**2 for x in (2, 4, 6)}\n",
    "print(mydict)\n",
    "\n",
    "newdict = dict(Jingdong=1, Google=2, Taobao=3)\n",
    "print(newdict)\n",
    "\n",
    "constructdict = dict([('Jingdong', 1), ('Google', 2), ('Taobao', 3)])\n",
    "print(constructdict)"
   ]
  },
  {
   "cell_type": "code",
   "execution_count": 22,
   "metadata": {},
   "outputs": [
    {
     "name": "stdout",
     "output_type": "stream",
     "text": [
      "Help on class dict in module builtins:\n",
      "\n",
      "class dict(object)\n",
      " |  dict() -> new empty dictionary\n",
      " |  dict(mapping) -> new dictionary initialized from a mapping object's\n",
      " |      (key, value) pairs\n",
      " |  dict(iterable) -> new dictionary initialized as if via:\n",
      " |      d = {}\n",
      " |      for k, v in iterable:\n",
      " |          d[k] = v\n",
      " |  dict(**kwargs) -> new dictionary initialized with the name=value pairs\n",
      " |      in the keyword argument list.  For example:  dict(one=1, two=2)\n",
      " |  \n",
      " |  Methods defined here:\n",
      " |  \n",
      " |  __contains__(self, key, /)\n",
      " |      True if D has a key k, else False.\n",
      " |  \n",
      " |  __delitem__(self, key, /)\n",
      " |      Delete self[key].\n",
      " |  \n",
      " |  __eq__(self, value, /)\n",
      " |      Return self==value.\n",
      " |  \n",
      " |  __ge__(self, value, /)\n",
      " |      Return self>=value.\n",
      " |  \n",
      " |  __getattribute__(self, name, /)\n",
      " |      Return getattr(self, name).\n",
      " |  \n",
      " |  __getitem__(...)\n",
      " |      x.__getitem__(y) <==> x[y]\n",
      " |  \n",
      " |  __gt__(self, value, /)\n",
      " |      Return self>value.\n",
      " |  \n",
      " |  __init__(self, /, *args, **kwargs)\n",
      " |      Initialize self.  See help(type(self)) for accurate signature.\n",
      " |  \n",
      " |  __iter__(self, /)\n",
      " |      Implement iter(self).\n",
      " |  \n",
      " |  __le__(self, value, /)\n",
      " |      Return self<=value.\n",
      " |  \n",
      " |  __len__(self, /)\n",
      " |      Return len(self).\n",
      " |  \n",
      " |  __lt__(self, value, /)\n",
      " |      Return self<value.\n",
      " |  \n",
      " |  __ne__(self, value, /)\n",
      " |      Return self!=value.\n",
      " |  \n",
      " |  __new__(*args, **kwargs) from builtins.type\n",
      " |      Create and return a new object.  See help(type) for accurate signature.\n",
      " |  \n",
      " |  __repr__(self, /)\n",
      " |      Return repr(self).\n",
      " |  \n",
      " |  __setitem__(self, key, value, /)\n",
      " |      Set self[key] to value.\n",
      " |  \n",
      " |  __sizeof__(...)\n",
      " |      D.__sizeof__() -> size of D in memory, in bytes\n",
      " |  \n",
      " |  clear(...)\n",
      " |      D.clear() -> None.  Remove all items from D.\n",
      " |  \n",
      " |  copy(...)\n",
      " |      D.copy() -> a shallow copy of D\n",
      " |  \n",
      " |  fromkeys(iterable, value=None, /) from builtins.type\n",
      " |      Returns a new dict with keys from iterable and values equal to value.\n",
      " |  \n",
      " |  get(...)\n",
      " |      D.get(k[,d]) -> D[k] if k in D, else d.  d defaults to None.\n",
      " |  \n",
      " |  items(...)\n",
      " |      D.items() -> a set-like object providing a view on D's items\n",
      " |  \n",
      " |  keys(...)\n",
      " |      D.keys() -> a set-like object providing a view on D's keys\n",
      " |  \n",
      " |  pop(...)\n",
      " |      D.pop(k[,d]) -> v, remove specified key and return the corresponding value.\n",
      " |      If key is not found, d is returned if given, otherwise KeyError is raised\n",
      " |  \n",
      " |  popitem(...)\n",
      " |      D.popitem() -> (k, v), remove and return some (key, value) pair as a\n",
      " |      2-tuple; but raise KeyError if D is empty.\n",
      " |  \n",
      " |  setdefault(...)\n",
      " |      D.setdefault(k[,d]) -> D.get(k,d), also set D[k]=d if k not in D\n",
      " |  \n",
      " |  update(...)\n",
      " |      D.update([E, ]**F) -> None.  Update D from dict/iterable E and F.\n",
      " |      If E is present and has a .keys() method, then does:  for k in E: D[k] = E[k]\n",
      " |      If E is present and lacks a .keys() method, then does:  for k, v in E: D[k] = v\n",
      " |      In either case, this is followed by: for k in F:  D[k] = F[k]\n",
      " |  \n",
      " |  values(...)\n",
      " |      D.values() -> an object providing a view on D's values\n",
      " |  \n",
      " |  ----------------------------------------------------------------------\n",
      " |  Data and other attributes defined here:\n",
      " |  \n",
      " |  __hash__ = None\n",
      "\n"
     ]
    }
   ],
   "source": [
    "help(dict)"
   ]
  },
  {
   "cell_type": "code",
   "execution_count": null,
   "metadata": {},
   "outputs": [],
   "source": []
  }
 ],
 "metadata": {
  "kernelspec": {
   "display_name": "Python 3",
   "language": "python",
   "name": "python3"
  },
  "language_info": {
   "codemirror_mode": {
    "name": "ipython",
    "version": 3
   },
   "file_extension": ".py",
   "mimetype": "text/x-python",
   "name": "python",
   "nbconvert_exporter": "python",
   "pygments_lexer": "ipython3",
   "version": "3.6.2"
  },
  "toc": {
   "base_numbering": 1,
   "nav_menu": {},
   "number_sections": true,
   "sideBar": true,
   "skip_h1_title": false,
   "title_cell": "Table of Contents",
   "title_sidebar": "Contents",
   "toc_cell": false,
   "toc_position": {},
   "toc_section_display": true,
   "toc_window_display": true
  }
 },
 "nbformat": 4,
 "nbformat_minor": 2
}
